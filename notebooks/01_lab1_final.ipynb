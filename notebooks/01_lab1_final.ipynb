{
  "cells": [
    {
      "cell_type": "markdown",
      "id": "0cfef7a8",
      "metadata": {
        "id": "0cfef7a8"
      },
      "source": [
        "# **Lab 1 - Modelling and computation in hazard assessment**\n"
      ]
    },
    {
      "cell_type": "markdown",
      "id": "ab764f22",
      "metadata": {
        "id": "ab764f22"
      },
      "source": [
        "There are two lab days;\n",
        "\n",
        "\n",
        "* Lab 1: 26 February 2025\n",
        "* Lab 2: 27 February 2025"
      ]
    },
    {
      "cell_type": "markdown",
      "id": "e494e1c2",
      "metadata": {
        "id": "e494e1c2"
      },
      "source": [
        "We will start with Lab 1 that introduces fundamental data analysis and modelling concepts that will be demostrated in the lectures of the Computation and Modelling in Hazard Assessment training."
      ]
    },
    {
      "cell_type": "markdown",
      "id": "5410498a",
      "metadata": {
        "id": "5410498a"
      },
      "source": [
        "\n",
        "\n",
        "1.   First we will prepare our computer, load in the data and perform some initial explorative analysis to get an impression of the data we have at hand. We will use *in vitro* genotoxocity data and explore it by creating some illustrative visualisations. Section \"General preparations\"."
      ]
    },
    {
      "cell_type": "markdown",
      "id": "48ce6035",
      "metadata": {
        "id": "48ce6035"
      },
      "source": [
        "\n",
        "2.   Then we will convert some of our data. The algorithm that we would like to design requires a different kind of data format compared to the data at hand, hence we need to convert the current data into a format that is accepted by the algorithm. We will convert molecular structures to morgan finger prints. Section \"Data conversion for NN application\".\n"
      ]
    },
    {
      "cell_type": "markdown",
      "id": "028fcf73",
      "metadata": {
        "id": "028fcf73"
      },
      "source": [
        "\n",
        "\n",
        "3.   Finally, we'll develop our first neural network (NN) model to classify genotoxicity. We will check the predictive power for this model and provide you an archituctural framework to monitor and control the performance of your NN. The model provides a binary classification where the result should be either \"positive\" or \"negative\" for a single prediction. Section \"Building the NN\".\n",
        "\n"
      ]
    },
    {
      "cell_type": "markdown",
      "id": "c40c626b",
      "metadata": {
        "id": "c40c626b"
      },
      "source": [
        "Note: This training is using a public computing platform and hence all data are not proprietary, not confidential and not subject to IPR restrictions. Still, the dataset has not been openly shared as this would require the inclusion of the relevant terms and conditions of the applicable licences. Be aware with using confidential data in public computing platforms and do not share this datase further."
      ]
    },
    {
      "cell_type": "markdown",
      "id": "1cf1970d",
      "metadata": {
        "id": "1cf1970d"
      },
      "source": [
        "## General preparations"
      ]
    },
    {
      "cell_type": "markdown",
      "id": "b14dce73",
      "metadata": {
        "id": "b14dce73"
      },
      "source": [
        "### Environment setup\n",
        "Firstly, let's install packages that are needed later in the tutorial and that are not natively available in google colab."
      ]
    },
    {
      "cell_type": "code",
      "execution_count": null,
      "id": "gB4LMpQmK1WM",
      "metadata": {
        "colab": {
          "base_uri": "https://localhost:8080/"
        },
        "id": "gB4LMpQmK1WM",
        "outputId": "f071f03d-2096-4ae8-fe51-753ffa6da97e"
      },
      "outputs": [],
      "source": [
        "# install the necessary packages that are not preinstalled in google colab\n",
        "!pip install rdkit\n",
        "!pip install tqdm"
      ]
    },
    {
      "cell_type": "code",
      "execution_count": null,
      "id": "i3CraZHAkYnj",
      "metadata": {
        "colab": {
          "base_uri": "https://localhost:8080/"
        },
        "id": "i3CraZHAkYnj",
        "outputId": "c3849180-dae9-4518-a9ab-40e925ada2c4"
      },
      "outputs": [],
      "source": [
        "# check versions of dependencies\n",
        "import sys\n",
        "from packaging.version import Version, InvalidVersion\n",
        "\n",
        "def get_packages(pkgs):\n",
        "  versions = []\n",
        "  for p in pkgs:\n",
        "    try:\n",
        "      imported = __import__(p)\n",
        "      try:\n",
        "        versions.append(imported.__version__)\n",
        "      except AttributeError:\n",
        "        try:\n",
        "          versions.append(imported.version)\n",
        "        except AttributeError:\n",
        "          try:\n",
        "            versions.append(imported.version_info)\n",
        "          except AttributeError:\n",
        "            versions.append('0.0')\n",
        "    except ImportError:\n",
        "      print(f'[FAIL]: {p} is not installed and/or cannot be imported.')\n",
        "      versions.append('N/A')\n",
        "  return versions\n",
        "\n",
        "print(f\"python: {sys.version}\")\n",
        "pkgs = ['torch', 'numpy', 'pandas', 'sklearn', 'rdkit', 'matplotlib', 'seaborn']\n",
        "version = get_packages(pkgs)\n",
        "for pkg, version in zip(pkgs, version):\n",
        "  print(f\"{pkg}: {version}\")"
      ]
    },
    {
      "cell_type": "code",
      "execution_count": null,
      "id": "initial_id",
      "metadata": {
        "ExecuteTime": {
          "end_time": "2024-10-28T08:54:10.807752900Z",
          "start_time": "2024-10-28T08:54:10.705819Z"
        },
        "collapsed": true,
        "id": "initial_id"
      },
      "outputs": [],
      "source": [
        "# import libraries (locally needed depedendencies will be imported when needed)\n",
        "import numpy as np\n",
        "import pandas as pd\n",
        "import requests\n",
        "from pathlib import Path\n",
        "import time\n",
        "from tqdm.notebook import tqdm\n",
        "from rdkit import Chem                        #cheminformatics\n",
        "from rdkit.Chem import AllChem                #cheminformatics\n",
        "from rdkit.Chem import Draw                   #cheminformatics\n",
        "from rdkit.Chem.Draw import rdMolDraw2D       #cheminformatics\n",
        "from rdkit.Chem.Draw import IPythonConsole    #cheminformatics\n",
        "import torch                                  #modelling\n",
        "import torch.nn.functional as F               #modelling\n",
        "from torch.utils.data import TensorDataset    #modelling\n",
        "from torch.utils.data import DataLoader       #modelling\n",
        "from sklearn.model_selection import train_test_split  #modelling\n",
        "from sklearn.metrics import roc_auc_score             #modelling\n",
        "from sklearn.metrics import balanced_accuracy_score   #modelling\n",
        "from sklearn.metrics import recall_score              #modelling\n",
        "import matplotlib.pyplot as plt               #visualisation\n",
        "import seaborn as sns                         #visualisation\n",
        "%matplotlib inline"
      ]
    },
    {
      "cell_type": "code",
      "execution_count": null,
      "id": "386ocxlFlyi0",
      "metadata": {
        "id": "386ocxlFlyi0"
      },
      "outputs": [],
      "source": [
        "# enable progress bar for the pandas.apply\n",
        "tqdm.pandas()"
      ]
    },
    {
      "cell_type": "code",
      "execution_count": null,
      "id": "JH2mbbfPmE60",
      "metadata": {
        "id": "JH2mbbfPmE60"
      },
      "outputs": [],
      "source": [
        "# setup pandas\n",
        "pd.set_option('expand_frame_repr', False)\n",
        "pd.set_option(\"display.max_columns\", 50)\n",
        "pd.set_option(\"display.max_rows\", 100)\n",
        "pd.set_option(\"display.precision\",3)\n",
        "pd.set_option(\"max_colwidth\", 250)\n",
        "pd.options.mode.copy_on_write = True"
      ]
    },
    {
      "cell_type": "code",
      "execution_count": null,
      "id": "ktgXmFrsIbHl",
      "metadata": {
        "colab": {
          "base_uri": "https://localhost:8080/"
        },
        "id": "ktgXmFrsIbHl",
        "outputId": "70656601-12a7-4db7-ca3e-0ad8a4755705"
      },
      "outputs": [],
      "source": [
        "# mount the google drive in case we wish to persist results, this cell is not necessary for the remaining of the Lab\n",
        "from google.colab import drive\n",
        "drive.mount('/content/drive')"
      ]
    },
    {
      "cell_type": "markdown",
      "id": "8MOEyaH6rmGM",
      "metadata": {
        "id": "8MOEyaH6rmGM"
      },
      "source": [
        "### Load the dataset\n",
        "\n",
        "The dataset we will be using has been stored in the Github repository that was set up for this training. It will be fetched and stored in the space that is is temporarily created when the runtime environment is started."
      ]
    },
    {
      "cell_type": "code",
      "execution_count": null,
      "id": "CmqDuNzaKY0n",
      "metadata": {
        "colab": {
          "base_uri": "https://localhost:8080/"
        },
        "id": "CmqDuNzaKY0n",
        "outputId": "fd9beeb1-4a36-44c3-9a30-bd2276ddc2c9"
      },
      "outputs": [],
      "source": [
        "# fetch the dataset from the github repository\n",
        "import requests\n",
        "from getpass import getpass\n",
        "\n",
        "# Provide your GitHub credentials (will be removed when the repository becomes public)\n",
        "# token = getpass(\"Enter your GitHub token: \")\n",
        "\n",
        "# Set up the file URL\n",
        "file_url = \"https://raw.githubusercontent.com/pkaramertzanis/modelling_hazard_assessment/master/datasets/genotoxicity_dataset.xlsx\"  # Updated URL\n",
        "\n",
        "# Use the token for authentication\n",
        "# headers = {'Authorization': f'token {token}'}\n",
        "headers = {}\n",
        "response = requests.get(file_url, headers=headers)\n",
        "\n",
        "# Save the file locally\n",
        "if response.status_code == 200:\n",
        "    with open(Path(file_url).name, \"wb\") as file:\n",
        "        file.write(response.content)\n",
        "    print(\"File downloaded successfully!\")\n",
        "else:\n",
        "    print(f\"Failed to download file: {response.status_code}\")"
      ]
    },
    {
      "cell_type": "markdown",
      "id": "e9dde83d",
      "metadata": {
        "id": "e9dde83d"
      },
      "source": [
        "### Exploratory data analysis\n",
        "\n",
        "<b>What is exploratory data analysis?</b>\n",
        "\n",
        "Exploratory Data Analysis or (EDA) is all about inspecting the dataset. This is necessary for\n",
        "- deciding which datapoints to exclude, e.g. because of missing values or duplicates\n",
        "- exploring the available features and thinking which of these may be useful to include in the model with or without transformations (feature engineering)\n",
        "\n",
        "\n",
        "\n"
      ]
    },
    {
      "cell_type": "markdown",
      "id": "f545fa4c",
      "metadata": {
        "id": "f545fa4c"
      },
      "source": [
        "<b>How is exploratory data analysis done?</b>\n",
        "\n",
        "There is no single way for doing exploratory data analysis. Typically one starts with simple filters and aggragegations with a data analysis tool such as pandas, and continues with visualisations, such as histograms, boxplots and heatmaps using matplotlib or seaborn. You might realize here that this is one of the reasons it is important to understand what kind of information your data represents.\n",
        "\n",
        "There is no such thing like a complete exploratory data analysis. There is also no recipe. Often exploratory data analysis is a continuous process and may even continue after the first models have been developed and their results examined. Unexpected model results can often lead to more exploratory data analysis to understand what is causing these unexpected predictions.\n",
        "\n"
      ]
    },
    {
      "cell_type": "markdown",
      "id": "fbd7b554",
      "metadata": {
        "id": "fbd7b554"
      },
      "source": [
        "<b>What data are we exploring today?</b>\n",
        "\n",
        "For the purposes of this course we will be using a genotoxicity dataset that has been created for the purposes of this course. Genotoxicity is an important endpoint under REACH. Despite its elaborate ITS based on a cascade of in vitro and in vivo tests and several years of dossier evaluation, it is still relatively uncommon to regulate substances solely on the basis of their genotoxicity properties (see https://doi.org/10.1016/j.yrtph.2019.05.003). ECHA could use the data it has to support these discussions and the subsequent policy making. For the purposes of this tutorial we will be using a dataset with Ames test results compiled through the work of the ECHA muta expert group. Let's see what this dataset is all about!"
      ]
    },
    {
      "cell_type": "code",
      "execution_count": null,
      "id": "iZJqNbDSti1A",
      "metadata": {
        "colab": {
          "base_uri": "https://localhost:8080/",
          "height": 763
        },
        "id": "iZJqNbDSti1A",
        "outputId": "b29c0be1-9fb6-413d-8604-25868b9d3c60"
      },
      "outputs": [],
      "source": [
        "# The figure below is from https://doi.org/10.1016/j.yrtph.2019.05.003 cited above\n",
        "from PIL import Image\n",
        "from io import BytesIO\n",
        "from IPython.display import display\n",
        "import requests\n",
        "import math\n",
        "url = 'https://ars.els-cdn.com/content/image/1-s2.0-S0273230019301254-gr3_lrg.jpg'\n",
        "im = Image.open(BytesIO(requests.get(url).content))\n",
        "im.info = {}\n",
        "new_width = math.ceil(im.width / 3)\n",
        "new_height = math.ceil(im.height / 3)\n",
        "im_resized = im.resize((new_width, new_height))\n",
        "display(im_resized)"
      ]
    },
    {
      "cell_type": "code",
      "execution_count": null,
      "id": "9b93849fd942748e",
      "metadata": {
        "colab": {
          "base_uri": "https://localhost:8080/",
          "height": 224
        },
        "id": "9b93849fd942748e",
        "outputId": "bcc2e924-17a8-42dd-8f1f-468c30b7b48e"
      },
      "outputs": [],
      "source": [
        "# load the dataset into a pandas dataframe\n",
        "gentox_data = pd.read_excel('genotoxicity_dataset.xlsx')\n",
        "print('there are {} records in the dataset.'.format(len(gentox_data)))\n",
        "gentox_data.head(n=5) # display the first 5 rows"
      ]
    },
    {
      "cell_type": "code",
      "execution_count": null,
      "id": "uN47q-5-wSyl",
      "metadata": {
        "colab": {
          "base_uri": "https://localhost:8080/",
          "height": 206
        },
        "id": "uN47q-5-wSyl",
        "outputId": "349a573d-6dbb-4635-cd71-e7909823290e"
      },
      "outputs": [],
      "source": [
        "gentox_data.tail(n=5) # display the last 5 rows"
      ]
    },
    {
      "cell_type": "markdown",
      "id": "5QKjOZ1Xxfuu",
      "metadata": {
        "id": "5QKjOZ1Xxfuu"
      },
      "source": [
        "#### Data types\n",
        "The different columns can be of different types, such as floats, integers, strings, datetime, objects or other."
      ]
    },
    {
      "cell_type": "code",
      "execution_count": null,
      "id": "avig7wcVw4N1",
      "metadata": {
        "colab": {
          "base_uri": "https://localhost:8080/",
          "height": 209
        },
        "id": "avig7wcVw4N1",
        "outputId": "8a336c61-2be3-47c5-cac8-1ea7618b2231"
      },
      "outputs": [],
      "source": [
        "gentox_data.dtypes"
      ]
    },
    {
      "cell_type": "markdown",
      "id": "CEcb_mp1yWG7",
      "metadata": {
        "id": "CEcb_mp1yWG7"
      },
      "source": [
        "The dataset only contains 4 columns, a datapoint ID, the structure as a smiles string, the genotoxicity outcome as a string and the endpoint, which in our case is simply the bacterial strain and metabolic activation status. Hence, there is no need to drop any column as all of them are relevant for our modelling.\n",
        "\n",
        "Although we could use the smiles as a structure ID it may be more convenient to generate one more column with the molecule ID being an integer. For each unique smiles we will assign a different molecule ID."
      ]
    },
    {
      "cell_type": "code",
      "execution_count": null,
      "id": "VFRB8ejo28EQ",
      "metadata": {
        "colab": {
          "base_uri": "https://localhost:8080/",
          "height": 423
        },
        "id": "VFRB8ejo28EQ",
        "outputId": "0494b120-aefe-46e8-ad64-feeb7a397993"
      },
      "outputs": [],
      "source": [
        "# create a molecule ID column\n",
        "codes, uniques = pd.factorize(gentox_data['smiles_std'])\n",
        "gentox_data.insert(loc=1, column='molecule ID', value=codes)\n",
        "gentox_data"
      ]
    },
    {
      "cell_type": "markdown",
      "id": "-z0_P4wO3C2Y",
      "metadata": {
        "id": "-z0_P4wO3C2Y"
      },
      "source": [
        "Nice! Now we can refer to the molecule ID column when we want to locate a given molecular structure and the datapoint ID when we want to locate a given experimental measurement. Next we will examine if there are any rows with null values. Pandas offers a convenience function for this purpose."
      ]
    },
    {
      "cell_type": "code",
      "execution_count": null,
      "id": "fy2m6aegyPpN",
      "metadata": {
        "colab": {
          "base_uri": "https://localhost:8080/"
        },
        "id": "fy2m6aegyPpN",
        "outputId": "f46b0026-ff9d-4b7d-ec74-76dcca70c0ac"
      },
      "outputs": [],
      "source": [
        "gentox_data.info()"
      ]
    },
    {
      "cell_type": "markdown",
      "id": "KHCno1H7zkO-",
      "metadata": {
        "id": "KHCno1H7zkO-"
      },
      "source": [
        "The dataset contains 27.448 rows and there are no missing values in any of the four columns. In real life applications a dataset is rarely so tidy. This dataset has been extensively curated for the purposes of this training."
      ]
    },
    {
      "cell_type": "markdown",
      "id": "teEipYLX0MvB",
      "metadata": {
        "id": "teEipYLX0MvB"
      },
      "source": [
        "#### Counts and duplicates\n",
        "\n",
        "Before we continue we can investigate how many structures we have, the number and type of strains and whether we have data for all strains for each and every structure, or if not, what is the distribution of the structures over the strains that we have."
      ]
    },
    {
      "cell_type": "code",
      "execution_count": null,
      "id": "2WKJ4bJczjmw",
      "metadata": {
        "colab": {
          "base_uri": "https://localhost:8080/",
          "height": 397
        },
        "id": "2WKJ4bJczjmw",
        "outputId": "5877ea9f-2373-46ad-8fb0-9322bfecc4e6"
      },
      "outputs": [],
      "source": [
        "# available strains and metabolic activations\n",
        "gentox_data['endpoint'].drop_duplicates().sort_values(ascending=True)"
      ]
    },
    {
      "cell_type": "markdown",
      "id": "yxf-2aVB1QTq",
      "metadata": {
        "id": "yxf-2aVB1QTq"
      },
      "source": [
        "We have data for five strains, each with and without metabolic activation. Some of the strains may be detecting the same genotoxicity mode of action. Some of these strains may also be more predictive of gene mutation than others. Any feedback from mutagenicity experts participating in the training?\n",
        "\n",
        "Next, we can count the number of structures and the data availability for each."
      ]
    },
    {
      "cell_type": "code",
      "execution_count": null,
      "id": "vmX-tKI82F5r",
      "metadata": {
        "colab": {
          "base_uri": "https://localhost:8080/"
        },
        "id": "vmX-tKI82F5r",
        "outputId": "db05f5eb-f23b-43e1-cafd-0b2901ddbddf"
      },
      "outputs": [],
      "source": [
        "# number of structures\n",
        "n_structures = gentox_data['smiles_std'].nunique()\n",
        "print(f'There are {n_structures} unique structures in the dataset.')"
      ]
    },
    {
      "cell_type": "markdown",
      "id": "rTL593sO6aNs",
      "metadata": {
        "id": "rTL593sO6aNs"
      },
      "source": [
        "It will be very confusing if there are multiple genotoxicity outcomes for same structure and endpoint. This will confuse the models and the evaluation of their predictive performance. We can check this before we continue, if we would find any we would like to remove those."
      ]
    },
    {
      "cell_type": "code",
      "execution_count": null,
      "id": "GjvxDoMD6vFo",
      "metadata": {
        "colab": {
          "base_uri": "https://localhost:8080/"
        },
        "id": "GjvxDoMD6vFo",
        "outputId": "9945fd18-9f7b-402c-b201-d1cff8b91de9"
      },
      "outputs": [],
      "source": [
        "gentox_data[['molecule ID', 'endpoint', 'genotoxicity']].duplicated().sum()"
      ]
    },
    {
      "cell_type": "markdown",
      "id": "lxbFPTWE7FHt",
      "metadata": {
        "id": "lxbFPTWE7FHt"
      },
      "source": [
        "#### Data availability\n",
        "\n",
        "There are no duplicates, which means that there is no more than one genotoxicity outcome for each molecular structure and endpoint. This does not mean that we have data for the same endpoint for each structure.\n",
        "\n",
        "In other words; we have not tested the same chemicals in all strains.\n",
        "\n",
        "Lets make an overview per strain and indicate the number of structures that are tested on these strains. In more technical terms; lets count the number of endpoints per molecular structure."
      ]
    },
    {
      "cell_type": "code",
      "execution_count": null,
      "id": "1Zwvluhz2cEL",
      "metadata": {
        "colab": {
          "base_uri": "https://localhost:8080/",
          "height": 489
        },
        "id": "1Zwvluhz2cEL",
        "outputId": "e3e008e3-da42-47fd-d2e9-ccfa57d80833"
      },
      "outputs": [],
      "source": [
        "# data availability\n",
        "gentox_data.groupby('molecule ID')['endpoint'].count()"
      ]
    },
    {
      "cell_type": "markdown",
      "id": "W_MTZrHv52Pq",
      "metadata": {
        "id": "W_MTZrHv52Pq"
      },
      "source": [
        "We can see that some molecular structures have data for all ten strain/metabolic activation combinations, whilst others are not so data rich. It will be interesting to visualise the data density for the whole dataset.\n",
        "\n",
        "We can achieve this by itterating through the \"endpoint\" column, and collecting the number of structures that have 3 endpoints, 6 endpoints, 8 endpoints, etc. If we then order this list based on \"numer of endpoints\" in descending fashion we get the following."
      ]
    },
    {
      "cell_type": "code",
      "execution_count": null,
      "id": "Ej88HHrA7yfU",
      "metadata": {
        "colab": {
          "base_uri": "https://localhost:8080/",
          "height": 429
        },
        "id": "Ej88HHrA7yfU",
        "outputId": "63eb7e1a-20ef-4899-cb20-bb01c1755f86"
      },
      "outputs": [],
      "source": [
        "tmp = (gentox_data.groupby('molecule ID')['endpoint']\n",
        " .count().rename('number of endpoints')\n",
        " .value_counts().rename('number of structures')\n",
        " .sort_index(ascending=False))\n",
        "tmp"
      ]
    },
    {
      "cell_type": "markdown",
      "id": "DwEJECVF8NzT",
      "metadata": {
        "id": "DwEJECVF8NzT"
      },
      "source": [
        "Perhaps it is easier to appreciate the data density by creating a barplot."
      ]
    },
    {
      "cell_type": "code",
      "execution_count": null,
      "id": "ZcsH2YCv8owQ",
      "metadata": {
        "colab": {
          "base_uri": "https://localhost:8080/",
          "height": 471
        },
        "id": "ZcsH2YCv8owQ",
        "outputId": "9a173de6-3837-42b6-c547-489e10f743b9"
      },
      "outputs": [],
      "source": [
        "tmp.plot(kind='bar', ylabel='number of structures', xlabel='number of endpoints')"
      ]
    },
    {
      "cell_type": "markdown",
      "id": "sp3i13nl86Y4",
      "metadata": {
        "id": "sp3i13nl86Y4"
      },
      "source": [
        "We can see that from the 4.245 structures, approximate 1.300 have data for all 10 strain and metabolic activation combinations. Approximately the same number of structures have data for 8 combinations. The remaining half of the structures are less data rich.\n",
        "\n",
        "<b>N.B. numbers may differ but the trend should be similar.</b>\n",
        "\n",
        "We can also visualise the data density for each strain and metabolic activation."
      ]
    },
    {
      "cell_type": "code",
      "execution_count": null,
      "id": "NclN8F8B9idy",
      "metadata": {
        "colab": {
          "base_uri": "https://localhost:8080/",
          "height": 449
        },
        "id": "NclN8F8B9idy",
        "outputId": "1bd1d4ff-87e3-4ff2-d089-dc3ea2d84787"
      },
      "outputs": [],
      "source": [
        "tmp = (gentox_data.groupby('endpoint')['molecule ID']\n",
        " .count().rename('number of structures')\n",
        " .sort_index(ascending=False))\n",
        "ax = tmp.plot(kind='barh', ylabel='number of structures', xlabel='endpoint')\n",
        "for p in ax.patches:\n",
        "    ax.text(p.get_width(), p.get_y() + p.get_height()/2., '%d' % int(p.get_width()),\n",
        "            ha='left', va='center')"
      ]
    },
    {
      "cell_type": "markdown",
      "id": "FaqLhSgC-EWY",
      "metadata": {
        "id": "FaqLhSgC-EWY"
      },
      "source": [
        "The most data rich strains are TA 100 and 98. This is good news, as these strains are quite predictive for the overall Ames genotoxicity outcome.\n",
        "\n",
        "Before we proceed with the inspection of the molecular structures and the generation of fingerprints.\n",
        "Lets define that an \"endpoint pair\" is a strain that exists in our dataset that has data present for both:\n",
        "\n",
        " *   with metabolic activation\n",
        " *   without metabolic activation  \n",
        "\n",
        "We can examine how often we have data for endpoint pairs. We will be using a function because we will need to do this calculation more than once!"
      ]
    },
    {
      "cell_type": "code",
      "execution_count": null,
      "id": "Di_Cps6ECCKp",
      "metadata": {
        "colab": {
          "base_uri": "https://localhost:8080/",
          "height": 568
        },
        "id": "Di_Cps6ECCKp",
        "outputId": "0e97d717-6fa7-4ac9-e5da-6cdb45178f2f"
      },
      "outputs": [],
      "source": [
        "def create_endpoint_pair_data(df):\n",
        "  endpoint_pair_data = []\n",
        "  for endpoint1 in gentox_data['endpoint'].unique():\n",
        "    msk1 = gentox_data['endpoint'] == endpoint1\n",
        "    for endpoint2 in gentox_data['endpoint'].unique():\n",
        "      msk2 = gentox_data['endpoint'] == endpoint2\n",
        "      tmp = gentox_data.loc[msk1 | msk2].pivot(index='molecule ID', columns='endpoint', values='genotoxicity')\n",
        "      tmp = tmp.dropna(how='any')\n",
        "      endpoint_pair_data.append({'endpoint 1': endpoint1, 'endpoint 2': endpoint2, 'support': len(tmp)})\n",
        "  endpoint_pair_data = pd.DataFrame(endpoint_pair_data)\n",
        "  endpoint_pair_data = endpoint_pair_data.pivot(index='endpoint 1', columns='endpoint 2', values='support')\n",
        "  return endpoint_pair_data\n",
        "endpoint_pair_data = create_endpoint_pair_data(gentox_data)\n",
        "endpoint_pair_data"
      ]
    },
    {
      "cell_type": "markdown",
      "id": "WJkW20Y5HTR0",
      "metadata": {
        "id": "WJkW20Y5HTR0"
      },
      "source": [
        "We will now visualise the created \"enpoint_pair_data\" dataframe using a heatmap. Once more we will be using a function for this because we will need this functionality later on."
      ]
    },
    {
      "cell_type": "code",
      "execution_count": null,
      "id": "Ov57AwnmEcuW",
      "metadata": {
        "colab": {
          "base_uri": "https://localhost:8080/",
          "height": 803
        },
        "id": "Ov57AwnmEcuW",
        "outputId": "65c7008c-eac3-44c1-e88f-b82538122e2f"
      },
      "outputs": [],
      "source": [
        "# visualise the simultaneous data availability for two endpoints using a heatmap\n",
        "def create_heatmap(endpoint_pair_data):\n",
        "  mask = np.triu(np.ones_like(endpoint_pair_data, dtype=bool), k=1)\n",
        "  fig = plt.figure(figsize=(8, 6))\n",
        "  ax = fig.subplots()\n",
        "  sns.heatmap(endpoint_pair_data, annot=True, mask=mask, fmt='d', cmap='Blues', square=True, ax=ax, annot_kws={\"fontsize\": 6} )\n",
        "create_heatmap(endpoint_pair_data)"
      ]
    },
    {
      "cell_type": "markdown",
      "id": "UDCCscTrFG6y",
      "metadata": {
        "id": "UDCCscTrFG6y"
      },
      "source": [
        "The diagonal in the heatmap provides the data availability for a single endpoint and the numbers must agree with the numbers we show earlier in the barplot.\n",
        "\n",
        "Before we conclude this section there is an important decision to take. The genotoxicity outcomes in the dataset are positive, negative and ambiguous, with the latter including both equivocal and otherwise compromised measurements (e.g. due to inappropriate cytoxicity or occurrence of precipitation).\n",
        "\n",
        "\n",
        "\n"
      ]
    },
    {
      "cell_type": "markdown",
      "id": "700e5455",
      "metadata": {
        "id": "700e5455"
      },
      "source": [
        "Before we continue lets take a step back and recall our initial task at hand. We want to design a NN that provides a binary classification where the result should be either \"positive\" or \"negative\" for a single genotoxicity prediction.\n",
        "\n",
        "The NN takes the patterns from the input data, these data have labels indicating the genotoxicity outcome. You could have another look at those in the secton where we load the dataset into a pandas dataframe. There you visualized a column called \"genotoxicity\" that is the outcome label of our data.\n",
        "\n",
        "Lets inspect what kind of outcomes are present in out dataset.\n"
      ]
    },
    {
      "cell_type": "code",
      "execution_count": null,
      "id": "47W0V0q_GWzL",
      "metadata": {
        "colab": {
          "base_uri": "https://localhost:8080/",
          "height": 209
        },
        "id": "47W0V0q_GWzL",
        "outputId": "0aa29489-da93-4f4e-ae88-fd2b121231fc"
      },
      "outputs": [],
      "source": [
        "gentox_data['genotoxicity'].value_counts()"
      ]
    },
    {
      "cell_type": "markdown",
      "id": "6HLtVbaAGbFc",
      "metadata": {
        "id": "6HLtVbaAGbFc"
      },
      "source": [
        "Alright, there are three kind of outcome labels, namely negative, positive and ambiguous. Now here we have a desicion to make that has a very big impact on the direction of the NN design. Do you want a binary (yes/no) or a multiclass predicition (yes/no/maybe). Since a binary prediction is much easier to implement we will go with that.\n",
        "\n",
        "\n",
        "In that case we want to remove data with outcome label \"ambiguous\" since we want to present to our NN only the examples that lead to either positive or negative. furthermore, the number of ambiguous calls is quite small, these two reasons justifiy why we exclude this data. We therefore have only two outcome labels, hence the classification becomes binary."
      ]
    },
    {
      "cell_type": "code",
      "execution_count": null,
      "id": "bv_GI2XdGy5z",
      "metadata": {
        "colab": {
          "base_uri": "https://localhost:8080/",
          "height": 178
        },
        "id": "bv_GI2XdGy5z",
        "outputId": "f92717ea-9b40-4c02-a372-c864788ecf73"
      },
      "outputs": [],
      "source": [
        "# exclude ambiguous genotoxicity calls\n",
        "msk = gentox_data['genotoxicity'] != 'ambiguous'\n",
        "gentox_data = gentox_data[msk]\n",
        "gentox_data['genotoxicity'].value_counts()"
      ]
    },
    {
      "cell_type": "markdown",
      "id": "qeUUqarWH4GH",
      "metadata": {
        "id": "qeUUqarWH4GH"
      },
      "source": [
        "Let's create the heatmap once more to visualise the reduction in terms of number of structures for each endpoint combination. Just to have another visual conformation that our previous manipulations have not scrambeled up our data without us knowing. And here is where the previously made function comes in handy, we can just feed the function our new dataset and the same plot is generated."
      ]
    },
    {
      "cell_type": "code",
      "execution_count": null,
      "id": "-isxgwPwICi5",
      "metadata": {
        "colab": {
          "base_uri": "https://localhost:8080/",
          "height": 803
        },
        "id": "-isxgwPwICi5",
        "outputId": "d9f3781b-5473-40bb-ca07-550b2ed30f6b"
      },
      "outputs": [],
      "source": [
        "endpoint_pair_data = create_endpoint_pair_data(gentox_data)\n",
        "create_heatmap(endpoint_pair_data)"
      ]
    },
    {
      "cell_type": "markdown",
      "id": "k2zUBPnxIiVd",
      "metadata": {
        "id": "k2zUBPnxIiVd"
      },
      "source": [
        "The dataset has not been reduced significantly in size. No obvious differences when comparing the color codes to before filtering. The number of structures are still sufficient to attempt fitting a model."
      ]
    },
    {
      "cell_type": "markdown",
      "id": "87sJetfNJ0cV",
      "metadata": {
        "id": "87sJetfNJ0cV"
      },
      "source": [
        "#### Visualise molecular structure\n",
        "\n",
        "Let's create a function to visualise a molecular structure and the available experimental data, and use it for a could of molecular structures in our dataset."
      ]
    },
    {
      "cell_type": "code",
      "execution_count": null,
      "id": "oDuAzafYKv4U",
      "metadata": {
        "id": "oDuAzafYKv4U"
      },
      "outputs": [],
      "source": [
        "def visualise_molecule(molecule_id, annotate=False):\n",
        "  '''\n",
        "  Visualise a molecular structure and the available experimental data\n",
        "  molecule_id: the molecule ID to visualise\n",
        "  annotate: if False (default) it will annotate the molecule with the available experimental data. If explicitly set to a string it\n",
        "  will annotate the molecule using the provided text (useful for when we generate the predictions later on)\n",
        "  '''\n",
        "  # select the relevant portion of the dataset\n",
        "  msk = gentox_data['molecule ID'] == molecule_id\n",
        "  smiles = gentox_data.loc[msk, 'smiles_std'].iloc[0]\n",
        "  mol = Chem.MolFromSmiles(smiles)\n",
        "  # draw the molecule\n",
        "  img = Draw.MolToImage(mol)\n",
        "  fig = plt.figure(figsize=(4, 4))\n",
        "  ax = fig.subplots()\n",
        "  ax.imshow(img)\n",
        "  ax.axis('off')\n",
        "  if not annotate:\n",
        "    genotoxity_outcome = gentox_data.loc[msk, ['endpoint', 'genotoxicity']].set_index('endpoint').squeeze().to_dict()\n",
        "    genotoxity_outcome = '\\n'.join([f'{k:40s}: {v}' for k, v in genotoxity_outcome.items()])\n",
        "    genotoxity_outcome\n",
        "    annotation_text = genotoxity_outcome\n",
        "  else:\n",
        "    annotation_text = annotate\n",
        "  ax.text(2, 300, annotation_text, fontdict={'family': 'monospace', 'size': 8, 'color': 'k'}, verticalalignment='top')  # Annotate\n",
        "  fig.tight_layout()"
      ]
    },
    {
      "cell_type": "code",
      "execution_count": null,
      "id": "P-dIQVMKTIhG",
      "metadata": {
        "colab": {
          "base_uri": "https://localhost:8080/",
          "height": 398
        },
        "id": "P-dIQVMKTIhG",
        "outputId": "d3e2958c-1c67-4dc6-d5c9-6575410c1dcd"
      },
      "outputs": [],
      "source": [
        "molecule_id = 1000\n",
        "visualise_molecule(molecule_id)"
      ]
    },
    {
      "cell_type": "code",
      "execution_count": null,
      "id": "EIEWhmZvZZKx",
      "metadata": {
        "colab": {
          "base_uri": "https://localhost:8080/",
          "height": 398
        },
        "id": "EIEWhmZvZZKx",
        "outputId": "229f85d2-12a9-468d-b32a-b5b428f4c803"
      },
      "outputs": [],
      "source": [
        "molecule_id = 1200\n",
        "visualise_molecule(molecule_id)"
      ]
    },
    {
      "cell_type": "code",
      "execution_count": null,
      "id": "TJCx00qfRckA",
      "metadata": {
        "colab": {
          "base_uri": "https://localhost:8080/",
          "height": 407
        },
        "id": "TJCx00qfRckA",
        "outputId": "683ec7c8-eb6a-43ac-c340-558022e3a222"
      },
      "outputs": [],
      "source": [
        "molecule_id = 1200\n",
        "visualise_molecule(molecule_id, 'this is a cool molecule!')"
      ]
    },
    {
      "cell_type": "markdown",
      "id": "Tj_CLqOxImZz",
      "metadata": {
        "id": "Tj_CLqOxImZz"
      },
      "source": [
        "Let's create an interactive slider to allow the visualisation of a grid with molecules. We can change the number of rows and columns of the grid to show more or fewer molecules."
      ]
    },
    {
      "cell_type": "code",
      "execution_count": null,
      "id": "zRK5nvYW9qEI",
      "metadata": {
        "colab": {
          "base_uri": "https://localhost:8080/",
          "height": 649,
          "referenced_widgets": [
            "e48c00fa97d640cbb7536262104eb9be",
            "f7f1e4eca91049cdbb1ab0b92e524567",
            "6483c1aa2c7040f1a4c6c8893dc7298c",
            "06e5a66adfd34a978107c5a67599be58",
            "cf177339046244cfaf0683a7e8cf9810",
            "49b1f25b35e544b087fb05a6e6764d2a",
            "534691a40bee4ddb8d0e4a1cf3c1a9c8",
            "eff2d3f00792457e913f4530dd4e3a8a",
            "119c96d525374ccda3e2eb2b8a038254",
            "6c493215b44d49a3967ebaa48cdc99cf",
            "8d23f69cc2ac4b7fb9b1681c6f44a5a7",
            "88df26626b8c47d09f4a343d7428c5f1"
          ]
        },
        "id": "zRK5nvYW9qEI",
        "outputId": "76e6eec5-8e33-4873-fc86-6c1708757af6"
      },
      "outputs": [],
      "source": [
        "import ipywidgets as widgets\n",
        "from IPython.display import display, clear_output\n",
        "from collections import namedtuple\n",
        "\n",
        "# select how large the grid must be\n",
        "n_rows = 2\n",
        "n_cols = 4\n",
        "\n",
        "# function to generate grid image by randomly drawing molecular structures\n",
        "def generate_grid(random_state):\n",
        "  # sample the molecular structures randomly\n",
        "  tmp = gentox_data[['molecule ID', 'smiles_std']].drop_duplicates().sample(n=n_rows*n_cols, random_state=random_state)\n",
        "  grid_image = Draw.MolsToGridImage(\n",
        "      [Chem.MolFromSmiles(smiles) for smiles in tmp['smiles_std']],\n",
        "      molsPerRow=n_cols,\n",
        "      subImgSize=(300, 300),  # size of each molecule image\n",
        "      legends=[f\"molecule ID {molecule_id}\" for molecule_id in tmp['molecule ID']]  # add legends\n",
        "  )\n",
        "  return grid_image\n",
        "\n",
        "# create a slider widget for going back and forth in the visualization\n",
        "slider = widgets.IntSlider(\n",
        "  value=0,  # start at the first set of molecules\n",
        "  min=0,  # minimum value (first set of molecules)\n",
        "  max=9,  # maximum value (last set of molecules)\n",
        "  step=1,\n",
        "  description='Page:',\n",
        "  continuous_update=False  # only update on slider release\n",
        ")\n",
        "# ceate left and right buttons\n",
        "left_button = widgets.Button(description=\"previous\")\n",
        "right_button = widgets.Button(description=\"next page\")\n",
        "# function to update the slider value when the left button is clicked\n",
        "def on_left_button_clicked(b):\n",
        "    if slider.value > slider.min:\n",
        "        slider.value -= slider.step  # Decrease slider value\n",
        "# function to update the slider value when the right button is clicked\n",
        "def on_right_button_clicked(b):\n",
        "    if slider.value < slider.max:\n",
        "        slider.value += slider.step  # Increase slider value\n",
        "# attach the button click events to the respective functions\n",
        "left_button.on_click(on_left_button_clicked)\n",
        "right_button.on_click(on_right_button_clicked)\n",
        "\n",
        "# update the image when the slider value changes\n",
        "def update_image(change):\n",
        "  # Generate grid image based on the slider value\n",
        "  grid_image = generate_grid(change.new)\n",
        "  print(change)\n",
        "  clear_output(wait=True)\n",
        "  ui = widgets.HBox([left_button, slider, right_button])\n",
        "  display(ui)\n",
        "  display(grid_image)\n",
        "\n",
        "# attach the update_image function to the slider's value change event\n",
        "slider.observe(update_image, names='value')\n",
        "\n",
        "# display the slider and the initial grid image\n",
        "ui = widgets.HBox([left_button, slider, right_button])\n",
        "display(ui)\n",
        "update_image(namedtuple('change', ['new'])(new=0))  # initial image drawing\n",
        "\n"
      ]
    },
    {
      "cell_type": "markdown",
      "id": "BNGkn6ZdSask",
      "metadata": {
        "id": "BNGkn6ZdSask"
      },
      "source": [
        "Are the molecular structures amenable to modelling? Do you observe any structure standardisation issues?"
      ]
    },
    {
      "cell_type": "markdown",
      "id": "wJ0MN7p8q9Bm",
      "metadata": {
        "id": "wJ0MN7p8q9Bm"
      },
      "source": [
        "## Data conversion for NN application"
      ]
    },
    {
      "cell_type": "markdown",
      "id": "e6764b8b",
      "metadata": {
        "id": "e6764b8b"
      },
      "source": [
        "### Convert structural information from SMILES to RDKit format\n",
        "\n",
        "Looking at those images rises the question, how will we use this image as an input value for our NN? Well, we can describe structures using substructures, then think of those substructures as features of the overall structure. There are many options to use these features, including descriptors like Padel, molecular fingerprints and graph like molecular representations. For the purposes of this training course we will be using Morgan fingerprints generated using rdkit.\n",
        "\n",
        "Smiles are string representations of the molecular structures that cannot be used for cheminformatics operations, such as substructure searches or fingerprint calculations. In this tutorial we are using the cheminformatics package RDKit and hence we will next convert the smiles to RDKit molecules."
      ]
    },
    {
      "cell_type": "code",
      "execution_count": null,
      "id": "qCB2H7egkW8w",
      "metadata": {
        "colab": {
          "base_uri": "https://localhost:8080/",
          "height": 49,
          "referenced_widgets": [
            "9c5224c0cca3413e98aa05fb4f87b6f8",
            "ea4637deefe94450a61e6adcc1b93c3d",
            "2dd51d6a2deb475bbcbd3116b957e473",
            "ddbed687cdd24352986f48af4eba3f44",
            "37494ed2036b4c5bbce08198395037f4",
            "c1440af958b04d5e9a7b3c7929c7da19",
            "d84d790f970440a58f304175680f1685",
            "a4bf4fb520214dd98f20c0243d7530ae",
            "e18c179c74f643bea2a835fe656186e1",
            "447bd098e917458f9df21424e35cfb9e",
            "6b8797be14c246f190bb781389ef5df0"
          ]
        },
        "id": "qCB2H7egkW8w",
        "outputId": "8d5c9fe4-b129-4f3b-db8d-f239ad85345c"
      },
      "outputs": [],
      "source": [
        "# convert the smiles to rdkit molecules\n",
        "structures = gentox_data[['molecule ID', 'smiles_std']].drop_duplicates().sort_values('molecule ID', ascending=True)\n",
        "structures['mol'] = structures['smiles_std'].progress_apply(Chem.MolFromSmiles)\n",
        "structures = structures.set_index('molecule ID')"
      ]
    },
    {
      "cell_type": "code",
      "execution_count": null,
      "id": "FGokv8dhm8PX",
      "metadata": {
        "colab": {
          "base_uri": "https://localhost:8080/"
        },
        "id": "FGokv8dhm8PX",
        "outputId": "bbddcf98-a097-4dcb-bc1b-476adfa79003"
      },
      "outputs": [],
      "source": [
        "# ensure that all conversions have been successful\n",
        "structures['mol'].isna().sum()"
      ]
    },
    {
      "cell_type": "code",
      "execution_count": null,
      "id": "zChSS454nDNj",
      "metadata": {
        "colab": {
          "base_uri": "https://localhost:8080/",
          "height": 67,
          "referenced_widgets": [
            "b5b2a63a378a4ea6af9c1a97fb9eed31",
            "ab5a8e626a4548b3ad8ad430209afd7f",
            "2e826cbeed66405fb83d67f6694295e4",
            "e23f3cc0ba6a4870bb5174ac0801ba0f",
            "0c5d040aea284d899f6f7f7e73dd398a",
            "c49d903667fb46f9b174f0856791008a",
            "910f38892e7f427fad61f1d529ccfd47",
            "eb510e324c8f47138bbe41f8fe87aba9",
            "1f89232b0b5f48e4902f04ce81815c1e",
            "edb9074d4e71455dad80820e490f5a67",
            "4befd8dde537466b8b7afbbdd252b224"
          ]
        },
        "id": "zChSS454nDNj",
        "outputId": "718f5ca6-bf65-4319-dcbd-10e056c3331b"
      },
      "outputs": [],
      "source": [
        "from rdkit import rdBase\n",
        "# ensure that there are no structure duplicates, given that two different smiles may encode the same structure\n",
        "rdBase.DisableLog('rdApp.warning') # suppress RDKit warnings\n",
        "structures['mol'].progress_apply(lambda mol: Chem.MolToInchi(mol, options='-FixedH')).duplicated().sum()"
      ]
    },
    {
      "cell_type": "markdown",
      "id": "CtARZTQcqUBu",
      "metadata": {
        "id": "CtARZTQcqUBu"
      },
      "source": [
        "Typically one would not expect such lack of failures when converting molecular structure formats and when calculating the idices. This is because the dataset has been carefullly curated for the purposes of this tutorial.\n",
        "\n",
        "\n",
        "Since we have converted the data to RDkit format, lets exploid that a little and inspect the molecular weight, this will make the data even more tangable, and gives us a feeling of molecular structure size and complexity. Actually this is part of EDA, however we could not access this information at that point, so we do it know.\n"
      ]
    },
    {
      "cell_type": "code",
      "execution_count": null,
      "id": "dBB7o5XtwZMH",
      "metadata": {
        "colab": {
          "base_uri": "https://localhost:8080/",
          "height": 481,
          "referenced_widgets": [
            "2bfdadcdb2914fc18874d0279dbf4669",
            "a391aa5464dd4944839acb1a874f3a02",
            "1cf43729833a4c6f8d5779d4a7316840",
            "3fdb38e00dd24800ade20f9ac3f17c63",
            "087026307ae849db98b49ee41811a2c9",
            "d87ebca7a3d0452a8f73c8cb53a08e30",
            "12a5f13fdbf7459f902f7d3b6c4db2f9",
            "434626a069804cffa1a97f68943750c9",
            "0f9e3a9d553d4a05aaf1d4a785d4a52b",
            "9d8586b037a04ebf8a4391c9376ce856",
            "b6e2b5daa8bb4b1bb70b14a99bbed739"
          ]
        },
        "id": "dBB7o5XtwZMH",
        "outputId": "7a57356a-f33f-44e7-e7ea-e8e7be88cd0b"
      },
      "outputs": [],
      "source": [
        "from rdkit.Chem.Descriptors import MolWt\n",
        "# compute the molecular weight distribution\n",
        "structures['mol'].progress_apply(MolWt).plot(kind='hist', bins=20, ylabel='number of structures', xlabel='molecular weight');"
      ]
    },
    {
      "cell_type": "markdown",
      "id": "SHY4g4vGxfIi",
      "metadata": {
        "id": "SHY4g4vGxfIi"
      },
      "source": [
        "No molecular structure has molecular weight larger than 1000, which was imposed as a cutoff when the dataset was constructed."
      ]
    },
    {
      "cell_type": "markdown",
      "id": "fNORU_5JT3kj",
      "metadata": {
        "id": "fNORU_5JT3kj"
      },
      "source": [
        "### Fingerprints\n",
        "\n",
        "In this tutorial we will be using fingerprints for the representation of the molecular structures. There are many variants, but the use of Morgan fingerprints is quite commom. The will be covering the theoretical basis of fingerprints in the lectures. Fingerprints can be of two types, binary and count. The binary fingerprint bits are set to 1 if the corresponding structural moiety is present and 0 if absent, regardless of the number of occurrences in the molecular structure.\n",
        "\n",
        "Count fingerprints also include the number of occurrences in the molecular structure, without accounting for their relative position. For both binary and count fingerprints we can set the radius and the lengh. The radius reflects the size of he structural moieties assigned to the bits, whilst the length gives the number of bits. There is a tradeoff. If the length is too small bit collisions will be more frequent and detrimental. On the other hand, if the length is too large, the model fitting will take longer and the input vector for each molecule is larger. In addition, most bits will be inactive and it may be harder to train the model even if there is sufficient computing capacity.\n",
        "\n",
        "We will use binary Morgan fingerprints of radius 2 and of length 1024. In a real life application some more exploration would be needed to optimise the fingerprint parameters, perhaps as part of the hyper parameter tuning that will cover in the second lab.\n",
        "\n",
        "Let's calculate the fingerprints next."
      ]
    },
    {
      "cell_type": "code",
      "execution_count": null,
      "id": "AO8mZlbPgHKR",
      "metadata": {
        "id": "AO8mZlbPgHKR"
      },
      "outputs": [],
      "source": [
        "# set up the fingerprint calculation\n",
        "fingerprint_parameters = {'radius': 2,\n",
        "                          'fpSize': 1024,\n",
        "                          'type': 'count' # 'binary', 'count'\n",
        "                          }\n",
        "# create the fingerprint generator\n",
        "fpgen = AllChem.GetMorganGenerator(radius=fingerprint_parameters['radius'], fpSize=fingerprint_parameters['fpSize'],\n",
        "                                   countSimulation=False, includeChirality=False)"
      ]
    },
    {
      "cell_type": "code",
      "execution_count": null,
      "id": "2WBPTiPbsGk9",
      "metadata": {
        "colab": {
          "base_uri": "https://localhost:8080/",
          "height": 49,
          "referenced_widgets": [
            "be39789b420d41a29c65927def75c83b",
            "017cd10ce855433c85188054fb445020",
            "1fb84e99008c4f2b80d4c7d485e7aa74",
            "8aa3b6a6b9fe495bb20491563b432842",
            "2015615be4cd4f3da932c00c6a7fe7ca",
            "f643c97f20a9427eb32b6d13e462ddae",
            "f8e9a45960bc43bba839cfa815f5de0e",
            "0012b09fd9b2452280b3465dfed891ef",
            "551667db4c3c40d3957148bf0ce00450",
            "1e8a1b5e2c2c45c99afa9e501b1b9739",
            "f82d3d533b134d5796d040ee9533c901"
          ]
        },
        "id": "2WBPTiPbsGk9",
        "outputId": "3fc77336-eeb5-4d27-8807-2b9cada443e1"
      },
      "outputs": [],
      "source": [
        "# define a help function and compute the binary fingerprints\n",
        "def compute_fingerprint(mol):\n",
        "  return fpgen.GetFingerprint(mol).ToList()\n",
        "structures['fingerprint'] = structures['mol'].progress_apply(compute_fingerprint)"
      ]
    },
    {
      "cell_type": "code",
      "execution_count": null,
      "id": "rYxQSJJDs8pv",
      "metadata": {
        "colab": {
          "base_uri": "https://localhost:8080/"
        },
        "id": "rYxQSJJDs8pv",
        "outputId": "c5543b87-980e-445a-ee2c-25ecfa88cfea"
      },
      "outputs": [],
      "source": [
        "# check that all fingerprints are lists of fpSize length\n",
        "np.all(structures['fingerprint'].apply(lambda x: len(x))==fingerprint_parameters['fpSize'])"
      ]
    },
    {
      "cell_type": "code",
      "execution_count": null,
      "id": "5mZs9DbquGua",
      "metadata": {
        "colab": {
          "base_uri": "https://localhost:8080/"
        },
        "id": "5mZs9DbquGua",
        "outputId": "7e1ba4e9-d1da-442f-e12d-f8d1bdb5cbc7"
      },
      "outputs": [],
      "source": [
        "# convert the fingerprints to a numpy array\n",
        "X = np.array(structures['fingerprint'].to_list())\n",
        "X"
      ]
    },
    {
      "cell_type": "code",
      "execution_count": null,
      "id": "sFO_1ogHua_z",
      "metadata": {
        "colab": {
          "base_uri": "https://localhost:8080/"
        },
        "id": "sFO_1ogHua_z",
        "outputId": "972d310d-a088-4b9e-beb9-a4533ac5daa9"
      },
      "outputs": [],
      "source": [
        "# check how often are the 1024 fingerprint bits active\n",
        "pd.qcut(X.sum(axis=0), q=np.linspace(0, 1, 11)).value_counts().to_frame().T\n",
        "\n",
        "# check zero-variance bit occurence\n",
        "zero_variance_bits = (X.var(axis=0) == 0).sum()\n",
        "print(f\"Number of zero-variance bits: {zero_variance_bits}\")\n",
        "\n",
        "# check maximum occuring bit\n",
        "X.sum(axis=0).max()"
      ]
    },
    {
      "cell_type": "markdown",
      "id": "esh2u_QczF7Z",
      "metadata": {
        "id": "esh2u_QczF7Z"
      },
      "source": [
        "\n",
        "The way to interpret this is as follows:\n",
        "\n",
        "The analysis provided (pd.qcut(X.sum(axis=0), q=np.linspace(0, 1, 11))) examines how often each fingerprint bit is active across all molecules.\n",
        "\n",
        "-  the first bin (5.999, 20.0] contains bits that are active between 6 and 20 times in the dataset.\n",
        "- The last bin (195.7, 3167.0] contains bits that are active between 196 and 3167 times.\n",
        "- 105 fingerprint bits are active between 6 and 20 times across the dataset, while 103 bits are active between 196 and 3167 times.\n",
        "- the most frequenty occuring bit is active in 3167 structures out of the 4245 in the dataset\n",
        "- there are no bits with zero variance, i.e. they are on or off for all structures; such features would not be suitable for modelling\n",
        "\n",
        "The below analysis (pd.qcut(X.sum(axis=1), q=np.linspace(0, 1, 11))) examines how many fingerprint bits are active per molecule."
      ]
    },
    {
      "cell_type": "code",
      "execution_count": null,
      "id": "iV8QhcAbvgoI",
      "metadata": {
        "colab": {
          "base_uri": "https://localhost:8080/",
          "height": 81
        },
        "id": "iV8QhcAbvgoI",
        "outputId": "75ae52e7-ec65-4cc1-97d1-02f70915365c"
      },
      "outputs": [],
      "source": [
        "# check how dense are the fingerprints\n",
        "pd.qcut(X.sum(axis=1), q=np.linspace(0, 1, 11)).value_counts().to_frame().T"
      ]
    },
    {
      "cell_type": "markdown",
      "id": "6TeZthAbvvPk",
      "metadata": {
        "id": "6TeZthAbvvPk"
      },
      "source": [
        "The way to interpret these results is;\n",
        "\n",
        "If a molecule falls into the bin (1.999, 12.0], it has between 2 and 12 active bits. There are 460 structures that have between 2 and 12 bits active.\n",
        "If a molecule falls into the bin (45.0, 83.0], it has between 45 and 83 active bits. There are 386 structures that have between 45 and 83 bits active.\n",
        "\n",
        "No molecular structure has more than 83 bits active. This is indicative of relatively simple compounds with few functional groups each. On the other hand there is at least one structure with only 2 bits active. Can you guess how simple could this structure be?\n",
        "\n",
        "Lets visualise the molecular structure with most and least active bits."
      ]
    },
    {
      "cell_type": "code",
      "execution_count": null,
      "id": "F8XpdElYvEwx",
      "metadata": {
        "colab": {
          "base_uri": "https://localhost:8080/",
          "height": 425
        },
        "id": "F8XpdElYvEwx",
        "outputId": "5d99048a-61b5-470d-9981-3a109f671117"
      },
      "outputs": [],
      "source": [
        "# visualise the most complex molecular structure\n",
        "idx_max = X.sum(axis=1).argmax()\n",
        "molecule_id = structures.iloc[idx_max].name # remember that we removed ambiguous genotoxicity calls and molecule IDs are not continuous anymore\n",
        "print(f\"{X.sum(axis=1).max()} active bits\")\n",
        "visualise_molecule(molecule_id)"
      ]
    },
    {
      "cell_type": "code",
      "execution_count": null,
      "id": "g3-Re_e228M4",
      "metadata": {
        "colab": {
          "base_uri": "https://localhost:8080/",
          "height": 424
        },
        "id": "g3-Re_e228M4",
        "outputId": "89fb045a-676e-40cb-81a8-afd122ff8bf8"
      },
      "outputs": [],
      "source": [
        "# visualise the least complex molecular structure\n",
        "idx_max = X.sum(axis=1).argmin()\n",
        "molecule_id = structures.iloc[idx_max].name # remember that we removed ambiguous genotoxicity calls and molecule IDs are not continuous anymore\n",
        "print(f\"{X.sum(axis=1).min()} active bits\")\n",
        "visualise_molecule(molecule_id);"
      ]
    },
    {
      "cell_type": "markdown",
      "id": "3yEVAv7tJCi9",
      "metadata": {
        "id": "3yEVAv7tJCi9"
      },
      "source": [
        "### Structural similarity vs biological activity"
      ]
    },
    {
      "cell_type": "markdown",
      "id": "5QAlKbSFFOLT",
      "metadata": {
        "id": "5QAlKbSFFOLT"
      },
      "source": [
        "As one final sanity check, let's use the calculated fingerprints to identify structurally similar molecular structures with different genotoxicity outcomes.\n",
        "\n",
        "The fingerprints are binary vectors and their Jaccard similarity can be computed using\n",
        "$$J\\left(A,B\\right) = \\frac{\\left|A∪B\\right|}{\\left|A∩B\\right|}$$\n",
        "The Jaccard distance is 1 - Jaccard similarity.\n",
        "\n",
        "Computing the distance (or similarity) between all structural pairs is computationally intensive and hence the next cell may take a couple of minutes to execute."
      ]
    },
    {
      "cell_type": "code",
      "execution_count": null,
      "id": "lUJLO33THpKm",
      "metadata": {
        "id": "lUJLO33THpKm"
      },
      "outputs": [],
      "source": [
        "# calculate Jaccard distances\n",
        "from scipy.spatial.distance import pdist, squareform\n",
        "jaccard_distances = pdist(X, metric=\"jaccard\")\n",
        "jaccard_matrix = squareform(jaccard_distances)"
      ]
    },
    {
      "cell_type": "markdown",
      "id": "sk9IA6BFb8AS",
      "metadata": {
        "id": "sk9IA6BFb8AS"
      },
      "source": [
        "We will now visualise the Jaccard similarities using a heatmap and a histogram. Note that the heatmap is limited to 200 structures otherwise it will take too long and it will not be legible."
      ]
    },
    {
      "cell_type": "code",
      "execution_count": null,
      "id": "-cvcieNGIP06",
      "metadata": {
        "colab": {
          "base_uri": "https://localhost:8080/",
          "height": 679
        },
        "id": "-cvcieNGIP06",
        "outputId": "9e268a67-e6c7-4274-8553-4af602935abe"
      },
      "outputs": [],
      "source": [
        "# visualise (small part of!) the Jaccard similarities as a heatmap\n",
        "from matplotlib import gridspec\n",
        "n_structures_sample = 200\n",
        "fig = plt.figure(figsize=(10, 10))\n",
        "ax = fig.subplots()\n",
        "sns.heatmap(1.-jaccard_matrix[:n_structures_sample, :n_structures_sample], annot=False, cmap='Blues', square=True, cbar_kws={'shrink': 0.7}, ax=ax)\n",
        "ax.axis('off')\n",
        "ax.set_title(f\"heatmap of Jaccard similarities ({n_structures_sample} structures)\");"
      ]
    },
    {
      "cell_type": "code",
      "execution_count": null,
      "id": "ssiJTuCwOtH2",
      "metadata": {
        "colab": {
          "base_uri": "https://localhost:8080/",
          "height": 410
        },
        "id": "ssiJTuCwOtH2",
        "outputId": "62b876b2-c944-4f5c-eba1-262a200d73b8"
      },
      "outputs": [],
      "source": [
        "# visualise Jaccard similarities as a histogram\n",
        "fig = plt.figure(figsize=(8, 4))\n",
        "ax = fig.subplots()\n",
        "ax.hist(1.-jaccard_distances, bins=200, color=\"blue\", edgecolor=\"black\")\n",
        "ax.set_title(f\"histogram of Jaccard similarities ({X.shape[0]} structures)\")\n",
        "ax.set_xlabel(\"Jaccard similarity\")\n",
        "ax.set_ylabel(\"number of structure pairs\");"
      ]
    },
    {
      "cell_type": "markdown",
      "id": "TI2yy2X0cTRs",
      "metadata": {
        "id": "TI2yy2X0cTRs"
      },
      "source": [
        "We will now identify some structure pairs with small distance and for which the available genotoxicity data differ. Lets first put together the indices of the molecular structure pairs with the corresponding Jaccard distance. This calculation will take a minute or so."
      ]
    },
    {
      "cell_type": "code",
      "execution_count": null,
      "id": "UGnvbohokjC0",
      "metadata": {
        "id": "UGnvbohokjC0"
      },
      "outputs": [],
      "source": [
        "# get all structure pairs with their distances\n",
        "num_structures = X.shape[0]\n",
        "pairs = [(i, j) for i in range(num_structures) for j in range(i+1, num_structures)]\n",
        "pairs_and_distances = sorted(zip(pairs, list(jaccard_distances)), key=lambda x: x[1])\n",
        "del jaccard_distances, jaccard_matrix"
      ]
    },
    {
      "cell_type": "code",
      "execution_count": null,
      "id": "XngEbVdtdBAt",
      "metadata": {
        "id": "XngEbVdtdBAt"
      },
      "outputs": [],
      "source": [
        "# identify few suspicious pairs with small distances and different genotoxicity outcomes\n",
        "n_suspicious_pairs = 20\n",
        "suspicious_pairs = []\n",
        "for pair, dist in pairs_and_distances:\n",
        "  molecule_id1 = structures.iloc[pair[0]].name\n",
        "  molecule_id2 = structures.iloc[pair[1]].name\n",
        "  genotoxicity1 = gentox_data.loc[gentox_data['molecule ID'] == molecule_id1, ['endpoint', 'genotoxicity']].set_index('endpoint').iloc[:,0].rename(f'Molecule ID {molecule_id1}')\n",
        "  genotoxicity2 = gentox_data.loc[gentox_data['molecule ID'] == molecule_id2, ['endpoint', 'genotoxicity']].set_index('endpoint').iloc[:,0].rename(f'Molecule ID {molecule_id2}')\n",
        "  genotoxicity = pd.concat([genotoxicity1, genotoxicity2], axis=1)\n",
        "  genotoxicity_differs = genotoxicity[f'Molecule ID {molecule_id1}'].notnull() & genotoxicity[f'Molecule ID {molecule_id2}'].notnull() & (genotoxicity[f'Molecule ID {molecule_id1}'] != genotoxicity[f'Molecule ID {molecule_id2}'])\n",
        "  if (not genotoxicity.empty) & genotoxicity_differs.any():\n",
        "    suspicious_pairs.append((pair, dist, genotoxicity.dropna(how='any', axis='index')))\n",
        "    if len(suspicious_pairs) >= n_suspicious_pairs:\n",
        "      break\n",
        "del pairs_and_distances"
      ]
    },
    {
      "cell_type": "code",
      "execution_count": null,
      "id": "nNLdFtJmb453",
      "metadata": {
        "colab": {
          "base_uri": "https://localhost:8080/",
          "height": 653
        },
        "id": "nNLdFtJmb453",
        "outputId": "385a4619-55fc-4f38-fd05-4035101f6d73"
      },
      "outputs": [],
      "source": [
        "# visualise few of the suspicious pairs\n",
        "n_pairs_to_show = 3\n",
        "import random\n",
        "random.seed(1)\n",
        "idxs = random.choices(range(n_suspicious_pairs), k=n_pairs_to_show)\n",
        "fig = plt.figure(figsize=(10, 8))\n",
        "axs = fig.subplots(ncols=3, nrows=n_pairs_to_show)\n",
        "for i, idx in enumerate(idxs):\n",
        "  (pair, dist, genotoxicity) = suspicious_pairs[idx]\n",
        "  molecule_id1 = structures.iloc[pair[0]].name\n",
        "  molecule_id2 = structures.iloc[pair[1]].name\n",
        "  img1 = Draw.MolToImage(structures.loc[molecule_id1, 'mol'])\n",
        "  img2 = Draw.MolToImage(structures.loc[molecule_id2, 'mol'])\n",
        "  axs[i, 0].imshow(img1)\n",
        "  axs[i, 0].axis('off')\n",
        "  axs[i, 1].imshow(img2)\n",
        "  axs[i, 1].axis('off')\n",
        "  axs[i, 2].text(0.1, 0.5, genotoxicity.to_markdown(), fontdict={'family': 'monospace', 'size': 8, 'color': 'k'}, verticalalignment='center')\n",
        "  axs[i, 2].axis('off')"
      ]
    },
    {
      "cell_type": "markdown",
      "id": "v-nnn6YgoGLZ",
      "metadata": {
        "id": "v-nnn6YgoGLZ"
      },
      "source": [
        "What could cause such suspicious/conflicting genotoxicity outcomes and what would we need to do to check and, if needed, improve the quality of the data?\n",
        "\n",
        "For the purposes of this tutorial we will keep the dataset as is without further investigations. The hope is that statistically the model will be able to ignore conflicting evidence, perhaps by predicting a positive probability close to the 0.5 threshold, without compromising significantly its predictive performance.\n",
        "\n",
        "Developing a model in real life will need to have such suspicious/conflicting data points verified. Most of the times the effort needed for data curation  exceeds the effort for building a model. Computational insights can help accelerate the data curation.\n",
        "\n",
        "A few questions pop to mind:\n",
        "- is there merit in using our framework contract for data curation?\n",
        "- could we use the model predictions to identify likely erroneous data points?\n",
        "- which endpoints could we start with?"
      ]
    },
    {
      "cell_type": "markdown",
      "id": "MfWnx6GS0ZNl",
      "metadata": {
        "id": "MfWnx6GS0ZNl"
      },
      "source": [
        "## Building the feed forward neural network (FFNN)\n",
        "\n",
        "This section focuses on building classification models for predicting the probability of substances to cause gene mutation in bacteria.\n",
        "\n",
        "The lectures provided an overview of different model architectures that can be used. In this tutorial we will be using feed forward neural networks, that is likely the simplest form of deep learning with practical applications.\n",
        "\n",
        "Building and validating a model requires several steps. Usually the first step is to use all available data to ensure that the model fitting converges. In other words, if we use all of our data to train our model and we put our model to the test on the same data we are absolutely sure that the model will find the correct solution, which is a great way to just test if your model is working correctly."
      ]
    },
    {
      "cell_type": "markdown",
      "id": "6gTSPuVXA_tS",
      "metadata": {
        "id": "6gTSPuVXA_tS"
      },
      "source": [
        "The following code block defines a class to initialise FFNN models. Models can be initialised by choosing the number of hidden layers and number of neurons in each, the dropout to regulate overfitting and the activation function to introduce the necessary non-linearity in the model. The model can be used for both single and multitask models, as well as binary and multiclass classification problems. For simplicty we will be using this class for building a single task, binary classifier, for example for predicting the probability of having a positive outcome in Salmonell thyphimurium TA 100 with metabolic activation (S9+).\n",
        "\n",
        "Some of these neural network hyperparameters have been covered in the lecture, but without going into all details. What is important to keep in mind is that we need to make many choices and usually one starts with the simpler, smaller models before attempting using more complex ones. This is the principle of parsimony, also known as Occam's razor (https://en.wikipedia.org/wiki/Occam%27s_razor).\n"
      ]
    },
    {
      "cell_type": "markdown",
      "id": "U5kxwJmhMmjp",
      "metadata": {
        "id": "U5kxwJmhMmjp"
      },
      "source": [
        "#### Model architecture"
      ]
    },
    {
      "cell_type": "code",
      "execution_count": null,
      "id": "lmFFwjJ-CLKb",
      "metadata": {
        "id": "lmFFwjJ-CLKb"
      },
      "outputs": [],
      "source": [
        "from typing import Callable\n",
        "class FFNNModel(torch.nn.Module):\n",
        "\n",
        "    def __init__(self,\n",
        "                 n_input: int,\n",
        "                 hidden_layers: list[int],\n",
        "                 dropout: float,\n",
        "                 n_classes: [int],\n",
        "                 activation_function: Callable = torch.nn.functional.leaky_relu):\n",
        "        '''\n",
        "        Implements a simple feedforward neural network in PyTorch.\n",
        "        It can be used for both simple and multitask models.\n",
        "\n",
        "        The model is initialised with the following parameters:\n",
        "        :param n_input: number of input features (fingerprint length)\n",
        "        :param hidden_layers: array with the number of neurons in each hidden layer\n",
        "        :param dropout: dropout rate\n",
        "        :param n_classes: number of output classes\n",
        "        :param activation_function: PyTorch activation function, e.g. torch.nn.functional.relu or torch.nn.functional.leaky_relu\n",
        "        '''\n",
        "        super().__init__()\n",
        "\n",
        "\n",
        "        # general parameters\n",
        "        self.dropout = dropout\n",
        "        self.hidden_layers = hidden_layers\n",
        "        self.activation_function = activation_function\n",
        "        self.n_classes = n_classes\n",
        "\n",
        "        # set up the linear layers\n",
        "        self.linear_layers = torch.nn.ModuleList()\n",
        "        self.linear_layers.append(torch.nn.Linear(n_input, self.hidden_layers[0]))\n",
        "        for i in range(len(self.hidden_layers)-1):\n",
        "            self.linear_layers.append(torch.nn.Linear(self.hidden_layers[i], self.hidden_layers[i+1]))\n",
        "\n",
        "        # set up the output layers, one for each task\n",
        "        self.out_layers = torch.nn.ModuleList()\n",
        "        for n_class in self.n_classes:\n",
        "            self.out_layers.append(torch.nn.Linear(self.hidden_layers[-1], n_class))\n",
        "\n",
        "        # dropout layer\n",
        "        self.dropout = torch.nn.Dropout(dropout)\n",
        "\n",
        "    def forward(self, x: torch.Tensor, task_id: int):\n",
        "\n",
        "        # apply the linear layers, dropout after activation\n",
        "        for module in self.linear_layers:\n",
        "            x = self.activation_function(module(x))\n",
        "            x = self.dropout(x)\n",
        "\n",
        "        # apply the output layer (classification, produces logits)\n",
        "        output = self.out_layers[task_id](x)\n",
        "        return output"
      ]
    },
    {
      "cell_type": "markdown",
      "id": "BxTzRFAhMUQR",
      "metadata": {
        "id": "BxTzRFAhMUQR"
      },
      "source": [
        "#### Making predictions"
      ]
    },
    {
      "cell_type": "markdown",
      "id": "O6uUPV5eDxYn",
      "metadata": {
        "id": "O6uUPV5eDxYn"
      },
      "source": [
        "We will next initialise a model and use it for making a prediction. The model has not been fitted yet and hence it has randomly initialised weights and biases. We assume that the input vector is a vector with 1024 floats, that is consistent with our choice of Morgan fingerprints.\n",
        "\n",
        "We will feed in a set of two random fingerprints corresponding to two fictitious molecular structures."
      ]
    },
    {
      "cell_type": "code",
      "execution_count": null,
      "id": "WGpbx2C2DwfN",
      "metadata": {
        "colab": {
          "base_uri": "https://localhost:8080/",
          "height": 125
        },
        "id": "WGpbx2C2DwfN",
        "outputId": "e62645f5-6133-4b1c-fb55-861509567746"
      },
      "outputs": [],
      "source": [
        "# set the seed for deterministic behaviour\n",
        "torch.manual_seed(1)\n",
        "# define the model and set it to inference mode\n",
        "net = FFNNModel(n_input=1024, hidden_layers=[128, 128], dropout=0.2, n_classes=[2])\n",
        "net.eval()\n",
        "# create a set of random fingerprints\n",
        "X_tensor = torch.randint(0, 2, (2, 1024), dtype=torch.float32)\n",
        "# predict the logits for a negative and a positive prediction\n",
        "y_pred_logits = net(X_tensor, task_id=0)\n",
        "# predict the probabilities for a negative a positive prediction using softmax\n",
        "y_pred_prob = pd.DataFrame(F.softmax(y_pred_logits, dim=1).detach().cpu().numpy(),\n",
        "                           columns=['negative (probability)', 'positive (probability)'])\n",
        "y_pred_prob"
      ]
    },
    {
      "cell_type": "markdown",
      "id": "RGU0QQAsHODa",
      "metadata": {
        "id": "RGU0QQAsHODa"
      },
      "source": [
        "We can now use this model to predict the genotoxicity outcome for all substances in the dataset.\n",
        "\n",
        "We first focus on structures for which we have experimental data for Salmonella typhimurium TA 100 S9+.\n",
        "\n",
        "We had previously generated an array with the fingerpints for all structures in the dataset. We will be using the fingerprints for those structures with TA 100 S+ data available."
      ]
    },
    {
      "cell_type": "code",
      "execution_count": null,
      "id": "BfA2LiLXK8SE",
      "metadata": {
        "colab": {
          "base_uri": "https://localhost:8080/"
        },
        "id": "BfA2LiLXK8SE",
        "outputId": "0a65b588-088c-4234-b8be-8891a382ce54"
      },
      "outputs": [],
      "source": [
        "# keep the molecular structures with experimental data for TA 100 S9+\n",
        "msk = gentox_data['endpoint'] == 'Salmonella typhimurium (TA 100), yes'\n",
        "tmp = gentox_data.loc[msk]\n",
        "print(f\"There are {len(tmp)} structures with TA 100 S9+ genotoxicity data\")\n",
        "X = structures.loc[tmp['molecule ID'].tolist(), 'fingerprint']\n",
        "y = tmp['genotoxicity']\n",
        "# create a tensor and make predictions\n",
        "X_tensor = torch.tensor(np.array(X.to_list()), dtype=torch.float32)\n",
        "net.eval()\n",
        "y_pred_logits = net(X_tensor, task_id=0)\n",
        "y_pred_prob = pd.DataFrame(F.softmax(y_pred_logits, dim=1).detach().cpu().numpy(),\n",
        "                           columns=['negative (probability)', 'positive (probability)'])\n",
        "y_pred = np.where(y_pred_prob['positive (probability)'] > 0.5, 'positive', 'negative')\n",
        "np.concatenate([y_pred_prob, y_pred.reshape(-1, 1)], axis=1)"
      ]
    },
    {
      "cell_type": "markdown",
      "id": "uDdAXhVGJBTP",
      "metadata": {
        "id": "uDdAXhVGJBTP"
      },
      "source": [
        "How well do you think that this model can predict the experimental TA 100 S9+ genotoxicity outcomes? The lecture covered several of the typically used performance metrics for both regression and classification problems like this one.\n",
        "\n",
        "For the purposes of this tutorial we will be using the following predictive performance metrics:\n",
        "- sensitivity\n",
        "- specificity\n",
        "- balanced accuracy\n",
        "- area under the curve (AUC)"
      ]
    },
    {
      "cell_type": "code",
      "execution_count": null,
      "id": "VZ2Kc3CSPyg_",
      "metadata": {
        "colab": {
          "base_uri": "https://localhost:8080/"
        },
        "id": "VZ2Kc3CSPyg_",
        "outputId": "c67dcab8-a3b9-4092-c77f-24a41f9c6a02"
      },
      "outputs": [],
      "source": [
        "# predictive performance metrics\n",
        "sensitivity  = recall_score(y, y_pred, pos_label='positive')\n",
        "specificity  = recall_score(y, y_pred, pos_label='negative')\n",
        "balanced_accuracy = balanced_accuracy_score(y, y_pred)\n",
        "roc_auc = roc_auc_score(y.map({'positive': 1, 'negative': 0}), y_pred_prob['positive (probability)'].values)\n",
        "print(f\"sensitivity: {sensitivity:.2f}\")\n",
        "print(f\"specificity: {specificity:.2f}\")\n",
        "print(f\"balanced accuracy: {balanced_accuracy:.2f}\")\n",
        "print(f\"AUC: {roc_auc:.2f}\")"
      ]
    },
    {
      "cell_type": "markdown",
      "id": "TemHENp3Si4f",
      "metadata": {
        "id": "TemHENp3Si4f"
      },
      "source": [
        "The predictive performance is as expected poor given that the experimental data have not been used for adjusting the model weights and biases.\n",
        "\n",
        "We have progressed a long way already though. We can now define and initialise a FFNN model and we can use it for making predictions. We will now proceed with the training of the model."
      ]
    },
    {
      "cell_type": "markdown",
      "id": "d2XYCLBaTRDU",
      "metadata": {
        "id": "d2XYCLBaTRDU"
      },
      "source": [
        "#### Model training\n",
        "\n",
        "Training a model essentially boils down to be an optimisation problem. The model weights are biases are adjusted so that the objective function, known as loss function in machine learning, is minimised. The loss function used for this tutorial is cross entropy.\n",
        "\n",
        "\n",
        "\n",
        "Model training is an iterative process. For each iteration, known as epoch in deep learning, we partition the training set into batches and iterate over these as well. For every batch we compute the loss function and its derivatives with regard to the model weights and biases (model parameters). The model parameters are adjusted and the iterations continue until no further progress can be made.\n",
        "\n",
        "Before we continue we need to look after a critical aspect. Is the dataset balanced, i.e. do we have the same number of positives and negatives?\n",
        "\n",
        "\n",
        "\n"
      ]
    },
    {
      "cell_type": "code",
      "execution_count": null,
      "id": "GA75aj9qipP_",
      "metadata": {
        "colab": {
          "base_uri": "https://localhost:8080/",
          "height": 178
        },
        "id": "GA75aj9qipP_",
        "outputId": "cd15fd4d-63ce-4f74-b7ee-a2bc2f5aa9fc"
      },
      "outputs": [],
      "source": [
        "# check if the dataset is balanced\n",
        "y.value_counts()"
      ]
    },
    {
      "cell_type": "markdown",
      "id": "JrIlLXy5jEQK",
      "metadata": {
        "id": "JrIlLXy5jEQK"
      },
      "source": [
        "The dataset is not balanced. There are 2 times more negatives than positives. Hence it is expected that the model will learn more effectively how to predict negatives than positives, which may not be ideal depending on how we wish to use the model (for prioritisation or deprioritisation). We will come back to this point later.\n",
        "\n",
        "Let's proceed with a first model training attempt. We will create a dataset that will be fed into a dataloader that will be used for splitting the data into batches."
      ]
    },
    {
      "cell_type": "code",
      "execution_count": null,
      "id": "9HPpQLefjp-r",
      "metadata": {
        "id": "9HPpQLefjp-r"
      },
      "outputs": [],
      "source": [
        "# create the dataset\n",
        "dset = TensorDataset(torch.tensor(np.stack(X.values, axis=0), dtype=torch.float32), torch.tensor(y.map({'positive': 1, 'negative': 0}).values, dtype=torch.long))"
      ]
    },
    {
      "cell_type": "code",
      "execution_count": null,
      "id": "Sl5lBCTJm2K8",
      "metadata": {
        "colab": {
          "base_uri": "https://localhost:8080/"
        },
        "id": "Sl5lBCTJm2K8",
        "outputId": "39d3ab4f-7aa9-4bc0-8406-a0e457cc3567"
      },
      "outputs": [],
      "source": [
        "# set up the model\n",
        "from copy import deepcopy\n",
        "net = FFNNModel(n_input=1024, hidden_layers=[128, 128], dropout=0.2, n_classes=[2])\n",
        "# we keep a copy of the weights to be able to reinitialise the model to the same parameters\n",
        "model_parameters = deepcopy(net.state_dict())\n",
        "n_parameters = sum([np.prod(v.size()) for k, v in model_parameters.items()])\n",
        "print(f\"The model has {n_parameters} parameters\")"
      ]
    },
    {
      "cell_type": "markdown",
      "id": "PyVuHP43sYo7",
      "metadata": {
        "id": "PyVuHP43sYo7"
      },
      "source": [
        "Can you work out the number of model parameters based on the model architecture?\n",
        "\n",
        "Hint:\n",
        "- first layer has 1024*128 weights and 128 biases\n",
        "- second layer has 128*128 weights and 128 biases\n",
        "- classification layer has 128*2 weights and 2 biases\n",
        "\n",
        "This is a phenomenal number of parameters for ~3000 substances in the training set. To put things in perspective, chat GPT 3 had 180 billion parameters, i.e. it was 1200 times larger!"
      ]
    },
    {
      "cell_type": "code",
      "execution_count": null,
      "id": "pB9DrPf8nFiH",
      "metadata": {
        "id": "pB9DrPf8nFiH"
      },
      "outputs": [],
      "source": [
        "# set up the loss function\n",
        "weights = torch.tensor([1., 1.])\n",
        "loss_fn = torch.nn.CrossEntropyLoss(weight=weights)"
      ]
    },
    {
      "cell_type": "code",
      "execution_count": null,
      "id": "bNWXqW0mmX5x",
      "metadata": {
        "colab": {
          "base_uri": "https://localhost:8080/",
          "height": 49,
          "referenced_widgets": [
            "4c5805b5cc8e4f4bbcfe07734118003a",
            "7bee441b2f58452da47c2a3a40588184",
            "7a81c0e250b5491a8947c2e8004597a0",
            "ee84d1474db54a07ab656b7cb8c43977",
            "70919858da014af386d6e3121f5cd45d",
            "f4b6d88001584562aada4403ed21ac4b",
            "68c4bf5a64034daaa2ff12d49cff2f4a",
            "e7f8ef06a53f48358329158661be035d",
            "610814b975bb4317addd3608d43a85df",
            "9227dd76e4f54ff289ef9571077d5911",
            "f3899d228bd7425294e765f88a49419e"
          ]
        },
        "id": "bNWXqW0mmX5x",
        "outputId": "8500152c-d784-4f6a-c039-8fd1aba22595"
      },
      "outputs": [],
      "source": [
        "# train the model\n",
        "def train_model(dset, model_parameters):\n",
        "  # set the seed for deterministic behaviour\n",
        "  torch.manual_seed(1)\n",
        "  # set up the optimiser\n",
        "  optimiser = torch.optim.Adam(net.parameters(), lr=0.001,\n",
        "                             betas=[0.9, 0.999], eps=1e-08,\n",
        "                             weight_decay=1.e-6, amsgrad=False)\n",
        "  # create the dataloader\n",
        "  batch_size = 512\n",
        "  dataloader = DataLoader(dset, batch_size=batch_size, shuffle=True, drop_last=True)\n",
        "  net.load_state_dict(model_parameters)\n",
        "  num_epochs = 10\n",
        "  net.train()\n",
        "  loss_history = []\n",
        "  for epoch in tqdm(range(num_epochs)):\n",
        "    for i_batch, (X_batch, y_batch) in enumerate(dataloader):\n",
        "      optimiser.zero_grad()\n",
        "      logits = net(X_batch, task_id=0)\n",
        "      loss = loss_fn(logits, y_batch)\n",
        "      loss_history.append({'epoch': epoch, 'batch': i_batch, 'loss': loss.item()})\n",
        "      loss.backward()\n",
        "      optimiser.step()\n",
        "  loss_history = pd.DataFrame(loss_history)\n",
        "  return loss_history\n",
        "loss_history = train_model(dset, model_parameters)"
      ]
    },
    {
      "cell_type": "code",
      "execution_count": null,
      "id": "6SjGVKG5rqt7",
      "metadata": {
        "colab": {
          "base_uri": "https://localhost:8080/",
          "height": 406
        },
        "id": "6SjGVKG5rqt7",
        "outputId": "d853fadf-efb9-4870-da9c-89ee5ac97c45"
      },
      "outputs": [],
      "source": [
        "# visualise the loss convergence\n",
        "fig = plt.figure(figsize=(8, 4))\n",
        "ax = fig.subplots()\n",
        "ax.plot(loss_history['loss'])\n",
        "ax.set_xlabel('step')\n",
        "ax.set_ylabel('loss')"
      ]
    },
    {
      "cell_type": "markdown",
      "id": "e2IUIixA9Zin",
      "metadata": {
        "id": "e2IUIixA9Zin"
      },
      "source": [
        "The loss seems to converge. Let's compute the predictive performance metrics once more."
      ]
    },
    {
      "cell_type": "code",
      "execution_count": null,
      "id": "pWRO01Xd9jc5",
      "metadata": {
        "colab": {
          "base_uri": "https://localhost:8080/"
        },
        "id": "pWRO01Xd9jc5",
        "outputId": "ed5cac24-dea7-4aa4-fe1f-4afeac68ae5b"
      },
      "outputs": [],
      "source": [
        "# generate the predictions\n",
        "net.eval()\n",
        "y_pred_logits = net(X_tensor, task_id=0)\n",
        "y_pred_prob = pd.DataFrame(F.softmax(y_pred_logits, dim=1).detach().cpu().numpy(),\n",
        "                           columns=['negative (probability)', 'positive (probability)'])\n",
        "y_pred = np.where(y_pred_prob['positive (probability)'] > 0.5, 'positive', 'negative')\n",
        "# predictive performance metrics\n",
        "sensitivity  = recall_score(y, y_pred, pos_label='positive')\n",
        "specificity  = recall_score(y, y_pred, pos_label='negative')\n",
        "balanced_accuracy = balanced_accuracy_score(y, y_pred)\n",
        "roc_auc = roc_auc_score(y.map({'positive': 1, 'negative': 0}), y_pred_prob['positive (probability)'].values)\n",
        "print(f\"sensitivity: {sensitivity:.3f}\")\n",
        "print(f\"specificity: {specificity:.3f}\")\n",
        "print(f\"balanced accuracy: {balanced_accuracy:.3f}\")\n",
        "print(f\"AUC: {roc_auc:.3f}\")"
      ]
    },
    {
      "cell_type": "markdown",
      "id": "airdUUOtFtF-",
      "metadata": {
        "id": "airdUUOtFtF-"
      },
      "source": [
        "The predictive performance of the model appears to be extremely good. In only 10 epochs, sensitivity and specificity exceed 80%, although the exact values of the metrics may sligthly differ with your model given the stochastic nature of the parameter initialisation. Please also note that the specificity is better than sensitivity that can be attributed to the dataset imbalance.\n",
        "\n",
        "But is the model really so good as these performance metrics indicate?"
      ]
    },
    {
      "cell_type": "markdown",
      "id": "xDB2x2CJROKa",
      "metadata": {
        "id": "xDB2x2CJROKa"
      },
      "source": [
        "#### Train/test split\n",
        "\n",
        "So far we used the same dataset for training the model and for evaluating its predictive performance. This is a flawed approach that may give an overly optimistic picture of the true predictive performance. When the model is used for new structures the predictive performance may be poor. The lecture covered the concepts of under- and overfitting and how these can be detected and avoided.\n",
        "\n",
        "The simplest approach to avoid overfitting is to split the dataset into a training set (80% of the available data) and an evaluation set (20% of the available data, image from https://doi.org/10.48550/arXiv.1811.12808).\n",
        "\n",
        "We will now repeat the model training by splitting the dataset in this way.\n",
        "\n",
        "Note: How do we know how many epochs are needed? Typically the evaluation set is used for this purpose. We choose a performance metric, such as balanced accuracy or the F1 score, and for each epoch we compute this performance metric for the evaluation set. If no progress has been made in the last few epochs training can be stopped. In order to keep things simple, we will simply run a small predefined number of epochs without such early stopping mechanism."
      ]
    },
    {
      "cell_type": "markdown",
      "id": "O1pKNoQQpVgj",
      "metadata": {
        "id": "O1pKNoQQpVgj"
      },
      "source": [
        "![holdout_validation_method.png](data:image/png;base64,iVBORw0KGgoAAAANSUhEUgAAAz0AAAMpCAYAAAAuL134AAAACXBIWXMAAA7EAAAOxAGVKw4bAAAAB3RJTUUH6QECFAwxjLJFSwAAIABJREFUeJzs3XtYlHX+//HXWJqlpqmZOh7YnBAl19MWFpZkJVNWam2CkkqtmodMtNqobWPZ0qg2RTPTlV9fDxGHrYRKw2o33cLQSmk9gDq1ms5qaurWeqjU+f3BaUAOg8xwz9w8H9c1VzD35/7c7+FSmxef9/0Zi8vlcgkAAAAATKqR0QUAAAAAgC8RegAAAACYGqEHAAAAgKkRegAAAACYGqEHAAAAgKkRegAAAACYGqEHAAAAgKkRegAAAACYGqEHAAAAgKkRegAAAACYGqEHAAAAgKkRegAAAACYGqEHAAAAgKkRegAAAACYGqEHAAAAgKkRegAAAACYGqEHAAAAgKkRegAAAACYGqEHAAAAgKkRegAAAACYGqEHAAAAgKkRegAAAACYGqEHAAAAgKkRegAAAACY2oVGFwAAAALDkSNH9K9//cvoMuDnWrRoof79+xtdBlAOoQcAAHjk888/l91uN7oM+Lm+fftq06ZNRpcBlEPoAQAAHnG5XJKkF198UUFBQcYWA7+UnJyskydPGl0GcA5CDwAA8IjFYpEk9e7dW6GhoQZXA3+0YsUK7d271+gygHOwkQEAAAAAUyP0AAAAADA1Qg8AAAAAUyP0AAAAADA1Qg8AAAAAUyP0AAAAADA1Qg8AAAAAUyP0AAAAADA1PpwUAAAEAIcSwgYpZV8lhyIWypk6rN4r8lxltUdooTNV/lw1YCas9AAAgABgU+IGp5xOp5zOhYroNF7rnMXfexx4shVjDVOCo4ZhjgSFWWOUXdeSy4nQwpJ6nU4519k022pVTI0XcSghzNu1AA0PKz0AAKCBGKZUpwcByZaoDU4fl2JL1IZ1UtigGGUPY8UH8DVWegAAQGBzJCgsJkEJYVZZi1doHAlhslqtslqtCitd2nFfNclWTFiCEmKspePKVl2KjjnOmdsqa4WVIvfrWGMSarcqY0vUkxFrlVlyQnaM21zZRXVYByll31pNKX2uqtcGoDqEHgAAEPjW5kipTjmdqRrmSFCCUktbyZ50xFTe0rYvRY6RJe1m4+WYXRx0qpzbKedCm1ISysLHIMeTZS1rIx2V33NUjVBbJzk2OSRlKyZzZOlc62yzFZM9TKnOdRrfqbg1LnWY5OlrA1AO7W0AACDwRTypRFvx17ZEjXRYZbWWHOyk8ZWfpJElfWW2MbIrQdsk2SoO62TXmJInh41UxOxNcihUK3Kk8e73Ew1L1cLMmFqVvc2xT7aRNkk2JdrCZLVOKatuYSUnePzaALhjpQcAAJhLdoymaGHZqsn4c2JMkU42hXoyn63fuUHIGxwJmr22OHg5EhSTYy/bnGFhROXnePraAJRD6AEAAKbi2ORQJ1tJnMlWQoov+r9sGmNXaatb0YUTNHuth6c7EhQ2KEW2hcWbGGxzaF9puHIoodxEDm0qfgn189oA8yH0AAAAU7ElpsqeM6j4Zv9M2cZLjm2+uM4GLdQUt80HHLJ1qmp08WYEJY9BDj3pdKq0O25YqttcMZI9ovhen+JwNahoI4P6em2A2VhcLpfL6CIAAID/W7Nmjex2uz744AOFhnrUGNbAOJQQlqB+GxruFtSTJ0/W3r17tWnTJqNLAcphpQcAAOA8OBLCyn+4qGOFcuThfUIA6hW7twEAAJyPMakamWBV6YZrncZr3YZE32x6AKBOCD0AAADnwWazyZbqbLCtbEAgob0NAAAAgKkRegAAAACYGqEHAAB45OKLLza6BAA4L4QeAADgkU6dqvwQGgDwa4QeAAAAAKZG6AEAANqxY4fRJQCAzxB6AABo4I4cOaKbbrpJbdu21dNPP61vvvnG6JIAwKv4nB4AAOrZZ599pp9++snn1zl+/LhH1zl27JiOHDmin376SS+88ILmzZsnm82mqVOnauTIkWrevLnPawUAX7K4XC6X0UUAANCQWK1W/ec//zG6jBo1bdpUs2bN0syZMyVJn3/+ua699lo1a9ZMF1xwgcHVwR+dOHFCLVu21OHDh40uBSiHlR4AAAxw9913a9q0aUaXIamovW306NH66aef1KJFC/38888aPXq0pk6dqv79+58zvlu3bmrWrJkBlcLf7dy5U40acfcE/A+hBwAAA1itVkVERBhdhiTphx9+UFBQkDp16qTJkyfrnnvuqXRcmzZtJEl/+ctfFBoaWp8lIkBMnjxZe/fuNboM4ByEHgAAGrhLL71UX375Jas3AEyL9UcAAEDgAWBqhB4AAAAApkboAQAAAGBqhB4AAAAApsZGBvA7mZmZ2r59u9FlACg2ePBg3XjjjUaXAQDAeSP0wO9kZmbqrbfeMroMAMUuvPBCQg8AIKDR3ga/dM0118jlcvHgwcPgB2CsbMVYrbJW8ghLcBhdXA2yFROWIM+rdCghLEbZ53ElR0KYYs7nRKABIfQAAAA/NUypTqecTqec68arU8TCoq+dTm1ItHk2hSNBYdaaw4QjIUxWkgNgWrS3AQAA87IlaoPTk2Eb5MEwAAGKlR4AABBwHAlhiklIUJjVWrxC41BCWEn7W5jKut/c2swcCQqLSah8XHZMactcubmtVlkrtKllx7i32SXUso2teFWpqja97JiyNr5qr1vZFav6GQAg9AAAgIC0NkdF7W+pw+RISJBSi1vhnE/KEVNFECk6qWjcQptSEipvaSud2+nUQluKSoZlx1g127autM0uVTlaW5uiHQlKUGrp+U86YtzCyVpNyRxZemydPUeDilvuHAlhmqKFbucNOvc+HscK5dgWlv0MqnhtQENE6AEAAAEp4slEldzZY0scKcegklWOKVUHkU52jSk5adhIRTg2VRqOOtnHqGxYhBybHJKylbk2Qk+63U9kS0zVeA9vLyo+QSMdg0pXbKa4F2obr3Wpw9yGPqmItZnKlkMrcqTxiWXHhiWOlyOzYqjpJ5tjSnEYGqZUt7mAho7QAwAAAl52zBRpYclKz7qqg4itnzzJKLZ+tUkytZAdU27FZp3HiWmfUga57WA3KEX7Kg6xDVPqBqdGZgbKDndA/SH0AACAAOfQJkcn2UKLv81OUIpP3u8P08iItZrtHiZqeS3HJoc6lRWqBPeTHSmKcZvbkTBbayNGaphsGmPvpIjSUOeUc2GEIkZWWMlxJCghWxqW6pTTuVC2nBW1utcIMDN2bwMAAAHOpsRUu8IGWZUiSRHjNV4ObZM8WtWpjWGp67QpbJCsKcVPREQooqrB+1I0qHSgpE7jtW5Dquyl50do/HjJUVpohGyOQbJa3ccXBRtb4gaNjLHKOqXkugu1LtEh91fo2CY5ZpeNiVjo9PrrBwKVxcWnz8HP/Pa3v9W3336rjRs3Gl0K0OBZLBY988wzeuqpp4wuxVSsVqvuuecezZ8/3+hSauWbb75Rt27d9MEHHyg0NLTmExqEbMWEbVLihkQChqTJkydr79692rRpk9GlAOXQ3gYAAOCh7JgKW0FnZ2qth/cJATAO7W0AAAAecSg0MVWbYqyyluwiELFQTnZJA/weocfNvn375HCUv+WvcePG+vWvf60WLVoYVBXgJ1wZuqXRKP1dbh2x3abIsXOBujWyGFcXANQbm2w2KXGDU4lGlwKgVhp06Nm1a5fef/995ebmKjc3V06ns8qxffv2VXh4uG688UbZ7XZCEBqkJkFT5Pj65bKQ84ZdliZWzdjm1Jzu1QQfV4Zuv/ITvex+LgAAQD1pkKFn+fLlWrRokT777DOPz9m8ebM2b96sBQsWSJLGjRun6dOnq2/fvr4qE/B/o3Pkkl2WoQ9pKis+AADATzWojQwyMzNls9k0bty4WgWeyixbtkz9+vVTdHS0du7c6aUKgQAUPV/TXNl6ZZekszs11WaRxWKR5cKOmrnDJe14WB0aR+v93a/IdkEjBc3cXvk4AAAAH2kQoSc3N1cDBw5UVFSUvv76a6/OnZGRodDQUE2ZMkWHDh3y6txAQGgUrAHdndrxpUUFv5+si1adlcvlkuuXuSq0T9PXV83T/l/SdVvQVDnOnNXuOT0rH3eW4AMAAHzD9KFn0aJFuvXWW5Wbm+uza5w+fVqvvvqqbrrpJm3bts1n1wH80tmdytthVff+LvV4caL+FXJB0QpOo2i9f0HlQcbTcQAAAN5g6tCTlJSkyZMn6+TJk/VyvW3btumGG25Qfn5+vVwP8AvpD+tlyzBNvUp6Y2i0LkotXsE5s0MPda/8nxhPxwEAAHiDad9pPPHEE3riiSfq/bpHjx7V4MGDtX79+nq/NlDv3rDLMvZfmrFqgbppV+mKjyQp/WEt2HG2dOjpb3cq32IptzJU2TgAAABvM2XoSUpKUlJSkmHXP3r0qO666y5a3WA6P+9eKNsFjYra0iwWWZ7uJsfPxdtVNwrW/NV3Ky206Hij5cGafsZRFHQsUYqN/FC/bWRR0KOnqx4HAADgA6bbsvqtt97SH/7wB6PL0Pfffy+73a7Nmzerbdu2RpcD1J0lSh+5oqof032+9p+eX+mh0atdGl36XdXjAAAAvM1Uoeezzz7TmDFjdPasf7TK7Nu3T3fddZf+/ve/6+KLLza6HAAA6sTlKmpLXbFihS6//HKDq4E/2rFjhy655BKjywDOYarQM2/evHrbtMBTn332mdatWye73W50KQAA1ImluA11xYoVBlcCf8YHt8MfmSb05OXlKSMjw+gyKvXYY4/p1ltv1QUXXGB0KQAAnLcrr7yydLUHAAKJaTYy+NOf/mR0CVXaunUrvxUDAAAADGKK0JOfn681a9Z4bb52N/9ZX3xf9Bkim5K9M2dyspcmAgAAAFArpgg9S5cu9dpc1z7yjgo+eEr9W3t3+9yvvvqKDy0FAAAADGCK0JOTk1PnOSyWbpqa+m999sIdaq1D+mrrQS9UVl5WVpbX5wQAAABQvYAPPUeOHNGuXbvqNIfF0l/zv9iqBaOD1OjY53puSE897zjjpQrLrF271utzAgAAAKhewO/etmHDhjp/Lo9Fu7U2b4/GtcrXzDtGKaXApVEPealAN1988YX3JzWhH374Qd999x33QQF+YsuWLfzSxovYyRMA6l/Ah56vvvqqznOcdX2vt6aG6C0v1FOd48ePa/fu3QoKCvLxlQLb9u3b5XQ6NWPGDKNLASApMzNTmZmZRpdhGs2aNVPLli2NLgMAGpSADz11bW2rb19//TWhpwY9e/ZUixYt9OqrrxpdCtDg3XTTTRo5cqQmT55sdCmmccEFFyg6OtroMgCgQQn40HP8+HGjS6iVH3/80egS/N6ll16qFi1aKCIiwuhSAEjq1asXfx8BAAEt4DcyOHbsmNEl1MqpU6eMLgEAAABoUAI+9LRq1croEmol0OoFAAAAAl3Ah55mzZoZXUKtBFq9AAAAQKAL+NDTuXNno0uolUCrFwAAAAh0AR96QkJCjC7BY82bNyf0AAAAAPUs4EPPgAEDjC7BY6GhoXwoHQAAAFDPAj70BAUFqWvXrkaX4RG73W50CQAAAECDE/ChR5KGDx9udAkeCZQ6AQAAADMxReiJjY01uoQa9e7dW3369DG6DMAzrgzd/quH9PVZl2fjz+5U3K8i9ZaHw93tnNlZQ9+o/XkAAACeMkXo6dOnjwYNGmR0GdWaNGmS0SUAAAAADdKFRhfgLfHx8Vq3bp3X5ksb0VFpXpqrY8eOGjdunJdmAwDAGEeOHNH8+fONLqNBGTt2rK688kqjywACnmlCj91uV0REhNauXWt0KeeYNWuWLr74YqPLALxi58zO6j53nySp64xt2j2nZ+mxM5mRskR/UPRNtyly7Fygbo0skqQ3brco5n1Vep4ncwMw3rFjx5SYmGh0GQ3KwIEDCT2AF5gm9EjSokWL1K9fP504ccLoUkqFh4cHxD1HgEd2PKxpjd6Xy3W1JCnj9s6aueNbzblK+uWCDxS1LFUu1xpJRQHGdke4XKtHa+fMzopRqlyu0ZKKAtDQN1xaNdpt7rM7tXBlT715dq/usUhpQ2/RW66PdI+lvl8kgJpM/+JpdejN58750r4v92jBgGeNLgMwDVPc01Oie/fuWr58uRo18o+X1alTJ2VlZRldBuA93edr3PZeslgsslgsiv7gTOmhRt0fkuO9UaXfB7/0F926ZqkytVULsl2aMbfs2Oi507T99XN3L7iux3b9tnhXg1GrCDwAAMA7/CMdeNE999yjZ581/jcjl156qdasWaO2bdsaXQrgPW/Yi1dsXHK5XNoe18Oj085YnJob0qg0LFlCXtbuioMaBStq9V657lteNMY21fPd4wAAAKphutAjSU888YSioqIMu36jRo2UmZmpnj25HwHmsvOLbeoaUrz1uitDM15ylB47u2OBbn60oGzsI4/qw8hYjdTVmn5XJ92e6ioNS67USN1+3+jyk5/dqZkzX5dG58jlcik9+B29sqs+XhUAADA7U4YeSVq+fLnGjx9f79e99NJL9cYbbygyMrLerw1408+7F8p2gdvqjG2qzs75UEPfCZXFYlGjRinqESft+LKoB63xmSHqvq136fju79xV2u4WPGevYl63lM31+li91K+w/AULN8u1/Q9lrXN6XnO6098GAADqzlQbGbhr0qSJlixZouuvv15TpkzRqVOnfH7N0NBQvf322woODvb5tQCfskTpI1flq6WvOFx65Zxng5X87zXVTjl6tUujK3k+eM5erZIkRWluTpTm1rpYAACA6pl2pafE/fffr88//1y9e/f26XWmTp2qL774gsADAAAA+BnThx5Juvrqq5Wfn68nnnjC65+Xc+WVV2r16tVasGCBmjZt6tW5AQAAANRdgwg9JWbPnq39+/dr0aJF+s1vflOnucaOHauPPvpIX3/9tW677TYvVQgAAADA20x7T09VWrZsqQcffFAPPvigduzYoQ8++ECffvqpcnNz5XQ6qzyvb9++Cg8P14033ii73a4WLVrUY9UAAAAAzleDCz3uunfvru7du2vatGmSpH379snhcJQb07hxY/36178m5AAA4CMHZ8ZrzsvfV3IkVKN+iZM37sqt7BrBry/RA8Z9wgWAetSgQ09FnTp1UqdOnYwuAwCABqXdnCQlzSn6+quh8fr2pSTdGXI+M23Ua7ZvdIcjWu0qOVo+5OzXu7YJil8+QUmrrq1+2oxkPb8hSo/P6XA+RQHwAw3qnh4AAIAiHXSn488K37FEr2UYXQsAX2OlBwAA+K+MZMXft63o6643a2bJKo7780MmKOmlb/R8r7/rqKQ5jf+uy6b92YOVmQ66c1ao4pdvlKKulbRRrzVeop2SSlrrOpS2xT2t+JfbKHxLku4MOXecbz8YA0BdEXoAAIB/KkzX8/dJo35ZUhQqMpIVP3SjklZdq6+WH1D4liW6M0Q6ODNZ7ypOj/9yZbXtbZXq3V6X7fhGB3Wt9g9dr/6/LNEDJdceulGPr0pSUlj59ravKhnXu6YWOQCGIvQAAAC/dPCv+dK06WWrKFFRCv9Dhr5SZ3Xo3l5pd6QrzBGtdnPidOf5XuSrAzra/Xq1k9TupfZ6vvEEpZUcG3Jlpaf09nAcAP9B6AEAAH7r6MtPK/5l92dC1UUd1G5OnJImpuv5xhN09LxbzPbr3T9sU/CsuKKv78hXz+LVI2mjXhtaxTkejQPgTwg98EuFhYWKiIgwugwAgIHaTeyjy3ZcqcdLW8eKAkZvSV/NTFeHOdF6/JdoHZwZr/cypN5RkvYc0H7Jg/a2/XrX9rRyu09QUpQk7dWhPe3Vv3jXuIMz39ZO3V06+uiOvZI61DgOgH8i9MDvjBw5UldffbXRZQCQFBERoRtvvNHoMtBQhUTr8bHJim+8pPiJUI3aEqWD2ijtOKA5jScUPd31Zs2cI0nXqv+QJUprPEE5lWxksPO+CYq/r+z74NeXFAeeonMfeH294ovb1i6bdrOCi+/1aRd1vYLvW6L4xm8rfEtS1eN8+bMAUCcWl8vlMroIAAAaEqvVqnvuuUfz5883upRa+eabb9StWzdN/+Jpdejd2ehyTG3fl3u0YMCz+vDDD3XLLbcYXQ4Q8PicHgAAAACmRugBAAAAYGqEHgAAAACmRugBAAAAYGqEHgAAAACmRugBAAAAYGqEHgAAAACmRugBAAAAYGqEHgAAGrizZ89qwYIF2rhxo9GlAIBPEHoAAGjgDh06pMcee0y33367unTpoueee04HDx40uiwA8BqLy+VyGV0EAAANidVqlcVikc1m8+l1jh07puPHj9c47vTp0/r222919uxZSdJFF10ki8Wi4OBgvfLKKxo4cKAkqaCgQD179tQNM4eopfUyn9be0B3be0SfJn+ot99+WyNGjDC6HCDgXWh0AQAANDTXXXedDh8+7PPr/PTTTzpx4kSN486cOSP334H+8ssvuuyyy7Rnzx59//33pc8fOXJEkvTJnA+8XywqtWvXLqNLAEyB0AMAQD178803jS6hnO+++05BQUFq2rSpjh07ppEjR2rSpEkaNGhQuXGtW7eWJN29aKza2toZUWqDcWjnAa2c8rquuuoqo0sBTIHQAwBAA3fZZZcpOjpaERERGjduXJXjLrroIklS598EqUPvzvVVXoPUpHlTSVKLFi0MrgQwB0IPAAANXJMmTfR///d/NY7bt29fPVQDAN7H7m0AAMAjJ0+eNLoEADgvhB4AAAAApkboAQAAAGBqhB4AAAAApkboAQAAAGBqhB4AAAAApkboAQAAAGBqfE4PAACoJxv1WuMl2lnJkcum/VmPz+nghWvs17u2DHVxxKm3h2ccnBmv98KS9EBULS+VkaznN0R5qW4AvkToAQAA9eRaPfDLtUVfFqbr+Ueu1OOrrj2vmc47qABokGhvAwAAAGBqrPQAAAC/8NXQCUr7oOhr93a3gzPjNefl70uft+94umjcyxMUf1+oRv3iYStbRrLi79tW9PWQCUoqt8rk3nrXRuFbknRnSCXndb1ZMx3RaleruQEYjZUeAABguIMz45WmCUr6ZYmSflki+46n9VqGJO3Xhnfaa1Tp8xnSqiWaOa2Ngl9foiRPA4826rXl15fOP7P728XzF9l533r1Lz6WtKWPtvdK1ldSURvefSq9ftKsA5ozdOM5s3+1/IDCt5TMvV7vFnrjpwLAWwg9AADAYPu14R0p/KWy1ZHeL92sQ8uLwkWX7geUVhw0eq/yfIOC8q7VHd3fVnzjCYpvPKF05ahIe4VvcZs3JFr2Idv0ZYZ08K/50rSosmNRUQrfsb4oELnV36F7e+Xeka6DktrNiStbJQLgF2hvAwAAfuB75faaoFz3p4ZcKamDeq9KUu+MZMU3XlLaXlZrhen6v3f6aOYvxa1pGcl6zcNTj778tOJfdn8mVF3KjeigdnPilDQxXc83nqCjqkXLHYB6wUoPAAAwWAeF3VXSrlb8eD1UwWOvlbRf787cKEXFKemXJRrVPV8bilvHDm3Y7/klvjqgo92vLL4XZ7/e/cM2t4MHSldpJEmF6cr5IFT9o6R2E/vosiFlbXdJv0xQ8JDrzwk0X81M18GQaD3+yxLNnHZAX2YIgB9hpQcAABiu3Zwk9R86QfH3FT8xZIJmvrRfKtwr7Xi7aJWn+PmkEEkT+0i9nlb8y5WtqmxTWuMJSiv9vmjMqOUTiudpo/BpoUWhKapos4Tg7gc0p/GE4vFFGxn0lqSQaD0+Nrns+grVqC1RRW1spfNvlHa4nd/1Zs2c472fDYC6s7hcLpfRRQAAAP+3Zs0a2e12Tf/iaXXo3dnockxt35d7tGDAs/rwww91yy23GF0OEPBobwMAAABgaoQeAAAAAKZG6AEAAABgaoQeAAAAAKZG6AEAAABgaoQeAAAAAKZG6AEAAABgaoQeAAAAAKZG6AEAAABgaoQeAAAAAKZG6AEAAABgahcaXQAAAAgMLpdLkvTmxGW6qPlFBldjbj/975TRJQCmQugBAAAead26tQYNGmR0GQ1DC8k26Fe67LLLjK4EMAWLq+TXNgAAAABgQtzTAwAAAMDUCD0AAAAATI3QAwAAAMDUCD0AAAAATI3QA/ihI0eOaPv27UaXAQAAYAqEHsAPvfXWW5owYYLRZQAAAJgCW1YDAAAAMDVWegAAAACYGqEHAAAAgKkRegAAAACYGqEHAAAAgKkRegAAAACYGqEHAAAAgKkRegAAAACYGqEHAAAAgKkRegAAAACYGqEHAAAAgKkRegAAAACYGqEHAAAAgKkRegAAAACYGqEHAAAAgKkRegAAAACYGqEHAAAAgKkRegAAAACYGqEHAAAAgKkRegAAAACYGqEHAAAAgKkRegAAAACYGqEHAAAAgKkRegAAAACYGqEHAAAAgKkRegAAAACYGqEHAAAAgKkRegAAAACYGqEHAAAAgKkRegAAAACYGqEHAAAAgKkRegAAAACYGqEHAAAAgKkRegAAAACYGqEHAAAAgKkRegAAAACYGqEHAAAAgKkRegAAAACYGqEHAAAAgKkRegAAAACYGqEHAAAAgKkRegAAAACYGqEHAAAAgKkRegAAAACYGqEHAAAAgKkRegAAAACYGqEHAAAAgKkRegAAAACYGqEHAAAAgKkRegAAAACYGqEHAAAAgKkRegAAAACYGqEHAAAAgKkRegAAAACYGqEHAAAAgKkRegAAAACYGqEHAAAAgKkRegAAAACYGqEHAAAAgKkRegAAAACYGqEHAAAAgKkRegAAAACYGqEHAAAAgKkRegAAAACYGqEHAAAAgKkRegAAAACYGqEHAAAAgKkRegAAAACYGqEHAAAAgKkRegAAAACY2oVGFwAAQG3s379fhw8f1qFDh3T48GEdPnxY33//vU6ePKmffvpJP//88zn/df+6SZMmatKkiS666KIq/3vxxRerdevWuvzyy9W2bdvSR8eOHY1++QCA82BxuVwuo4sAAKDE9u3btWPHDm3ZskUFBQXas2ePvvvuOx0+fFg//PBDtedecskl1YYF9MpmAAAgAElEQVSZiy66qFwgqiwknThxotprtGjRQm3bttUVV1yhLl26qGfPnurVq5e6d++u0NBQb/4oAABeQugBABhi+/bt+uqrr1RQUKDt27dr+/btKigoKDemU6dOCg4OLl1xcV95adeundq0aeOzFZiSFaXvv/9eBw8ePGd16dChQ9q1a5e+/fbbcueFhISoR48e6tmzp3r27KnevXsThgDAYIQeAEC9+OSTT5Sbm6v169frs88+0+HDh0uPde3aVT179lRoaGhpWAgNDVXz5s0NrNgzx48fLw1t27ZtK/363//+d+mY1q1b67rrrlN4eLiuv/56hYWFqWnTpgZWDQANC6EHAOB1R48e1T/+8Q99+umnysvLU15eXumxzp07Kzw8XOHh4br22msVGhqqZs2aGVitb5w4cULbt2/Xxo0blZubq9zcXO3Zs6f0+DXXXKPrrrtOAwcO1M0336zWrVsbWC0AmBuhBwDgFQUFBXrvvff07rvv6pNPPil9vl+/fqUh54YbbmjQmwEcOHCgdMUrNzdXX3zxRemx8PBw3XnnnbrjjjtohwMALyP0AADO20cffaTVq1crOztb33zzjSTpqquu0tChQ3X77bcrPDxcl1xyicFV+q+TJ09q/fr1ev/997Vq1SoVFhZKkoKCgjRs2DDdfvvtGjJkiMFVAkDgI/QAAGpl48aNWrZsmdLT03XkyBFJUmRkpG6//Xbdeeed+tWvfmVwhYFrz549eu+997R69Wp9/PHHOnnypFq1aqWoqCjFxsZqwIABRpcIAAGJ0AMAqNHBgwe1dOlSLV26VAUFBerSpYtuu+02DR06VDfffDOrOT5w8uRJffzxx1q1apVWr16t3bt3q3v37ho3bpzuv/9+tW/f3ugSASBgEHoAAFVKT0/XsmXLlJOTo6ZNm+q3v/2tJk6cqBtuuMHo0hqcvLw8LV68WJmZmTpx4oRuvfVWxcbG6u6772YnOACoAaEHAFDO0aNHNX/+fC1YsECHDx9WaGioJkyYoNjYWLVs2dLo8hq8H3/8UStWrNDixYv1r3/9S61bt9bUqVM1ffp0tWnTxujyAMAvEXoAAJKkffv26cUXX9T/+3//T2fPntXIkSM1ceJEXX/99UaXhips3LhRf/3rX5Wenq6zZ8/qgQce0GOPPaauXbsaXRoA+BVCDwA0cDt27NCzzz6r119/XS1bttRDDz2kmTNn8rkxAeTYsWOaN2+e5s2bp6NHj2rUqFF66qmn1LNnT6NLAwC/QOgBgAbqn//8p55//nmtXr1abdu2VVxcnB5++GG1aNHC6NJwno4fP65XXnlFL730kg4ePKjIyEg9/vjjuummm4wuDQAMRegBgAZm165dmjx5sv7+97+rQ4cOevTRRzV58mRdfPHFRpcGLzl16pSWLFmiF154Qfv27dOgQYO0aNEihYSEGF0aABiikdEFAADqx48//qi4uDgFBwcrLy9PzzzzjL755hvNnDmTwGMyTZs21bRp07R3714lJSVp06ZN6tGjhx566CH997//Nbo8AKh3rPQAQAOwePFiPfXUUzp8+LDGjRun5557Th06dDC6LNSTgwcP6qmnntKSJUvUunVrPfPMM5oyZYrRZQFAvWGlBwBMLDc3V3369NGkSZPUvXt35efna+nSpQSeBqZdu3b661//qq1bt6pXr16aOnWqrr76aq1bt87o0gCgXhB6AMCEfvjhB40bN04DBw7U0aNHlZmZqU8//VS9e/c2ujQYKDQ0VGvXrtXKlSt14sQJRUREaPTo0Tp27JjRpQGATxF6AMBkPv74Y/Xo0UPLly/XM888oz179ujee++txQzpslvsSq/sUGGcgoLiVOilWmGM4cOH65tvvtFzzz2ntLQ0hYSEKCcnx+iyAMBnCD0AYBKnTp1SXFycBg8erJYtW+pf//qXnnrqKaPLgh+Lj4/Xzp071bFjR912222aPHmyTpw4YXRZAOB1hB4AMIHNmzfr17/+tebNm6fHHntM27dvV69evYwuCx5Kt1tkr3Rpzfeuuuoqbdq0SX/84x+1aNEi9erVS59//rkxxQCAjxB6ACDA/fnPf1a/fv30888/Kzc3Vy+88ILRJSEA/fnPf9bGjRslSddeey2rhABMhdADAAHqv//9rwYPHqyEhAQ98MAD2rp1q66//vp6unqh4oIqW51wux8o3S6LPb3ovxZL6aPyc8qOWyoMKFoFKRtjT/d87nS7perjxfcnpccFFR0vvlep2nOKr+s+Jiiu8JzXcM5rLIxTkKXiOWXPj1ojrRlV8dzqfi6FigsKUlx6ybxBivPCjVbXXHONtmzZosmTJ2vWrFkaMGCAjh49WveJUaWkpKRyf94C+dGmTRsdOXLE6B8pUDkXACDg7NmzxxUcHOyS5Hr99de9PHuaK1JyqapH1+muApfL5UqLLPu6WMH0ri5FphVPE1k0vuT7ohGu6V3l6jq9wO1aXV3T3SdJiyx3TlqkXFKky30Wj+ZOi3S7TiXXKpju6iqVH1PTOcXXLbts0TXL1Vcw3dW1uu+Lf07u10mLdJ/Tk59L8XUr/Py9KS0tzSXJdeWVV7q+/vprH12lYdu8ebOrSZMmVf9dC8BHVFSU0T9WoFKEHgAIMF988YWrbdu2rssuu8yVm5vrgyukuSIrhowSBdNdXUvfaBe4pnd1f2Ne4ftKQlHFOSq++S+bp+z6aZE6d4wHc1f6ytzDRSVhpMZzqgh65esrCiRl2a9ioHG5XK40V6TbPBXH1PxzKX8NX8nLyyv9s5aXl+fbizUwp0+fdvXp08fwkOKLR1qaj/9gAueB9jYACCDvvfeeBg4cqFatWmnTpk312M5WmRBNGi7NiytuuypcpCwN16QQ9yEDFHLOaQMUsqdQ+ZLyC/doz7weFdpkemjenkLlFbqfcs4sNc4tnduqNmpNhfFdQ9SnwlM1nlPZdcsPUFm5Ra+jpHWt7DFKa9zqrMizn0tXhVQs3svCwsL05ZdfqkOHDhowYIDefvtt316wAXnxxReVn1/Vn4DANnXqVNrc4HcIPQAQIFJTU3XnnXeqX79++vLLLxUUFGR0SQpJTlLkmqVKl1S4KEsaPql8ICjMO/czfQrzVFgcNvqEdFXX6QVyFXUeuD12K7n6ZFHj3Ol2i0Yprdy8aZHVT3k+51SvKABFplV8fS65XDmKruKsOv1cvKxLly7asGGDbrrpJt1zzz1asmRJ/RZgQvn5+UpISDC6DJ85cuSIpkyZYnQZQDkXGl0A4O7NN9/U1q1bjS4Dfu62225TWFiY0WXUqzfffFP33Xef7Ha73n//faPLcROt5Onxssela3hWiJJ2V3hHvmee7HGTtLv0nXqh4uzzpOEFReEoOUkhFrviJrm9mU+3yzJKSqsmFHgyd76kyFi3GQrjFL9GComt/hWdzznViU6ervgedqVHl72ewrgg9cgaroLdyZWuGoXU5efiA82bN9c//vEPjRgxQhMnTlTTpk01ZsyYeq7CHM6cOaP7779fP//8s9Gl+FRGRoaGDx+u6Oj6/tMKVI7QA7/y1ltvKT3doA+rQMBo06ZNgwo977zzju69914NHjzYzwJPkZBJw6UeozQvMk3JFQ9GpilHdlkse9yecml36fugaOW4VLRLWclTXaerwFV5GKjN3NE5aVpqscgyqmzetOldFZ9XKEVXPvv5nFOjkGTtLijepc2tdlfZD6E4GBVdNzLNpZzoOvxcfGjlypUaOnSoxo4dqyZNmigqKsrAagKTmdvaKpo6daqGDBmi1q1bG10KIIvL5XIZXQRQYtSoUdq6davWrKnYRA9IJ0+elM1m0/z58zVt2jSjy6kX77zzjoYNG6bBgwdr1apVatq0qdElVaJQcUE9VJjkUo77L3XT7bIsjZUrxwe/6fXl3KjR0KFDtXr1aq1cuVLDhw83upyA4XA4FBoaavpVHndRUVH8MhN+gXt6AMBP5eTkaNiwYRo4cKAfBx4Vb2AwXcnkjwZj1apVuuWWWzRixAhlZWUZXU5AaChtbRVlZGTwZwR+gdADAH5oy5YtpfcurVmzxn8Dj6T0uHnnbmAA03v33Xd14403asSIEdq0aZPR5fi9F198UZ9++qnRZRjioYceYjc3GI7QAwB+5siRI7rjjjt05ZVXas2aNbrkkkuMLqlShXFBRVs6F05XTmVbikXn+K79zJdzwyNNmzbVqlWrFBISojvvvJM3tdVwOBym3q2tJk6nk93cYDhCDwD4mREjRujIkSNavXq1WrZsaXQ5VQpJ3l20jXIVO5DB/Jo3b6733ntPx48f14gRI4wuxy811La2imhzg9EIPQDgR/7whz/on//8pzIzM9W9e3ejywFq1K1bN7355pv65z//qUceecTocvxOQ25rq4g2NxiJ0AMAfmLVqlWaPXu2nn76ad12221GlwN47JZbbtHs2bM1Z84cvf3220aX4zcaeltbRbS5wUiEHgDwA19//bWio6M1dOhQJSYmGl0OUGtPPPGE7r77bo0ZM0YFBQVGl2M42toqR5sbjELoAQA/MGHCBLVq1YrPs0BAW7FihTp06KAHHnjA6FIMR1tb1WhzgxEuNLoAf7Fz506tX79eu3fvLvd848aN1bdvX4WHh/v1DcUAAldWVpY+/vhjZWZmqnnz5kaX4wfSZbeMktIqfNipx8eLFcYpyC7lsNFCvbnkkks0f/58DR06VKmpqYqJiTG6JEPQ1lY9p9OpmTNnaunSpUaXggakwYaeH3/8Ua+//ro+/PBD5ebm6uDBgzWec/XVV+vGG2/U8OHDdeutt9ZDlahf2YqxTtHaSo50Gr9OGxJt9V2Q57JjZJ2yttxTfl8zSj388MMKDw/Xvffea3QpfiJaOWlLZYmPU2F0JYElfanWRKbJxY7Vfun222/Xrbfeqscee0wjRozw2y3XfYW2Ns8sW7ZM9957r4YOHWp0KWggGlx727fffqvf/e53ateunaZMmaKVK1d6FHgkaevWrVq4cKGGDBmiLl26aMGCBTp58qSPK0b9GaZUp1NOp1POdePVKWJh0ddOp+fhwZGgMGuMsmscFiZrTE2jaqfT+HWl9TqdTj3pGCRrWIIcNZ6ZrRiPxsEXZs2apb179yolJcXoUvxLdKwi92RpUWHFA4WKi1+jyFgSjz9buHCh9u/fr9mzZxtdSr17+eWXaWvz0IMPPkibG+pNgwk9hw4d0tSpU9W1a1e99tprOnXqVJ3m27t3r6ZNm6bg4GAtX77cS1Ui4NkStcGZqmE1DtsgZ2pNo+pmWKpTC20pikkgzvirkjeFU6ZMUUgIDVjlRSs2co+yKqaewkXK2hMpMo9/s9lseuSRRzRr1ix9++23RpdTbxwOh/74xz8aXUbAKGlzA+qD6UPPyZMn9eyzz6pbt25auHCh1+fft2+fxo0bp169eumjjz7y+vzwD9kxYUpIiJHValVYgkOSQwlhVlmtVlmtYSrLFW6rJo4EhcUkVD4uO6Z4nqJVn5iEBIVZi8dVWHXJjik536qwhIRarcoMSxwv5awoHl9JzY4EhVmnaO2+FA2q8bXB2x599FE1adJEs2bNMroUvxQdG6k9WYvkHnsKF2VpT2SsSjJPut0ii6XsYa9mH4h0+7nHq3qubE670ssfdDsWpLhzVqJQIiEhQZdffrlmzJhhdCn1oqSt7X//+5/RpQSUZcuWadWqVUaXgQbA1KHnf//7nyZOnKg//vGP+vHHH316ra1bt+rOO+/U66+/7tPrwCj7lOIYWdrq5khIkFJLWsmelCOmiiCyNqds3EKbUhIqb2krGlY0bqEtRSXDsmOsmm0ra1tLVU6l9xxVydZPtn0ObZMqr9mWqA3OhYroNF7ravvaUCd79uzRG2+8oYcfflitWrUyuhz/dE6LW6EWZe0pa21Ltys+pEAul6v4kSaNqlsQSbdbKswZq6WlwSdd9lFSWsmxguHKsseJ3FO5Fi1aaMaMGXr77bdVWGj+nxJtbeePNjfUB9OGnp9++kn33XdfvYaQU6dOaezYsbS7mVInjU8sa0ezJY6UY1DJakjlmx8UnWbXmJLbgYaNVIRjU6UBopN9jMqGRcixySEpW5lrI/Sk2/1EtsRUja/N3gSOTXJ0sim0FjV7/NpQJ4sXL5YkPqivWtFKnq6yFrfCRcrSdCWXLPNE52h3cki58bGRe1SYf56XK4xTfOF05VSYM3l6oZaWLvcUKq/k/XtIsnazM1y1Jk6cKElasmSJwZX4Fm1tdUObG+qDKUPP6dOndffddys727s3invC5XJp3LhxWrRoUb1fG/UnO2aKtLBkNWRd1UHE1k+eZBRbP9/sspadkCIVBypPa/b4taFOlixZomHDhumKK64wuhS/FjJpuDQvTukqam3T8EnlQkbF9rZRa+pwsfxC7dkzTz0s5efsMW+PCvMKJUUrx5Uj2atofcM52rRpo6ioKL322mtGl+IztLV5B21u8DXThZ7Tp0/rvvvu0+rVqw2tY+rUqUpLSzO0BviKQ5scnWQLLf42O0EpPun/GqaREWs12/2mmlpcKzvGqimO8UpNtKnGmotb4OrvtTVs7777rg4fPqzJkycbXYr/C5mk4V3XaGl6uuLmScMnlUWedLtFo5Tm1ormUlpkbSZ3W7WRpD4h6tp1ugrc5it5lK0ohSh5d0l7W4jiCT41mjx5so4dO6a//e1vRpfiE7S1ec+DDz5IeITPmC70PPXUU8rIyDC6DJ09e1a/+93v9NlnnxldCrzOpsRUu3JKWsAybRqvktDgXcNS18meM6h0IwNrphRRxdh9KW7jrMX3Am1ILF5pqq7monA1xWpVWILq7bU1ZCkpKercubMiI2v1Dr2BCtGk4V21ZtQorek6XJMq9JKV27q6ME7x1az09AnpqjXxbvfgpMdp3h73SyUrKWSe7OVuCkqXvWSDhHS7LEHcw1NbgwYNks1mM+W27LS1eZfT6dSjjz5qdBkwKYvL5XIZXYS35OXl6brrrjO6jHKCgoLkcDh0wQUXGF1KQBg1apS2bt2qNWvq0qNiZtmKCdukxNIw07CcPHlSNptN8+fP17Rp04wu57zs379fHTt21PPPP6/f//73RpcTGArjFNRjnjS9oMI9POmyW0ap9F+LrtOVNjxL8Sq+16cwTkF2Kcftvpt0u1sLXMXxlY1RV00v2K3kEBXdjL/Irh6lSansGKo3f/58TZ8+XU6nUx07djS6HK+54YYbWOXxgffee48PLYXXmSr0XHfddcrLyzO6jHO8+uqrmjRpktFlBARCT3nZMWHalLhBpXsZZMfImjnS55/x46/MEHpSUlI0YcIE7dq1SzZbQ4yuaIj+85//yGq1asGCBZo6darR5XjFokWLaFH1EavVqsLCQjVv3tzoUmAipmlvy8rK8svAI0mJiYn673//a3QZCDgOhSamSm6f09OQA49ZrF+/Xq1btybwoEHp2LGjgoKCtH79eqNL8QqHw6HHHnvM6DJMizY3+IIpQs+ZM2e80lN7xaDHlbZ5v06W3rx6Ukf//ZnSHh+kuuyvdODAAc2dO7fO9aGhsclmsylxg7P0c3oIPIFv/fr1Gjx4sNFlAPVu4MCBys3NNboMr2C3Nt9bvHgxu7nBq0wRej755BNt3bq1TnN0f3Cl8tcmKbpPezUtfbapWgUNUHTSWu3ePFdhdZj/1VdflYk6CQGch++//147duzQwIEDjS4FqHcDBw7Unj175HQ6jS6lThYtWsR9PPWE3dzgTaYIPUuXLq3bBFErtXbRcLXXKe3OitfwPu1lsVgUMiBWyWsPSJKa9onT0lfPP/YcPHhQ69atq1udAAJayW6OhB40RCV/7gN5V9N6a2uLWqn9Lpdcm6vuEpm72SWXa79WRnnjcvu1vxYTzd3sUjWleQ1tbvAmU4SenJycOpwdplf/NFztJRUuitCvRjyv7K++kyTt2LBMM27qo9isouATYo9TXTaYzcrKqsPZAALd+vXr1bRpU/Xv39/oUoB6FxoaqhYtWgT0fT312tZ24IAO9IlQ5dliriL61E8ZRlu8eDEra/CKgA89u3fv1nfffXf+E0TGyR4i6ViOkidvqGTAd1o2KV35khQUUuVnpHjCXzdaAFCzlStX1nmOnTt3qnv37l6oBghMPXv21K5du+r1mv/+97+1cePGOs9T/21tecrL76OIylLP3Aj1yc9S8e9kTY97qOANAR966hwk1ozSr0IGyG6P0+KqxpRkqmMH6vShdF988YXOnDlThxkAGGXs2LG69NJL9fDDD+vLL788rzmOHj2q1q1be7kyIHC0bt1aR48erddrfv311woLC1NwcLBeeOEFHTx4sNZzGLVbW/rafPWJXqnyjWdRWhndR/lr0+u9HqM4HA7a3FBnAR968vPz6z7Jjg1as2FH1cejgtRe0qnCtVpWh8ucOXOm3n/DBcB7fvzxR73yyiv6zW9+ox49euill16q1RuoY8eOEXrQoBkReho1Knqrs2vXLj3++OO64oorNHToUL355psez2HYSsOMJGVpgKLdU09UtAYoS0kzKjthrjaX7kDrksu1+dz2uJL7hUoeld6cU2Ge+riBpwa0uaGuAj70HDjg67XdMM2Nt6u9disr6fk6z7Z79+66lwSg3lksFknS2bNnJUk7duzQo48+qiuuuEJ33XWXR/fssdKDhq5169Y6duxYvV6z5O+uuzVr1ujee+/VZZddpocfflibNm2q8nxjd2vLUHqeNMAt9URFD5Dy0pVRcWjUSu13RWt3tEUWS/EjWYpzDz5RK7U/fYDy3MesjVD68PZuE83V5orzrI3wi+BDmxvqIuBDz6lTp3w4+xUatzJLcX2k/ORojcqu+4z1/Y89AO+o+MbJfQv6nJwcjRgxQm3atFFcXJy2bNlS6RyEHjR0Rqz0VBZ6SlrNjx07psWLF6t///66+uqrNXfuXB0+fLh0nNPpNPxDSDNGpOvA8Pji4DJX8cOlvPRzIo/mxg+XsuI0wv3QjL5Kzu+j6OKd2aoaE+12c1DUymi1P2dMkrLaV7WpQv2hzQ11caHRBdSV70JEmKZ/nKXkiFbKT7bLPqOyTQ5qz7chLfCtX79e3377raxWq9GlwI+99957OnTokM6cOaOzZ8+We1T2XFXP1+a56v7u/vLLL5KkI0eOaPHixZo3b5569eqlCRMmKCYmpjToHDt2TH/729+0YYN3/j0BAs2+fft08uRJPfHEE2rUqJFX/m7W9NyRI0eqrennn3+WJBUUFOj3v/+9Zs6cqbvuukuxsbE6deqUH6wszNDafFfxhgYR6pOfrr7nLvMoqL10YO25YShv9wHFBQ2QpCrHZOw+oOSgoq8HBLVX+z7pcrkq3jN0QFlR0rlLTPXro48+MrYABKyADz2tWrXywaxheu6zHMUPkPKSInTdE957g9K+ffuaBzVgnTp10okTJzR27FijS4EfOn36tObPn68mTZromWeeKX2+adOmatSoUenjggsuKPe9N57zVEk4KpkHQJmSVZekpKTS5y6++OLz/rvpyVhPNxByuVw6ffq0JOmiiy5S48aNNWLECK1YsULvv/++938YtTBjbb5c0Su18kAf5a/tW8mIDO0+kK4BQeemkgFB7XVgd161Y6KCyt6b5O0+oAO749RhhMHppgrLltXl7mo0ZISeiq4YpLk5OYrrc0xr44brpnne/Y1s8+bNvTqf2XTp0kU//PCDHnnkEaNLgR86efKk5s+fryFDhujdd9+t12u3adOmyt8Yl/zG+oorrlBsbKweeOABBQcHnzPu8ssv1913360XX3zR1+UCfulPf/qTEhMTy7WH+lpubm61HwhssVjkcrnUr18//e53v9Po0aPVsmXL0uMpKSkKDg7W8ePH66Pcys1IUlZ0uoa3z1J0pRsYSDOSshSdnqyVURllrWlzNyuuT76Si5eGqhqTPry9DhTflpgxIl3xrnPHuOKkZEtfVXH5evHggw8qPDzcwAoQyAI+9ISEhHhvsiuG6dW16ZoUdEDpsQM0alkdPv+nCjabzetzAvC9yu4LkIp+I3zPPfcoNjZWt956a7VztG3bttz9AkBDc/jwYXXp0qVer1nZ392SoNOhQwc98MADio2NrfL/zx07dtRf/vIXTZ482delViND6XnJGqBKNjAoHTJCHTKKd10r7UzLLx9UMkaog1Zqf7rbmANZSs5qr+jSiWaor0Xl5zmQpWjLCEM727p166aXXnrJwAoQ6AI+9Hjtg/6uGKeV+Us1vFWhFkVHaHK29wNP69ataW8DAlRJq1rJm6Xrr79eEyZM0L333qtmzZp5NEebNm30/fff+7JMwK8dPnxYbdu2rddrVmwzveiiizRy5EjFxsZq8ODBHs0xadIkvfPOO/XX5pYxQh0yKj7VoULoyNCIioM0Q30tNazFVDJ30ZmezzOjb+W/BPKlZcuWefxvLVCZgA891113XembkPMWNl0fZyUrommekiKukxdv4Snnmmuu8c3EAHzuwgsvVOfOnTVx4kSNGzdOnTt3rvUcbdq00aFDh3xQHRAYjAg9JSs94eHhmjRpku655x5dfPHFtZ4nJSVFvXr1qnFjBHgfbW3whoAPPa1atVLfvn2r3WO/WmHP6bOceA04tVZx9pvk5Vt4yhk6dKjvJgfgU2+88YYiIiLqNEebNm1UUFDgnYKAAHT48GGFhobW6zW7dOminTt36qqrrqrTPB07dtRLL72k+++/30uVwRO0tcFbTLG10JgxY8773OcWxWtAK0ntI5Sc5/4pxpU9KvlkYw81btxY0dHRNQ8E4JfqGnikonsQd+7cydb1aLB27NjhvbZ0D3Xo0KHOgadEbGysbrvtNq/MhZo1atSItjZ4jSlCz6hRo8773KZerKM6kZGRuvzyy+vpagD8UUl7xsaNGw2uBKh/Gzdu1KlTp6rdSS0QpKSk8CHD9WTatAgOrscAACAASURBVGm0tcFrTBF6rrjiCo0bN+68zp3R1yKLxdPH+W/VOHXq1PM8E4BZXH/99ZKkTz75xOBKgPpX8ue+5O9BoCppc4NvdevWTbNmzTK6DJiIKUKPJD3++ONGl1Clfv36yW63G10GKuFICJPVaq3kEaNso4urgSMhTDG1KTI7RmEJjvO4UrZiwhJ0PmfiXOHh4YQeNEiffPKJ+vfvr6ZN66vHwndoc/Mt2trgC6YJPT169ND06dONLqNSc+ee751A8DVb4gY5nU45nU4tjOik8eucxd+napiHczgSwmT1IH1kx1jPM3TATAYOHKj169cbXQaqlS57yQq/Pb3m4fDIJ598EvCtbe5oc/Md2trgC6YJPZL07LPPqlu3bkaXUc6DDz6oG2+80egy4EO2xA1yptYckYalOrUhkQ+nbejCw8P1448/avPmzUaXUs/cgkRQnAqNLqc6hXll9bl/jfNWUFCgI0eOmOqNLG1uvkFbG3zFVKGnefPmev/993XppZcaXYok6dZbb9XLL79sdBk4L0UtXQkxVlmtYUpwSMqOKWt/c1/ZcWsby44JU0JC5ePK2tHc5y56lF8oylZMaZtd0Xy1WyFyP79im942JYRVcV1HgsJqbO+rbm54YvDgwWrWrJneeusto0tBVUKStbtk187dyQoxuh4TKPnzHhkZaXAl3kWbm3fR1gZfMlXokaSrrrpK6enp53wCc30LDg7Wm2++qcaNGxtaB+pgX4ocI51yOjco0ZatmMyRpa1w62yzq7ifZp9SHCXj1mm8Y7YqzSulczvlXDdejtkl98xkK8Y6Wza3NjvlrK1V2dkxmRrpLJnbptluhe5LmS2llsy9UJpSHOiUrZhBObKvczuvsvt4sjPlGL+udEwm7Xq11qxZM40ZM0aLFi0yuhSg3ixYsECxsbF+80tJb6LNzXsee+wxU60Gwr+YLvRI0m233aa//OUvhl2/devWevfdd035j3uD0mm8Eku71oYp0Ta7dIVkUMq+Kk+LGFlykk1j7JJjW6WjVDZsjP4/e/ceF2WZ/3/8PaXlqc1DnitQWQRJ0Q5KWsmuJSgi6lZAuXlIKisD0b6ytdnaZuGvVXFN00zD1Bi2UjwVVJYdMNFa0VJGRYMOgqika6XltvP7AxiGkyIM3HDP6/l4zANm5rqv+8PYrry9Pvd1BytbeyVp/b+0NfAJlXbBeWnWmkm6mKa4sFleeq5kNWbwK3KuNHBxhtPcYZo1SUpdlV3xvF6z9IRXqlaVyzTZfl7yeuXeoqDkNUtraNerkaioKJ04cULJyclGl9LwWIPL7ZoZrApX1VQY46kYpx40W4xn6bElYz1jZCt3rY412GmOMtfuVHJNjy1GnsWvecZYFeNZeqxnTMUGuDJzWzwVYy093t0uE1q/fr2OHj2qqKgoo0upE126dNGiRYuMLqPR69Gjh5555hmjy4CJmTL0SNLUqVNltVrVvHnzej2vv7+//v3vf8vb27tez4s6lv207k0N1kclKyiLA6sYeLW8qnOz8au9VDf3JM/W0/c6rdh8v1iB1T1068NldrB7eGvFIV5es7Tm+zXSvZW15aG6rr/+evXu3VsvvfSS0aU0KLYYT1ki08q9mqZIS2moqXxMrhb4lg0+jmNLxvoElG1TS4tUmWnSIisNL5XJXRCpBbnOz32dgoxNMZ6WsnMrVwsiFyhX7umll16Sl5dXo9+q+nwiIiIUFlbd7W9QXklb22WXXWZ0KTAx04YeSQoPD9fOnTvl51c3v16WN3bsWG3fvl0eHh71cj7Uo73Z+s7r+uIVl2w9/dzWujlP2N0K3Fq2JW79069cxHbRe5X9nZeuL16AyX76OW11enfrw87X4azX069IwX/2Kjrv1ZNKQ933H2lSYLD+XH4hZ/3TejrbS7Myitvy/kXqqalHHnlEH330kbKzaRGUJNliFFycJIKSiq+nsduVFCRJuVoQU5QqfBJylBUdpOiskjFZivYoGpOypJLQEpRUNC41ovwbSrLbZbcnqeQqk9yUJdXbtMAjWll2u+xZ0Sr5f/u0xOLUY40pDUQl53bU6H6+/fZbpaWl6dFHHzW6lDq3ePFi2txqiLY21AdThx5J8vPz044dO/Tggw/W2Tlat26tN954Q6tWrTLF/QdQibA1WqyHHRfwKzhQ2f+ui19Ww7Tmo2ClDi5dcfnXedZqtj5c9v5C964P05rF0sMlzxWswOx/O0LT1YEqbX3r+rDkaHcL05o1KrNJge7+c4XzrVe2sktqG5yq4Fn8y2ZNjR07VpL0z3/+0+BKGohMm2MlJC2ytDXMsWLitIuaT4C0wLdkjK8jZOTaMstN6qHohPJhp1jQeBW901c+FxlIPEY9VLRqVH71SJJte0mVQUpyBC0fJaSWBiR3UrKZz4QJEwyupO7R5lYztLWhvjQxuoD60KJFCy1ZskRhYWF6/vnnXXZjwGbNmumee+7R3//+d3Xp0sUlc8I4YWsynO7NE6Y1GWHl3v++zL17ZpW+oZKhZeco2s56TYXvy8/tpVkZa5wPUsb3s0qfr79XA/5dsV6vWRlyHlZqjb6vrFCnOitV/rwOpfV6ha0RHRyu0bJlSz355JOaP3++Hn/8cV1zzTVGl9Sw5dqUKSkzuHzrGBqq/Px8LVmyRNOmTXOba1wjIiJktVq1fj2r4NVBWxvqk+lXepwNGzZMH3/8sfbv368ZM2bUOKgMHDhQK1asUH5+vpYvX07ggQsVbWftvIa0/l9b5XU9GwaY0RNPPKErr7xSU6dONboU4/X1cayEeERnOdrbsqI9itvdUhUhqxLTyo9pWK1jPgElaz9pinRc6GNTTLD7XdMzffp0XX755Xr66aeNLqVe0eZWfbS1oT65Vegp4e3trfj4eH3//ffas2ePFi9erHvuuafKa3FuuukmTZ06VW+++aYKCgqUnp6uCRMm6Morr6znymF62X6aVabNrKv+dff3qsa9T9EItWjRQvPmzdNbb72lLVu2GF1O/cldIN/yu68pQanF6SV3ga/jPd8FuUXtbsFWObeilY7xLbOpgOEiEkpDWFpkw6yxHmzbtk1r1qzRCy+8oCuuuMLocuoVbW7VQ1sb6ptbhh5nvXv31uTJk7VmzRrl5OQ4/nXR+bFjxw7NmzdPf/rTn9S+fXujS4aZeXnJy2uWMhwbChB4zC4iIkIDBgzQAw88YHQphvNJyJE9qeLNK4OSSjYi8FFCTunGA0VvRjeolZ6iGks2YCjhoegk97qmZ+LEierTp4/Gjx9vdCmGYDe386OtDUaw2O12u9FFACUiIyP11VdfKS2Npn1UdObMGXl5eemf//ynpkyZYnQ5LpOZmal+/fopPj5eM2bMMLoc1AVrcPFW2x6KzspRQvkdEEwkISFBU6dO1Y4dO3TTTTcZXY5hjhw5ot69e6uwsNDoUhqcGTNmKD4+3ugy4GbcfqUHAIzWt29fTZ48WbNmzdL+/fuNLge1ZIvxLHfPH6uCHbsv+CjAxIEnJydHM2fO1Pjx49068Ei0uVXF39+ftjYYgtADAA3AnDlz1LFjR40ZM0Y///yz0eWgpqzB8l2QW+a6JIslUiWRJygpVVVsom0KYWFhuuKKKzR37lyjS2kQIiIiFB4ebnQZDQZtbTASoQcAGoArrrhCKSkpOnz4sFvc08SsbH0Tyty0tJSHorPsqnCPVBOZPHmy9uzZo40bN7J7mRN2cyv1+OOPy9/f3+gy4KYIPQDQQPj7++vFF1/Uv/71L73yyitGl4Ma8PHxkXwSlFNhUxxzX8fz5ptvasmSJVq4cKGuv/56o8tpUNq2bUubm2hrg/EIPQDQgNx///26++67NWXKFO3evdvocoALysrK0rhx4zRmzBg9+uijRpfTILl7mxttbWgICD0A0MC8+uqr6t69u0aNGqXTp08bXQ5QpZ9//lkjR45U586dtWrVKqPLadDcuc2NtjY0BIQeAGhgWrRoodTUVP36668aPnw4GxugQTp79qxCQ0N16tQpvffee2rRooXRJTVo7trmRlsbGgpCDwA0QNdcc40+/PBDHThwQEFBQTp79qzRJQFlhISEKDMzUx999JG6detmdDmNgru1udHWhoakidEFAM7sdrsOHz6sO++80+hS0AD973//M7qEeuXt7a0PPvhAt9xyi0JCQrR582Y1a9bM6LIADRs2TDt27FB6erp8fX2NLqdRWbx4sd577z23uGkpbW1oSAg9aFB69eql/Px8o8tAAzZ48GB17drV6DLqjZ+fn959910FBgYqJCREW7ZsMbokF7MquOQ+Nh7RyspJUP1ucuZ0/qAk2c+3p7QtRp6+C5QrySM6Szlm3o7tPIYNG6atW7fqww8/VJ8+fYwup9EpaXOLjIw0upQ6RVsbGhpCDxqUmTNnaubMmUaXATQoN910kzZv3qxhw4bp1ltv1YYNG9SmTRujy6oea7AskcW35rxQqDCCbbtsZb6PqOfQ1XicOnVKo0eP1ocffqj33ntPAQEBRpfUaEVERCglJUXJyclGl1InLrvsMtra0OBwTQ8ANAKBgYHaunWr9u7dqxtvvFGHDx82uqRqsCkmLq30aVqcYmxVjzaE8z11HKtMNsV4WmSxWGQJthpcYMPwzTffqH///vr3v/+tDz74QLfffrvRJTV6Zt7N7S9/+QttbWhwCD0A0EgMGDBAn3/+uSTpxhtv1KeffmpwRRdgW6KUXOcXcrUghhDR2GRkZOiGG27Q2bNntWPHDv3hD38wuiRTMOtubv7+/nriiSeMLgOogNADAI1I9+7d9fnnn8vPz0+33nqrrNaGGyKsMUXXv0hBCgoqfjEtUdWt2BpcvNpischi8VSMNUaexc/LL8CUHWuRxTNGZRaVbM7HWhVcMqet5PviVR1bjDwtvlpQEtbSIqtY8cksXQ2yWOTpvITldC7PGGsl45zOWf7YBmbt2rUKCAhQjx499MUXX8jb29vokkzFbLu50daGhoxregCgkWnTpo0++eQTRUZGKjIyUjabTX/729+MLqscqxJLOtuCxit1vGRJS5OUprgYmyLOuwmATTGeTsFDkpSrBZELKj2PYyOCMsMXyNeSouisHJU/VZrjAnIfBfhINYkcuQsitaDMc18FB9hV/pKlysZZFpQfU/mxRps9e7b++te/asyYMXrrrbeMLse0Xn75ZT300ENGl+ESrVu3pq0NDZcdANBoPfvss3ZJ9uDgYPvRo0eNLschK9rDLskuyR6UZLfb7Un2oOLn8oi2ZzlGVvJ6UpDjWBUdbLfbs+zRHio3p92eFFTxNXtWtN2j/PHOrynInlTZ+Ss7V1DpyDJzlNR6oXNVNu58xzYAx48ftwcHB9sl2Z988kmjywEAl6C9DQAasSeffFJpaWn6/PPP1atXL6WmphpdkiSrYkqWaTyilRAhSREaX9LilrtA57u0x7a9ZO0lSEmO5Q8fJaRGy6PsSJUOTSpdKfFJUPx52uk8ohNU20UVj1EPFW164BNw3t3eKh1X8v0FjjXCli1b1KtXL2VkZGjTpk169tlnjS4JAFyC0AMAjdzQoUP11VdfqU+fPho2bJgefvhhnT171riCrIml7Wa5C+RbfO1KpPNGbokN91okdxUTE6Pbb79d3t7e2rt3r0JCQowuCQBchtADACbQsWNHffDBB/p//+//6aWXXlKfPn305ZdfGlBJuW2qq3Ke7at9AkrWP9IU6dhAwKaY4JKNERwjVTo0snRzA1uM4pyuJ6rVqo7zfXxMKisrS7169dKCBQv0zDPP6JNPPlHnzp2NLgsAXIrQAwAm8vjjj2vnzp367bff1KdPn/pvT3Lepjooqej+N06PrOiSBrVcpSypIk5EJMgxrGT3NEv5jQ2Kh6YmydHJFlm8I5pvSTjyUHRCTSKPU5gqXqlqyDus1cbcuXPVq1cvnT59Wp999pmeeuopo0sCgDpB6AEAk7nxxhu1e/dujRs3Tk899ZS6deum9evX18OZy67GBI2vGDh8EuJVemlPcBWrPT5KyLErKcj5NQ9FJ5W/pkeSIpRqLz9Wkke0suwVd26rLucwZUabN2+Wt7e3pk+froiICH311VcKCAgwuiwAqDMWu91uN7oIAEDdyMjI0COPPKIvvvhCgwcP1qJFi+Tn52d0WTVjDZYlMk2SR6VbUePCbDabHn30UW3ZskV+fn5atGiRBg8ebHRZAFDnWOkBABMbMGCAPv/8cyUmJurAgQO67rrrNHnyZB0/ftzo0s7LFuNZrqXMqmDHTghO7WeollOnTmnKlCny9fXVnj17tGTJEn311VcEHgBug5UeAHATP/30k2bPnq3nn39erVu31syZMzV16lSjy6rIsaJTuaCkhncjz4Zs4cKF+tvf/qbCwkJNmzZNTz/9tK644gqjywKAesVKDwC4iZYtW+q5555TTk6OhgwZotjYWHl6eurFF1/UmTNnjC7PwdY3Qfasyq7f8VB0FoGnuhYvXqwePXroscce06BBg3To0CH94x//IPAAcEus9ACAm9q1a5eeffZZrV27Vu3atdOUKVP02GOPqU2bNkaXhho6deqUFi5cqH/+8586duyYQkND9cQTT7BJAQC3R+gBADe3f/9+Pf/881q5cqVatGihSZMm6fHHH9fVV19tdGmopiNHjugf//iHli1bph9//FH33HOPnnzySfXq1cvo0gCgQSD0AAAkSd99953mzJmj5cuX68yZMxoxYoQmTZqksLAwo0tDFTZu3Kjly5c7tiR/8MEHNWPGDHXr1s3gygCgYSH0AADKOHbsmBISErRo0SKdOnVKnTp10vjx4xUVFaXu3bsbXZ7by83N1csvv6zExEQdOXJEV1xxhR588EFNnz5dHTt2NLo8AGiQCD0AgEr99NNPeuutt5SYmKgPP/xQkjR48GBNmjRJY8eONbg69/P6669r+fLl+uCDDyRJt956q8aPH6+7775brVq1Mrg6AGjYCD0AgAv69ttvtXLlSq1cuVLZ2dlq1aqVgoODFRYWppCQEDY/qAOnTp3Spk2btGHDBqWmpuo///mPunXrpvvuu08TJkyQh0fF/e0AAJUj9AAALsq2bduUmJio5ORk/ec//5FUtAIUFhamMWPG8Mt4LXz77bdau3at1q9f71hda9Wqle666y6NGzeOm4kCQA0RegAANfbuu+9q8+bN2rx5sw4dOiRJ8vPz08iRIxUWFqYBAwYYXGHDt3PnTq1fv14bNmzQl19+KUnq1q2bhg8frpCQEA0bNszgCgGg8SP0AABc4sCBA44AtGXLFklSmzZt1L9/fwUEBCggIEADBw7U7373O4MrNc7p06e1bds2bd++XRkZGcrIyFBhYaEkKTAwUCEhIRo+fDhbTQOAixF6AAAud+bMGX322Wf65JNPlJ6erk8//VRnzpyRJPXq1Us33HCDAgICdOONN8rPz08tW7Y0uGLX+/nnn7Vv3z7t3LlTGRkZ+uKLL/TVV19Jkpo1a6aBAwdq0KBBuu222zRw4EC1aNHC4IoBwLwIPQCAevH555/r008/dTyOHj3qeM/Dw0N+fn7q1auX42uvXr0axa5kP/30k/bt26d9+/Zp7969jq85OTmOMe3bt9egQYN0yy236NZbb1X//v2NKxgA3BChBwBgiJKgcPjwYWVnZ+vQoUM6dOiQcnNzHWOuueYaeXt766qrrlL79u3Vvn17tWvXTu3bt9dVV13leL1z584ury8vL0/Hjx/XsWPHdPz4ccej5PmxY8d08OBBffPNN45jrr32WvXo0cPx6N69u/z8/OTn5+fy+gAA1UfoAQA0OAcOHNDXX3+tgwcP6ttvv9W3336r77//3vE4e/Zspce1aNFCl19+uS677LJKv15++eX65Zdf9Ouvv+qXX34p833J159//rnSuZs1a6YuXbqoa9eu6tq1q6699lpdffXV8vLyUvfu3dWzZ8+6/EgAALVA6AEANDqFhYWOAHTkyBHl5eXp3LlzLpu/SZMm6ty5syPgdOnSRe3atXPZ/ACA+kXoAQAAAGBqlxhdAAAAAADUJUIPAAAAAFMj9AAAAAAwNUIPAAAAAFMj9AAAAAAwNUIPAAAAAFMj9AAAAAAwNUIPAAAAAFMj9AAAAAAwNUIPAAAAAFMj9AAAAAAwNUIPAAAAAFMj9AAAAAAwNUIPAAAAAFMj9AAAAAAwNUIPAAAAAFMj9AAAAAAwNUIPAAAAAFMj9AAAAAAwNUIPAAAAAFMj9AAAAAAwNUIPAAAAAFMj9AAAAAAwNUIPAAAAAFMj9AAAAAAwNUIPAAAAAFMj9AAAAAAwNUIPAAAAAFMj9AAAAAAwNUIPAAAAAFMj9AAAAAAwNUIPAAAAAFMj9AAAAAAwNUIPAAAAAFMj9AAAAAAwNUIPAAAAAFMj9AAAAAAwNUIPAAAAAFMj9AAAAAAwNUIPAAAAAFMj9AAAAAAwNUIPAAAAAFMj9AAAAAAwNUIPAAAAAFMj9AAAAAAwNUIPAAAAAFMj9AAAAAAwNUIPAAAAAFMj9AAAAAAwNUIPAAAAAFMj9AAAAAAwNUIPAAAAAFMj9AAAAAAwNUIPAAAAAFMj9AAAAAAwNUIPAAAAAFMj9AAAAAAwNUIPAAAAAFMj9AAAAAAwNUIPAAAAAFMj9AAAAAAwNUIPAAAAAFMj9AAAAAAwNUIPAAAAAFMj9AAAAAAwNUIPAAAAAFMj9AAAAAAwNUIPAAAAAFMj9AAAAAAwNUIPAAAAAFMj9AAAAAAwNUIPAAAAAFMj9AAAAAAwNUIPAAAAAFMj9AAAAAAwNUIPAAAAAFMj9AAAAAAwNUIPAAAAAFMj9AAAAAAwNUIPAAAAAFMj9AAAAAAwNUIPAAAAAFMj9AAAAAAwNUIPAAAAAFMj9AAAAAAwNUIPAAAAAFMj9AAAAAAwNUIPAAAAAFMj9AAAAAAwNUIPAAAAAFMj9AAAAAAwtSZGFwBcyPLly7Vq1Sqjy3ArW7duNboEAAAAlyH0oMH7+uuv9dFHH6n7bd5Gl2J6p77/QScOHdPZs2fVrFkzo8sBAABwCUIPGjyLxaJmrZrpgS2PG12K6aUvfF8bY5MJPAAAwFS4pgcAAACAqRF6AAAAAJgaoQcAAACAqRF6AAAAAJgaoQcAAACAqRF6AAAAAJgaoQcAAACAqRF6AAAAAJgaoQeAKT3//POyWCw86vFRWFho9B87AACVamJ0AYAx8rTRa6bScyt5a2iU4jf3d8lZCmLjNG/hiTKvea9eponhLpke1fDA+9ONLsH0sjbv0Sfz35XFYjG6FAAAKkXogZvqrNDsZQqVJO3QCq/DGpEdoQ41mSo5QXMywjVjXudK3y4bcvK00StKca9dOFgVxMZp04B4AlItdR/c0+gSTO/4waOSJLvdbnAlAABUjvY2oF51Vmj2Mxq0f5lWJBtdCwAAgHtgpQeoxO6QKCW9W/R9mynPOFZxnNvV2kx5RhO0oPj5TMUtbKdBX8Yr1OdCs3dW6Gw/xb22QwrvLyUnKG7s3qK3ilvrHOdfGKW4sX6KPBcj/0rG1ZW//e1vdTLvTTfdpJCQkDqZGwAAoCqEHqCcgtg4JSlK8eeKQsXukCitSF6mieF5ytjQSZHn4uUvaXdIgvI2xyt+wPnb2yrl30lt9h9WgaRNrw1U/LkYx7lXJPfXxM3L1LlMe9sOrahsXB21vs2aNatO5n344YcJPQAAoN4ReoAy8pSxQRq0qXQVxX/uEKVO2yGFX6Nre+YrKWSH/Df3l//mmJqfZne+fug5UB3UXyN6ximu6TLHW94DKjuguuNcoy6uzfD09HT5nAAAANVB6AEqOKH03lFKd35paHdJneW/Ob6ozazpMsljiGJrtPlBnjY+uVfes2Mkm1Wvbuir2HPF8yQnaEVlh1R3HAAAACpgIwOgjM4aMLKdvFcvU/y54sdqP3nf119SnjbG7pDCYxR/bpkie2Yqw1Z01A/7v63m/MVbZfeMKmpN252vH3p2Lw5ORWHI2bGMvKJvLjAOAAAAVWOlByinw7x43RASpbixxS8MjVLs3DzJ9q20f21pi9nQKMX7SPIZKO+xyxTXdG2lGxkcGOs0l4q2sI4vuRYnPEaRr0UVz9lOg6b4FQWd8M7q8EBfqfdMxS0s2sigqnGNCVsaAwAAIxB6APXXxOyyO6H5b14m/wrjOit0c//ie/uUO/5c5TupdZgXr/h55z97+XM55veJ0IxzEaVvVDWukeDGlQAAwCiEHgC4oOK2xNzSV5y3Mq+xC9zYFgAAuAbX9ABAtfgpsuQ6r3PPqNeGmS69wWxBbJziQnZccEzpOXdoRdM4bbS5rgYAAMyKlR4AuGhFG1686sLrqjrMi1f8RR1RdVslAAAoi9ADoN64eiOD7OxsjR49WpMmTVJUVJRatGjh0vmrlqeMDSfUfnZn7Q6J0zc9Oyl94d7iljeVaYXzXr3M6SayO7Si6TIdkFS0IUWn0inLtboVxMZp3sITRe8NjVKklinpXUkLoxQ31k+R58L1jVeyrs2OKb7Wy3nusu13zjWWzBe/mcAEAHAfhB4A9cJisejIkSPaunWry+bcu3evcnNz9X//93+aPn26Bg8erNjYWA0fPtxl53A6m5KaRimp+FmbKc9oRri0+7UTSt8/RvHnim5WuzskSvtGPqP4eZ1VdC1QnDb6xyvUZ4dWNF2r9l8u00QfqeQ6IY2seKaC2DjN2z9G8cUrOQWxcdo0YJlie8Zp04D44hCVp28cR1Q+94oBJYHLucY8bfRaoI22/hV2GqytTz/9VL/73e9qPU9AQICaNWvmgooAAChC6AFQL/773/9qw4YN2rBhg8vm7NSpkywWi3799VdJ0pYtW/TZZ5/pv//9r/7yl7+47DxFirYOr7irXzsNmluyarJDX7zrp+DNJS1vnRU6u5PmvJyn0AHbdGDomOJQUvzepiE69nL5+fKUsUEatKl0JabDocRpewAAIABJREFUvHhNlFSQUUVpyZXPPWfaDim8aJ6ie00VvTdgpLRptyQXh56wsDCXzPP111/L09PTJXMBACARegDUkyZNmmjkyJGaOnXqBcfu2bNHZ8+eveC4nJwcvf7665KKVpJat26tyy+/XPfdd5+aNm1a65prpuyKkCS1mWJQKQ7t1L5iWnO59evX12qlZ+vWrZo1a5YLKwIAoAihB0C96dKliwIDAy84rjpjJOmNN97QqlWrdMkllyg8PFyPPPKIBg0aJEl6/vnna1FpTfXXDUPXqv3c0pvUFsQmKOOBzsU3sV1bpq1s97QtOtZzcLk5ilZi5k3bodCS625seSrwKVo9qvSmtOHl587TxhFb1H52hOrTLbfcorZt29b4+IKCAknc0wkA4HqEHgD1xtUbGdx1111q3ry5RowY4dJ5a8N/c7S+8YpSXPFGBm2mRGmCpKLd1qQVTaMUVzzWe6hfpXN0mBev2Ng4xTVdVvSCRzsNmh2v0Af6Sr1nKm5h0UYGpSqZu8wGCgAAuDdCD4B6UVf/el8/gaezQrNjKn3Hf3N8uet8Ois0e5lCKx19nm2mw2M0wymkdJgXr/h55QdFaMa50tUb/zI1VT13+RpLrhECAMBdEHrQ4Nntdv323//p8Ef7jS7F9I4fLGovOnv2LLtnod6VBGNXrwgCAEDoQYNnsVh07uyvevn2fxhditsg8AAAADNx+9CzZ88epaen65NPPtG2bduUm5tbYcxNN92kW265RYMGDdJtt92m9u3bG1Cp+5o4caKGDBni0jn37dunHTt2uHROo3Tt2lV33HGH0WUAAAA0WG4Zeg4fPqwlS5ZozZo1OnLkyAXH79y5Uzt37tT8+fMlSYMGDdKkSZMUHh6u5s2b13W5bq9bt27q1q2by+b76aefdO+991brz74xuOSSSzR8+HDHrmUNGW1LAADACJcYXUB9+u677zRp0iT16NFDL7zwQo1/6U1PT9eECRPUo0cPLVmyxMVVoq5NmzbNNIFHkv73v/9p3Lhx+umnn4wu5bzYhhgAABjFLULP6dOn9eSTT8rb21vLly932bx5eXmaPHmyunfvLqvVyr9iNwLvvPOOli5danQZLnfo0CE9+eSTRpcB1AobGQAA6orpQ8/evXt1880367nnntOZM2fq5Bxff/21IiMjdd9991XrLvIwxk8//aRJkyYZXUadWbhwodLT040uAwAAoMExdejZsmWLBgwYoL1799bL+VavXq0hQ4bohx9+qJfz4eKYra2tvMbS5gYAAFDfTBt61q9fr5CQkHr/BXDbtm364x//qKNHj9breXF+Zm1rK68ht7lZLBbalgAAgCFMGXo+/vhjRURE6JdffjHk/JmZmQoNDdXp06cNOT/KKiwsNHVbW3m0uQEAAJRlutCzZ88ehYaGGn5tzc6dO/WnP/1J586dM7QOSLGxsaZuayuPNjc0VmxkAACoK6a6T8/x48cVEhKi//znP0aXIkl67733NGXKFLa1NtA777yjlStXGl1GvStpc0tISDC6FMO9POQFo0swvf/kn5LEtuQAgIbLVKHnxRdf1HfffWd0GWW88sorevTRR3XdddcZXYrbcbe2tvIWLlyou+66q1HctLQuXHvttRo8eLDRZbiHzp1l79RTTZqY6q8UAICJmOZvqGPHjmn+/PlGl1HBb7/9pr/+9a9KSUkxuhS3425tbeWVtLnt3r1bLVu2NLqcet/I4N5779W9995bb+dzd+fOnVPTpk2NLgMAgEqZ5pqep556qsG0tZW3fv16ffzxx0aX4Vbcta2tvEOHDmnatGlGlwEAAGAoU4SenJwcvfLKK7WcpafC56/TrrwzstvtRY8zP+jrz5I0I6hnrWucOXNmredA9bh7W1t5S5cuZTc3NArm3cjAqmCLRRaLRcFWo2sBAPdkitCTkpKi3377rRYzDND8XZmyxoxS307NSl9u1lqeARGKT83UrvkDalXjxx9/rIKCglrNgepx97a2yrCbG1AdpeGk9OGpGFstZw2OlC06S3a7XakRLikUAHCRTBF6EhMTa3F0R0V/mKqYvs2kk5laMj5APhaLLBYfBUTEKcV2VlIz9Y2xKims5mex2+16/fXXa1EnqoO2tsrR5gZUV5CSSlb77XbZs0Ypxbc2wcem7TYPjXrIx5VFAgAuUqMPPWfPntX+/ftrPkHPUerbWtLJrYrx6afJKzNUNNt+ZSTP0WjfQCVknpXkqYCIoFrVunXr1lodj/Ojre38jG5zq++NDACX8ElQfFCuUpbUcrkHAGCoRh96tm/fXrsbke5fqgn92qiTT4QWHK1sQIbitxb9ZdesWeuan0dFtaLuPPzww7S1XQBtbgAAwB01+tCTmZnpknmOHq008UjqqJgAH0lnlbM9udbnyM/Pr9UcqFxKSoqSk2v35+MOaHNDQ1ZXGxm89tpreu2112p2sC1GcWml7Wm2GM+qr/exBssSbJU1uPh9f39ZLL5akJurBb4WWTxjZHMe63ztULkdDqzBFgVby22AUH5+i0WeMTaVvxap7FQ2xXhWfY1S0XnKjvGs0MtX7lon55/jQp8JADQQjT702Gx19P+uHf01eNx8rcuyKS6gmc5mLlHMnNpPm52dXftJUEZhYaEeeeQRo8toNIxucwPq21NPPaWoqCg1adJEd999tz777LPzjE5TpPMv+L4pGpWVowSfol/ufW3xpdf72FOl4HK/5KdFKnF88fu7d8tuz1K0h4eis+yy5yTIR8UhIc5HWU7XDiUpskLwSYtM1Pji9x0bIDjPb8/SqBRfWSyl4+xZ0bJFBqtkJltMsGzx5a9RKn2/aMpgKbVkTJJ8FgQ7/UxWBVsipSSnOeJt8i2utVqfCQA0BPZGLjw83C7JZY/wdXllT3Amz74raYZ9cEfXzP/OO+8Y80GZmKv/G3CHR48ePew//vhjvf45eXt72++///56PSfqz6+//lrrOdauXVsn/7136NChzPNWrVrZO3ToYJ89e3a5CpLsQQqyJ1VaXRXvJQXZPaKzHN/LI9qeVWZAlj3aw8Me7XgxyR4k5+eVv54UpNJ5nc5Vfv6saI9y47Ls0R6yB1X+Q1Sop7LzOL+WFe1hV5WTVeMzAYAGookauZMnT9btCZq1VidPT3VqLamqDriLUOf1uhna2mqmpM1tyZIl9XZONjJAdU2ZMkVt27Y975iCgoJqtzcfPHiwzPOmTZvq5MmTKiwsrH5Rtu2yFa8CRZZ/LyhTUvHubD4BOu8+bbbtsslH4ysM6isfj1zZykxVyUwXml8+CvCRU/uZTTGevlqQ6zzGQ9Flpiw7Y18fD8f3mbZcefj0Pc/PUo3PBAAagEYfelq3rt3mAuUlj+6sZEnqOUBBARGKiXtIwQEPyZoZoIDAfpqa4dLToRZoa6udpUuXKiwsTMOGDTO6FKCMxx57TF5eXi6bz9PTUz/++KMkKSAgQFOmTNGYMWMubhKfAPnIpnh7qmp1qx2fAPkoRdttUkSZTJApW66HqsoXNVMUeFJGZcme4OP0WnC1Z+jr46FcWxUBxlWfCQDUg0Z/TU+zZs0uPKgm9mcobeVUDfP11PiUfKlZXz2UMEMdazmtq0OaO2O3ttqbNGkSu7mhwairjQyio6M1c+ZMff/99/rwww8vPvBIkiKUEG1TZJnrboo2AKh44f+F5pEWBJfdDMAaHKm0oHgluHxxpNw9gqwx5VZ9zs8nIV5BaZFlN0ewBhc/d9VnAgB1r9GHnk6dOtXxGY5q5UNWZUpq1je41v+aVff1ugfa2lzjyJEj7OYG05s6dar+8pe/XLBl7kJ8EnKU5RPntFOZr2zxduVcZFLxScgp2gzAacOESCXJnurq9RIfJaSOUoqv08YMieOVFFTcRlctEUq1J0mRTnNEStpeFNpc9ZkAQF2z2Bt5k31iYqImTJhQx2cJ17o8q0Z1ylSCpZ+m1nCWSy+9VCdPnlSrVq1cWp27KSwsVO/evVnlcaG33367ztvcfHx8NGjQIC1fvrxOzwNjnDt3Tk2bNq3VHCkpKRo9erQOHDig3//+9y6qDAAAE6z09OvXrxZHd5T/uPlat+szvRp2nmH+gfLpJOnsWdXmLjs9e/Yk8LgAbW2uVx9tbmxkAAAAjNLoQ0+fPn1qcZ3MUXkGj9KovgEan5CksEov2BmgGUsi5CPpbOZWJda4UumOO+6oxdGQJKvVSltbHaDNDQAAmFmjDz0Wi0UjRoyo8fHrI+OUki/JM0Ipts/00rgB6ilJ6qkB4+brnaytig9oLSlfqQl/qdWu1aGhobU4GuzWVreWLl2qd955x+gy4MbqaiMDAAAafeiRpPvvv78WRydr9KgYpeZLah2ghxK3y2a3y263aXtijIJ9mkk6qe3xozS6FgsM3bp10x//+Mda1ImHH3744u6rgYvGbm4AAMCMTBF6AgMDa3dPh4wFGtY3UA8lblXOybOlr589qZytiXoo0Ec3/6V2N+iZMGGC418xcfFoa6sftLkBAAAzMkXokVT7X9SOfqSlE/6gbm2al2692byNuv1hgpZ+VJumNql58+Z69NFHa1efG6OtrX7VVZsbGxkAAACjmCb0jB8/Xj179jS6jEpNmTJFbdq0MbqMRqu+2trC1+XJbrdr1/yqRszXLrtd9rx1Cq/92bQuL0/rqj3RxY6vnUmTJtFKCAAATMM0oadZs2ZasmSJ0WVU0LVrVz311FNGl9Fo1XdbW35+vvoGVpF65geqb71VYqwjR44oNjbW6DLgZtjIAABQV5oYXYArBQYGasaMGZozZ47RpUgqamt74403uDdPDR05cqT+29q2b1fmqEDNlyrchHZ+YF9lpqSoU0D9lmSUlStXKjw8vM5vWlqXZs+erffee8/oMtyC3W5X+/bt9eabbxpdCgAAFZgq9EhSfHy8Dhw4oHXr1hldilavXq2bb77Z6DIaLWN2a7Nqa6ZVEevCNdV5u77wdYromylrvBThJqFHKmpz+/LLL9W2bdtaz2XERh5ZWVn67PPtuvoGj3o/t7s5fqhALbKbG10GAACVMl3okaQ1a9Zo0KBB2rVrl2E1zJgxQ2PGjDHs/I2d1WrV+vXrDTn31PgURSREKFzJKok94REBUkqMpipCEeUPmL9L9hinxrfMBFn6lV0nCl+XJ+uoTk5DIpRT4czztcseU9pCV8k89a2kzS0xMdEl8xnRtnRV9w56YMvj9X5ed7Mx1qrsN/caXQYAAJUyzTU9zpo3b64NGzbI39/fkPM//PDDio+PN+TcZmBIW5uzZKu2K0ARjk0DwhURIG23Vry2KHxdnuwROYoo2fHPYlGCYmR32g0hfF2erAHby4zZGmiVUwZSUeCJUE5E6RjL1sAy8xhl5cqV3LQUAAA0aqZc6ZGkq6++Wp999pkeeOABrV69ut7Om5SUpIiICmsBuAiLFy82eOewZI22xskeN19KnirNj9MobVdEslR227b5ihslpUSMlnMcmtovQYH2CK0Ln6rRyVWNiZBnXoLjefi6CHVKiVG/MoPilZIXV+n1RfVt2rRpat68dq1L3PQUF8JGBgCAumLa0CMVrfisWrVKt99+ux599FH9+OOPdXauvn37avXq1fLz86uzc7iL2NhYvfTSS8YGn6lblWkv2tBAgX2Vae2nCus84Z7qpHxtrfDGduXkx8gzQJKqGpOsnPwEeRY/C/DspE59rbLbreXG5SslXKp48vqVlZWlP/zhD8YWAQAAUEOmDj0lxo0bp1tvvVV//vOftW3bNpfOfemll2r69On6+9//rqZNm7p0bnfVtm1bLVq0SJGRkQZWMVVbM+2KWLdO+X0ztbVfJUOSc5RvDZBnhVASIM9O+crZfr4x4fJ0am/bnpOv/JwYdR5tcLqpRGhoqJ599lldcskluvTSS3XppZdW+n1V79d2hQgAAKC2THlNT2W6d++u9PR0vf/++7rnnnvUrFmzWs139dVX66mnntKhQ4cUHx9P4HGxiIgIhYWFGVrD1PgUadQodUqJr6K9bKriU6RRCWVvVjp/V4z6ZlpVlF+qGlP2mp7k0Vblj0ooe/PR+btkt++SkVf1dO3aVYmJierTp4+uu+46+fr6ytvbW15eXurWrZuuvfZaXX311ercubM6duyoq666Sm3atNGVV16pVq1aEXgAAECD4BYrPc6GDBmiIUOG6PTp01q9erXef/99ffrppyooKLjgsdddd51uu+02hYWFaejQofVQrXtbtGiRPvnkE+Pa3JKt2p4QIFWygYFjyOjOSp6/S3a7XY7GtHK7riWP7iyty5PVaUx+SoJSOjlf+zVV/SzSLrtd9tJBirCMNrSz7cUXX3TJdtUAAABGsti5YlSSdPDgQaWnpysnJ6fM602bNlW/fv00aNAgXXnllcYU58asVqvBbW7uKzw8XFZr+WuMGpexY8fqwz0f67F/zzS6FNMr2bI6/0hejefYtGmTQkNDtW/fPvn6+rqwOgCAu3O7lZ6q/P73v9fvf/97o8tAOREREYbes8ddde3aVYsXLza6DAAAAJdwm2t60HgtWrSIFqt6RlsbAAAwE1Z60OB17dq1Aezm5j7Cw8M1atQoo8toGJITFDd2byVvtNOgL+MV6uOKk+zQCq/DGpEdoQ7VGp+njV7JujY7Rhd7++WC2DhtGhCvieEXHgsAgJkQetAo0OZWP2hrKyc8RvHFAaF2gaHmQQUAANQe7W1oNGhzq3u0tcFIFotFksT+OgAAV2OlB41G165dNXfuXE2YMMHoUkyJtraLZLNqTu8t+kGS5KfIcyWrODu0oukyHXC8PlBfFD9PbxqlpKFRit/cv1qnKIiN07yFJyRJbaY8oxnzOpe+6dx65zFEsU7tcbtDopT0rio/TlLRytNMpedKrm3VAwCgYWKlB43K+PHjFRISYnQZptO2bVva2i7KDq3onaleXy5T/Llliv+yk1K9rCqQpORtOjblGcfrX8Reo4nnntEgDz9FnltW7cAjm1WbFF00z7llCt6/QBttJW/uVdJrAx3vxY7M1LyQHZKKglKSopyOm6kV5W/2ZPtI+3qWjBmjY9N2uOZjAQCggSL0oNFZunQpLVguRuvgRUrepgNDx5SujvhEKLhnpjJsUoF/J7VfWBxQfCI0scIqSzX5ROiG/TMV1zRKcU1LV24kST2HKNYpPHWYN0be727TbuUpY4M0aG7pe/5zh+jYa+VDTXe137+sOAz118TqBrELOHasQBaLpcaPESNGSCptcwMAwFVob0OjQ5uba4WHhysiIsLoMhqfd5cprukypxfaaZCkDj4RmnhusDZ6RSkuV/Jevaxmmx8kJxSv2BQFkoLYBGVU68ATSu8dpXTnl4Z2LzvEp78mZvfX7pAoxY2tqgXu4rVs2Uoz//qULr30Ul166aVq0qSJ4/uqXqvsuYeHR61rAQDAGaEHjdL48eP15ptvavPmzUaX0qjR1lZD4QPl/WQnp22m87Qx5CMN8JGUbNVG/wiFZi9TqM2qOdN2SOHXSMrXNzbJv5rXzhRk5KtNz2uKn+3QpoX5av9A8dP9W/Rq7GBHUCmIXasDQ8doojqr88h2Oua8y1xyglao3EqOzaqNuyMUunmZ/LVDK7w+UsG86m6ZXbUWLVpo+vTptZwFAADXI/Sg0Vq6dKn69OmjwsJCo0tptGhrq6n+mrjpsOY0jSreyKCdBq2OliTtVr6O9Y5SXMnrXxatog0YKc3rHaX0yjYyyN2ieU23lD73GKLY7Gj18pqpuIWS5KdBU6RjuyX5FD1vv3+m4po6jy+as8O8eN1QvIIjSRoapdi5eZJKV3IKdkvHniwd4716Wa0DDwAADZnFzt6gaMQSExNpc6uh8PBwWa1Wo8uoU2PHjtWHez7WY/+eaXQpprcx1qrsN/cq/0ie0aUAAFABGxmgUWM3t5qhrQ0AALgTQg8avaVLl6pVq1ZGl9Go0NYGAADcCaEHjV7Xrl31wgsvGF1Go8FubQAAwN0QemAKDz30EG1u1UBbGwAAcEeEHpgGbW4XRlsbAABwR4QemAZtbucXFhZGWxsAAHBLhB6YCm1ulWvbtq0WLVpkdBkAAACGIPTAdGhzq2jRokXq2rWr0WUAAAAYgtAD06HNrSza2gAAgLsj9MCUHnroId1yyy1Gl2E42toAAACkJkYXANSVV199Vf369dOPP/5odCmGoa1NOn30lN5/ZoPRZZjeNxmHjS4BAIAqEXpgWl5eXnrhhRc0efJko0sxBG1tRU4X/Efv/32j0WW4hc6dOxtdAgAAlbLY7Xa70UUAdenWW2/Vp59+anQZ9apt27bas2eP26/yAAAASFzTAzfw6quvut1ubrS1AQAAlCL0wPRK2tzcBW1tAAAAZdHeBrfhDm1utLUBAABUxEoP3IY7tLnNnTuXwAMAAFAOoQduw8vLS3//+9+NLqPOhISEaPz48UaXAQAA0ODQ3ga38ttvvykwMNB0bW60tQEAAFSNlR64lUsvvdSUbW60tQEAAFSNlR64pZUrVyoxMdHoMlzCy8tLy5YtM7oMAACABovQAwAAAMDUaG8DAAAAYGqEHgAAAACmRugBAAAAYGqEHgAAAACmRugBAAAAYGqEHgAAAACmRugBAAAAYGqEHgAAAACmRugBAAAAYGqEHgAAAACmRugBAAAAYGqEHgAAAACmRugBAAAAYGqEHgAAAACmRugBAAAAYGqEHgAAAACmRugBAAAAYGqEHgAAAACmRugBAAAAYGqEHgAAAACmRugBAAAAYGqEHgAAAACmRugBAAAAYGqEHgAAAACmRugBAAAAYGqEHgAAAACmRugBAAAAYGqEHgAAAACmRugBAAAAYGqEHgAAAACmRugBAAAAYGqEHgAAAACmRugBAAAAYGqEHgAAAACmRugBAAAAYGqEHgAAAACmRugBAAAAYGqEHgAAAACmRugBAAAAYGqEHgAAAACmRugBAAAAYGqEHgAAAACmRugBAAAAYGqEHgAAAACmRugBAAAAYGqEHgAAAACmRugBAAAAYGqEHgAAAACmRugBAAAAYGqEHgAAAACmRugBAAAAYGqEHgAAAACmRugBAAAAYGqEHgAAAACmRugBAAAAYGqEHgAAAACmRugBAAAAYGqEHgAAAACmRugBAAAAYGqEHgAAAACmRugBAAAAYGqEHgAAAACmRugBAAAAYGqEHgAAAACmRugBAAAAYGqEHgAAAACmRugBAAAAYGqEHgAAAACmRugBAAAAYGqEHgAAAACmRugBAAAAYGqEHgAAAACmRugBAAAAYGqEHgAAAACmRugBAAAAYGqEHgAAAACmRugBAAAAYGqEHgAAAACmRugBAAAAYGqEHgAAAACmRugBAAAAYGqEHgAAAACmRugBAAAAYGqEHgAAAACmRugBAAAAYGqEHgAAAACmRugBAAAAYGqEHgAAAACmRugBAAAAYGpNjC4AAAA0TLm5uTp+/HiZx8mTJ3XmzBn9+uuv+uWXX6r8+ttvv+nyyy/XZZddpssuu8zxffmvrVq10lVXXVXh0b59e6N/fAAmYrHb7XajiwAAAPXrp59+0r59+xyPrKwsfffdd45wc+bMmfMe36pVqyrDzOWXX66mTZteMBxd6Bzt2rXTVVddpY4dO6pHjx7q1auX/Pz85OvrK09PTxd+GgDMjtADAIDJ7dy5U3v27CkTcr755psyY3r27Klu3bo5VlmcV1zat2+vdu3aOV53tW+++UbHjx/XiRMnVFBQoGPHjjnC17Fjx1RQUKC9e/fqhx9+cBzTvHlz9erVS76+vurVq5euu+46DRgwQB06dHB5fQAaP0IPAAAmUlhYqG3btik9PV3btm3Tzp07y6yolKyW9OrVy/G9n5+fgRVX37Fjx7R3717t27fP8XXfvn0qKChwjPH09NSgQYM0cOBADRw4UH379jWwYgANBaEHAIBG7PDhw/rggw+Unp6ujIwMZWVlOd7z9/dXQECAbrvtNvn7+zeacHOxCgsLtXv3bn322WeOwHfy5ElJUsuWLXXzzTfr5ptv1m233abbb7/d4GoBGIHQAwBAI/PJJ59o48aN2rRpkyPktGzZUgMGDNDAgQMdKx2/+93vDK7UOFlZWUpPT3c8Dh48KKnoc7r99tsVGhqqkSNHsmEC4CYIPQAANHCnTp3S22+/rc2bN2vz5s2OVYybb75ZI0aM0B133KGbbrrJ4CobthMnTuiDDz5QamqqNmzYoOPHj0uSbrrpJoWGhiokJETXX3+9wVUCqCuEHgAAGqiUlBStXLlSKSkpkop2MwsKCtLw4cM1fPhwtWnTxuAKG6/PP//cESR37NghSerevbvGjRunCRMm6JprrjG4QgCuROgBAKAB2bVrl1auXKnXX39dx44dU79+/RwhZ+DAgUaXZ0rHjx/X22+/rbfffltpaWk6efKkAgMDNW7cON11111q2bKl0SUCqCVCDwAABissLNTKlSu1cuVK7d69Wx07dtT48eM1efJkeXh4GF2e23nrrbf08ssv691331XLli115513aty4cfrDH/5gdGkAaojQAwCAQbKzs/Xcc8/p1VdflSTdcccdeuCBB3TnnXcaXBkkKTc3Vy+//LJWrFih/Px89ezZU//3f/+niRMnGl0agItE6AEAoJ59/vnnevbZZ7V+/Xp16tRJEyZM0IMPPsiqTgOWkpKipUuXKjU1VV26dFFMTIwmT56sVq1aGV0agGog9AAAUE82b96sOXPm6JNPPpGXl5fi4uJ0//33G10WLkJ2drZmz56txMREXXnllZo8ebJiY2PZ+hpo4C4xugAAAMxu1apV6t27t0aMGKHCwkKtXr1aBw8eJPA0Ql5eXnr11VeVm5ure+65R/Hx8erQoYMefPBBHT582OjyAFSB0AMAQB3ZuHGjvL29dd999+myyy7TW2+9pa+++kr33nuv0aWhlq699lotXrxY+flEynHgAAAgAElEQVT5io2N1erVq9WjRw9NnjxZhYWFRpcHoBxCDwAALnbw4EHdfvvtGjlypM6dO6fk5GR98cUXGjNmjNGlwcU6duyouXPn6uuvv9b999+vJUuWyMvLSwsXLjS6NABOCD0AALjI6dOnFRsbK29vb2VkZGj27Nn6+uuvdffddxtdGupYhw4d9MorrygzM1O9evXSY489Jl9fX3300UdGlwZAhB4AAFzilVdekZeXl+bPn6+JEyfq0KFDeuKJJ4wuC/XM399fn376qdauXatff/1VgYGBGj16tHJzc40uDXBrhB4AAGrh4MGDGjBggKKiouTr66tdu3Zp+fLl6tChg9GlwUCjR4/WoUOH9I9//EPvv/++PD099eyzzxpdFuC2CD0AANTQ3Llz5e3trdzcXL3xxhvaunWr+vbtW/0J9j8mzx6P6ND/Krl7xOvBsgx/3XXFwhDTpk3T119/rQkTJuipp57SzTffzC5vgAEIPQAAXKTvv/9egwcP1vTp0zVmzBjZbDbdeeedRpeFBuqqq67SihUrtGHDBh08eFB9+vTR0qVLjS4LcCuEHgAALsJrr70mPz8/7dmzR6tWrdJbb72l1q1bG10WqsOerKGXDtVbBt2WPTQ0VPv27dMf//hHPfTQQxo2bJjy8/ONKQZwM4QeAACq4cSJExo5cqTGjRunG2+8UV999ZXGjh1bu0ntl0i/NdW5SywV37tE0v/4a9qlLHZd8r9LdK6Sj7u+dOjQQRs2bNDy5cuVnp4uX19frV271riCADfRxOgCAABo6Pbt26ehQ4eqsLBQCQkJio6OrsezWxVsiZNPVo4SfJxetsXIM1hKzUlQZrBFiePtGp9oUWRayYAgJdlTFaFyx/guUMk+Yh7RWcpxTGpTjGewFD9KKZELlCsPRWflKCCmOnPbFOPpqwWODcqKjnVMbQ2WJXG8khRZNEdQkuypfc97jDXYosTxSVJkpNKc388MlsVRSMWf0RbjKV/HpKVzOr+eZrEo0vnY830uxZ9z/KgURS7IlTyilZWTIOc/ipqYOHGihgwZonvuuUd/+tOfNHXqVM2bN6+Ws+JC5syZo9TUVKPLcIm+fftq/vz5RpfReNgBAECVPvjgA3urVq3sXbp0sX/55ZeunTwr2u4h2VXVIyipeJiH4/sSSUGye0RnOb6XZC8zJCva7iEPe/GQ4udB9rJDPBxz2O1Z9mgP2eURbc9yGlOdubOiPSp53+lcSUEV5rjQMUXndZqj5LNyOqj851Lxc8qyR3s4fQb2JHtQuc/ggp9L8XlLPyfXe+yxx+yS7CNGjLCfOXOmzs7j7jIzM+2XXHJJ1f97a4SPdevWGf2xNhqEHgAAqvDyyy/bJdmvu+46+9GjR11/gqxou0e5kOGQFOT0C3z5X9bLPncOQGWn9ygTjMrlpqJ5HOcvCj3lx1Rn7kp+sLJhIymoQpi60DEVz1s+wNjLBZZKAk3xuUvnqTjmgp9LJaGoLpT8t3bDDTfY8/Pz6/hs7ueXX36x+/v7Gx5SXP3o0qWL/cSJE0Z/vI0CzcIAAFRi+vTpeuCBBzR8+HBlZGQYfN+dCI0PSlNcjK3oqTVRaUHjy7R1+QRUbLjyCfBRri1Tkk3bbVJapEUWi/MjUmm5NmU6jvCQTyU7bp9/bqmovc15Xue2NccB5VrCLnxMZeetck7bdtmUpkhLuZ8xMs2pzvKq+bl4+OgiNiKvkaioKKWmpmr//v264YYbtG/fvjo+o3uZOXOmdu/ebXQZLnfkyJH/396dhzdV5nsA/wYFi8MmUG8BIUGKpHCFAsKUpQLKmGAdKKA2cXCoUKAIToNrmQEVEakO0FSRRRkso05SESlLh+QZ7r2sWmQGSrHNkeWa4tJeyjaMLMMDnPtHmzRJ04U2yZvl+3mePJTkPe/5FZua33l/7+/g2WefFR1GSGDSQ0RE5GHKlClYvnw5XnjhBRQUFODOO+8UHRJ0xgwgfw0kAOZcKzSpbrt1IBVKtY6RCiUo1fEA1EhQAxqTDFn2fHjs+/Gi/rmr9vPkJ9tc5rQhQ1nvjE04pgHqBKihganW9ydDttT1HTbv38XXNBoNDhw4gNtuuw3Dhw9HcXFxgCMIT0eOHMEf//hH0WH4TV5eHvLz80WHEfSY9BAREbmYPn06Pv30U2RnZ2PZsmWiw6mhNiJLnQOD2YxcKQNGj0/kZTlaGFxzE8kAbQ6QnF61FqIzZkDSa2F2G6KCQmVA7ZTm1uYGlC5fAzAbaq/01NKUY+qjgzFDgl7r9h3CoFJAZaj7O2zOv4s/9O3bF4WFhejYsSPGjBnDxKeZrl27hqlTp+LmzZuiQ/GrOXPm4Ny5c6LDCGrs3kZBp6SkBJWVlaLDIKJqPXv2hFLZnEvwoePZZ5/F+vXrsXTpUhgMBtHh1KJL1UCv10OZYavVPUxjsgBaBRTOxEEDk2yvWa1QG2G3GaBSKKCvOQiyveH1jPrnVsNoSYYqToEcl3lNGj1yiwDvbc6ackzD1EY7bAYVFArndwiNSUbNt6iDMSMTca7d25rx7+IvXbp0we7duzFq1CiMGTMG+/btQ1xcnLB4Qlm4lrV5cpS5mc3mhgdHqsBvIyKq36RJk4RvDOSDDz5qHosXLxb9ayEgZs+eLQOQX3vtNdGh1MMka+CxmV+uazO+j87ox7mpfqdOnZK7d+8uR0dHy8eOHRMdTsjZt29f2HVra+jBbm5140oPBSW1Wo3Vq1eLDoMo4o0ZM0Z0CAExb948rF69GgaDAa+//rrocOpmzoVVkwVLc28SQyGhe/fuzhWfUaNGYffu3ejdu7fosEJCpJS1eZozZw4efPBBdOzYUXQoQYdJDwWltm3bYvTo0aLDIKIIsHr1ahiNRhgMhiC/0Z8EQ6YVmqzwuLEiNU7Pnj2xe/dujBgxAmPHjkVxcTHat28vOqyg9+qrr+LkyZOiwwg4lrnVjY0MiIgoYhUWFuLZZ59FUlJSUCc8Zm11S2e1Cd4akeksstfnfcGfc1Pj9OzZExaLBadOncLjjz8uOpygt3///rDu1tYQdnPzjkkPERFFpNOnT2PChAno1atX0F8V1Vkaar1M4a5///5Yt24ddu7cGdwlmIJFalmbJ3Zzq41JDxERRaQJEybg9OnT2L59O9q0aSM6HKIGTZ8+HVOmTMGiRYtQUFAgOpygFKllbZ5409LamPQQEVHEee6551BYWIhPP/0UajW7AlDo+PjjjxEXFwedTscP9x4ivazNU15eXtCvYgcSkx4iIooof/nLX7By5UrMnDkTTz31lOhwiG7Z1q1boVAoMH78eFy5ckV0OEHh0qVLLGvzgmVuNZj0EBFRxDh//jzmzJmD//zP/8TatWtFh0PUJLGxsVi/fj1KS0uxZMkS0eEEhT/84Q9c+fLi3LlzLHOrxqSHiIgixsKFC3HhwgWsX79edCjBQTJApVDBIDXxdQezFgoty2gC6fHHH8evf/1rLFmyBKdOnRIdjlD79+/He++9JzqMoMUytypMeoiIKCJIkoT3338fTz/9NIYMGSI6nOCgNsKSAeQYvH8gktbkAxkWGLntKSitWLECAPD8888LjkQclrU1DsvcmPQQEVGESEtLw5133om3335bdChBRZ2eDKU1F7XTHjMMOUByOjOeYBUbG4uXX34ZmzZtwp49e0SHIwTL2hqHZW5MeoiIKAJ8/vnn2L9/PxYuXIguXbqIDie4qNORrLQi1zPrMefCqkwGc57gtmDBAkRHR2P27NmiQwk4lrXdmkgvc2PSQ0SNZIZWoYDC9aEyoKFSf6Jg8Lvf/Q7du3dHZmam6FCCkBrpyUpYPbIec64VyuR0VOU8Egwq1/d/fft8JBhUnq97eU4yQOXy+0TlMaFkULmcT+tlJYoAoG3btnjnnXdQWlqKVatWiQ4nYFjW1jSRXObGpIeIGk+ZAZtcfWd4WYacJSFO0YhNzjBDywSJBPnggw9QXl7Ou9jXo3aJmxm5VqWztE0yaCFlubz3bcnIj2tGIiIZoIqTkOXy+8QCbU3iIxmgzU+u+X1jAvRslFCn1NRU9OjRI6I6ubGsrWkiucyNSQ8RNZ3OAtmkRo6WCQ0Fr3Xr1qFdu3aYNm2a6FCCl9qILI1LiZs5F1ZNlrOBgdpoh0XnOj4dyUoJhU1845sNOVCbLHCb0pgFdf6amt8lZRKKHF/rLJDdAiBPc+fOxU8//YS//vWvokPxO5a1NU+klrkx6QFQWVmJL774As8//zzGjh2L0aNHuz3S0tLw0UcfQZL4sY6oFp0RGcjHGglwL4GpXgGSDFAp9LCW5SDOWcLiZRyRHxw9ehQHDx7EjBkzRIcS9HSpGlgzqy5gmHOt0KS6Jhme5W1xyClr6pmqkiWr3qNcVqGH1ZHoqI2wy6nIZSltozmS+nXr1gmOxL8CWdaWfdhlddP1cTjbD2dLwebycmxO8cPUXsyZMwc//fRTYE4WJG4XHYAox44dw4YNG/DFF180mMzs3r0bf/rTnwAA0dHRePTRR/Hb3/4WDz30UCBCJQpyaiSoy5BbBEhrDIBFhqwGnCVtdiPscgK0qkIY7UaoUVUq420c90uTrzk+AEbiJu9bpkuFRp+JNWYg36pBlsXxggSDKg75yTbIzt7VEgwq7S1MXgSpDNXvcTUS1ICUJaP+xRsdLHL1ALMWCpUBNv6eqFOnTp2QmpqK3NxcVFZWIjo6WnRIfvHCCy8EtKytyKjAwHneXsnGYdmAmHwdukzMC1g8vuIoc8vPzxcdSsBE3ErP4cOHkZSUhD59+uCtt9665dWbyspKbNiwAQ8//DDuu+8+mEwmyLLsp2iJQoGEQkkJdTygNqZCinO5alvHEY0dR9RcGzZsgFarRa9evUSHEgJ0SNWUIUefgzJNKtzzEaV762qzoZ6VnqoLIa73/pEMmW7vc50xA5LefU+QZFDBsaIjGVS82WkTOPZqfPTRR4Ij8Y/9+/dj7dq1osOoNg8DFYqQTHgctmzZElFlbhGT9Njtduh0OgwePNhn9a7Hjx/HU089haFDh2L//v0+mZMo5JgNyEFVW1uzVg+YHCUANmTUcUm2seOImsNkMuGf//wn5syZIzqUkKFL1QCAR2mbGkZLMvLjXErRclNh0pRBKqpjHosNGZLeOT5OynIfrzbCblMj06W8LU7KguxYyUm3wISa4xV6wMRVngYNGTIEgwcPxpo1a0SH4nOOsjbyrUgqc4uIpGfNmjXo27cv8vLy/LIq8/e//x0jR47E008/jatXr/p8fqKgZdZCoZeQYTFC7bLiU/WaATmuC6nOTckNjCPyka1btyIqKgqPPfaY6FBCh85S1UnNs+xMbYTddU+DRQedxWVcrUYDahjt9YyvY07nS2o1dBbXfRQWsI1B4zz55JP47rvvwm4fcqDL2hrmsQcnZTPKyzcjJfuwy8/tYbjt/knZjHLXn/nyzQjQFp46RVI3t7BOen7++WdMnDgRs2fPxpUrV/x+vk8++QQPPPAASkpK/H4uIiGqmxE4r75mqmGT7dUdnjyuBueqkQFHoqNDqsYKvUIBlQH1jCPynS+//BKJiYmiwyAKqAcffBBA1c9/uBBZ1hZvqN3IoM4+BjHJMI/e5fx/pC4/Bgbn4BRsNqpgdvl/qK4wAWa/NEW4NZFS5ha2Sc/169cxZcqUgG/QKikpweTJk1FW1uS2NkRBSgeLZwcbz3IT1yu3FiOM9pqrs46rtnajut5xRL7w008/4dSpU84PgESRIiEhAVFRUWFTdi+6rK3I6NllsK7GBgBQBKPLi3nmQlTEj65e7cnDxC4D4XponrkQFTEq4as9QGSUuYVl0nPz5k1MmTIFW7ZsEXL+b7/9FklJSWH/w0NEFKwcV7m50kORaMSIEWGz0hN8ZW31qLCj0PXveXZUuP7ds7zNnIyYwEZYp0gocwvLpCc9PR15eWK7aZSUlOCRRx7B2bNnhcZBRBSJvvrqKwDAL3/5S8GREAVeYmIiJEnCxYsXRYfSLMHVra2ZUjaj3JyAQp3LqpEu3z0pEizcy9zCLukxGo348MMPRYcBoCrx0ev1AbmBFhER1fjyyy8xcuRIREVFiQ6FKOAcZZ179+4VHEnTiS5r84uKQphdrslnZwbPSo9DOJe5hVXSU1lZiddee010GG7+9re/4bPPPhMdBhFRRDl+/Dji4uJEh0EkhONn//jx4wE979WrV7Ft2zafzBVSZW2NkTcRhsIEmF3K20bvMqIoRoUE0bG5OHfuHNLS0kSH4RdhlfQsXLgwKJdy58+fjxs3bogOg4goJCxcuBD79u1r1hxnz55F586dfRQRUWiJialaPzh//nxAz3v9+nWMHz8e7du3x3PPPecsM71VO3bsCIqytnkD62takIeJXbrAeW/SvIno0mUi3DdXzMNARU3zgryJXTwaIri+7jGfQDt27EBubq7oMHwubJIeu92OdevWiQ7DK7vdHjQld0REwe6TTz5BYmIiYmNj8eabb+LHH3+8peP/+c9/AgCio6P9ER5RSOjQoUPAk54WLao+Vl68eBGrVq3C8OHDce+99+LVV1/FiRMnGjXHpUuXwnalIZS88MILYVfmFjZJT2Zmpu9XUyZ+iu/l61XLkIdXNGuqRYsW8calRES34OTJk1i4cCHuueceaDQamEymRh3n+KDHpIciWXR0NC5cuBDQcyoUCufXjv3MdrsdixcvRu/evZGQkICVK1fi3Llzdc4Rjh+2Q1E4lrmFRdJz6dIlbN++3beTtngUny97CvfgNp9MV1FRAYvF4pO5iIjCmesHJ4ddu3bhqaeeQvv27ZGeno7CwkIvR1ZxJD0sb6NIFh0dHfCVHm/vXVmWnV8fPnwYzz33HDp16oTHHnsMZrPZ7YJwsJS1UZVwK3O7XXQAvrBx40ZcunTJp3MOe38ZJt8LlBcfRtv+/dHGB3Pm5uYiOTnZBzMREYUvbx+crl27BqCqbObDDz/E2rVrcd9992HatGmYOnWqcw8DAOdV5AULFuDtt98OTNBEQebbb7/FHXfcgYULF+LmzZtujxs3bvjtufo43scAsHPnThQUFOAXv/gFJk+ejKysLPz3f/+3v/9Z6Bbt2LEDqamposPwCYXsmoKHqNTUVGzYsMF3E474I4p3zsP953YideFFrPjwcXQsNkIx8PlmTdupUyecPn3aWfNK3nXr1o1L20RBpH379rj//vv9+kHpypUrzvPdfvvtuH79eoNxKRQK51XkcePGYfHixRg8eDB27dqFMWPGYPDgwWjbtq3f/l2Igtk333wDhUKBfv36BfS8u3btanCM473btm1bpKWlYebMmVCr1bh06RIGDBgQXl3bQljHjh1x9OhRdO3aVXQoPhEWKz27d+/22VwKxWC8++5c3N/qLCyvPoUNl9ahebt5apw9exYlJSW4//77fTRjeOrWrRsAYMaMGYIjIaJFixahdevWaNWqFW677Ta0aNHC7eHtubqeb+xza9euxZkzZ+qNq0WLFrh58yaioqLwm9/8BqmpqRg8eDCAqgtMAPDmm29Cq9X6/d+IKBglJibirrvuwtatWwN6Xm8rtQ6OCxpjx47F7NmzMXHiRLfXf/GLX2DDhg0YOXKkv8OkRli+fHnYJDxAGCQ9Fy5cgN1u99l88W99iGfj78DFPW/iN+svAE/6bGoAYNLTCN27dwcAvP7662IDISIsWrQIc+bMwYIFCwJ2zo0bNzaY9AwdOhRpaWlISUlBmzbuBciOvTwNzUEUzs6cOYPevXuLDgOtWrXCtWvX0KNHD8yaNQvTpk1zK0f1NGLECMyaNYt7ewQbN25c2JS1OYR80lNSUuK7yQYuwQZDf7S4ehCL9Stxzg+Vfz6Nl4goDHleKXas6nTq1AmpqamYMWMG+vTpU+fxd911F4Cq1XWiSHXmzBlhzTxcS0+ffPJJPPPMM3jooYcaffzy5cuxc+dOlrkJ0rFjx6C9DUxzhPzmksrKSp/M00LRCfNXGXB/qxs4+MZjWFbhn61OvoqXiChc3Xabe9fMRx55xLn6s2zZsnoTHgCIiopCmzZtmPRQRBOZ9MTHx2PVqlW4cOECPv7441tKeICaMrdASdlcDlmWcTi7rhHZOCzLkMs3I6X5Z8Pm8nJsbvREtzq++cKtrM0h5Fd6fHXvm5i5m/D7hDtwregdTF3mv8Qk0D3ziYhCTcuWLaFUKpGWloZnnnnGuc/vVnTq1InlbRSxHAm/iKRn9+7dePDBB5s9T6DL3CoqKhA/OhvAvNovZo9GfECiEC8cy9ocQj7p8YluT+HPmaPQ5moRlkz7PWw+vscpERE1Xn5+PlQqVbPmUKvVkCTJNwERhRibzQYADa6K+oMvEh6HgJa5FRaiKHk0vKU92aPjUZSfj5gE/4chUriWtTmEfHlbVFRUs45voeiE6R+swMMx1/DNqnQsOOyjwOrQoUMH/56AiCjENTfhAaquEn/11VfND4YoBO3duxdA1fsglAW2zM2MXUXx0HnWkaVshi6+CLvMAQpDoPfffz8sy9ocQj7piY6ObtbxN5/8EO9o78b1otVIffGgj6KqW3PjJSKiho0YMQJXr15FYWGh6FCIAm7v3r0hn/A4OMrcAmFeVj6QoHPbt5OiSwDys7wVvQHZhyHLcs3Dy6Ygx34hx8PrvqGUzSh3GVMeyA081SZMmACdThfw8wZSyCc9vXr1atbxf3x5Ijq2UOD2QRn4+80b7j+8sgzZXPU64uc5nztkFBcvERE1bNiwYQBqrngTRZJwSnqAqjK3gHx+yjOjEAnQOXOOFOgSgEJzXq2hKZvLIevs0CkUUFQ/jDC4JT4pm8thTih0G7NrtBnJMW4TodysgtlljAHGgCY+HTt2xKpVqwJ2PlFCPumJiYlx3oiuKVq1uOnDaBoWGxsb0PMREUWi1q1b44EHHsC+fftEh0L1kQxQVX/QUxm4B8sXjhw5gp9//jmsbvDpKHNr0cLfH1vzMNFcgeTM6sQlOxPJKETtnCcbmclAvmEiXF+aN9CIonhddae1usbokF/hMlNmMiqMA91WkvImmlHhseLkT+Fe1uYQ8kkPgGa9sTMG3ubMrL0+dJtx7qYMFGU7nxtkaNq52rdvjyFDhjQ5ViIiarwRI0bgf/7nf0SHEXhmrfP/V0GfSBRJKKv+skwqEhpKuHCsbg4fPlxwJL41YsQIPPfcc/4/0bxdKIqvamiQPToeRWb3pAUAkKJCDCpgr/VCIewVMVAl1DcmD3Zn0pMCVQwQb/CoMpINiI9RIRB9EyKhrM0hLJKexx57THQIjTJ27FjccccdosMgagQztCoDGv9xSYJBpUVT9nlKBhW0EbBBlAIvOTkZ//rXvyIz8QkVOkvNBz1LZHzw8rdNmzYhMTGxWVUwwWrJkiUBKHObV93QYDNGxxdhl7fNPHl2VCAGqlpLMQlQxVTAXljfmKpEp3oi2CuAIqO3C+8Dve8j8qFIKWtzCIukR6fToWXLlqLDaNCUKVNEh0BEFDFGjx4NpVKJ1atXiw6FKCBOnjyJXbt2YebMmaJD8YtAlbnNy8oHkpMRU1cDA8xDVj6QbHS/WWn2YQPii8yYmFffGPc9PfOy8hFjOAzX/gYpm8t9dCPU+kVKWZtDWCQ9bdq0waRJk0SHUa+YmBgkJyeLDoOIKKLMnTsXGzduREVFRcODI4xkULlfWfayultrjMJ9RdesrTnW7BirNXvs1THDoFJ4L7nzsqen5pwqGMw1rysUKtSu1jND6/E9OONQNG31OZTl5OSgXbt2YX2RNSBlbnlmFFZUeG1g4BwysQsUZhXMLmVpBhihGDjPbYyuMMFtjM5udNvTg7yJ6KKzQ+cyxqwyQ9HFS1mdD6WkpERMWZuTHCa+/vprWaFQyACC8rF06VLR/0QhY9KkSfKQIUNEhxHhTLJGmSHbvLxiy1A6f66VGY4RNjlDqZFNJk3Nz73H8SYNvBxXNZ/GVN/cJBIAefHixaLDaLLKykoZgPzGG2+IDiVwXN6Hdb2PXN+P7g+NbGrmGGWGTZZtGbKynv8nOt7zruMcsbr+Hqjv3A2dw21sBLh06ZLcrl07+Xe/+53oUPzu559/lnv16iX8s12oPjp27CifPXtW9H/GgAuLlR4AGDJkCB555BHRYXjVqVMnpKeniw6DqPkkAwyoqcHPkrQuV16t0OemOl+zJecjrnqzjmRQQQ+Ty3FxXvbxSFiTr4bJOcYQcVdpyfc6d+6MJ598MqLq1htk1kJvBQAlMmyOq8s2ZCgBwIrM6je1ziLDpNE435OybIIGVWNyvbw5lRk2yLIMu1Ht+QJssgzZlgFl9VNWbxN44ZjTluE80nlusyHH2QRBY6qO0eUckeYvf/kLLl68GJjN/oIFrptbeHr//ffRsWNH0WEEXFj9tOTk5ARlo4Bly5ahQ4cOosMgaj61EalSnLOUpOqDk+O1DNhcNiKrjVnQWHNhhoQ1+UCGseY1nTEDkpcPPQlqCfrqbEhnsSDCFt7JT2bOnImKigps2bJFdChBQSp0XKkoQ06cozQsDjnVGYRrF7V4tQS9s3xMD2utORw0yPJMdqopk9OhBgB1AryPqIsSyelVR6gTPI+U4AxBY4LzV4/aCEtGZKY92dnZGDZsWMTcGiNg3dzCTESWtVULq6SnT58+yM72dqtbccaPH4/U1FTRYRD5hlnrtmJjy2jsRxjXD1cKKOJqrtDWUENnsUNOza1zfwFRUzz88MMYNGgQXn31VdGhhAapEBIkGFQKxOXUfqdS8Nm6dStKS0vxhz/8QXQoARWYbm7hI9K6tXkKq6QHAGbPno25c+eKDgMAMGjQIJjNLNCh8CEVSlCq46v/ZoYhx3VDcg60LruMJUMmrJpU6KBGerKypvxEliGbNNCkel5pkmAwmJ0tbE3qfKxh1kM+8t5776G4uJid3OC+auL6vjRpqsvd7EaopTXIL/Mc4yhvCwZqOL8Nq8JrpOYAABCCSURBVL6mXFYyQBuBidrcuXMxatQoJCUliQ4loFjmdmsitazNISx/SnJycjBu3DihMURHRyM/Px+tW7cWGgdRk5XlIM6jKxKMFiTnO8rbcqHOAGoqYTRQu5S+xeUnO8vd1EY7UnNd5spNhTHeI6ORigAps6Z0Dlmoo1qG6JYNHz4cTzzxBH7/+9/jzJkzosMJmLKcmvekcwVVZ4GpOnux6hUu5apVK7Iqg+RWilYzpqa8LRjojC57hPT1rSKHt9dffx3ff/99xF7BZ5lb40RyWZtDWCY9LVq0gMlkwoABA4Scv23btsjPz0f37t2FnJ+o+XSwyB53iLYboYYaRrvjOQuMRnt1Lb0aRrsFFovneJcZXV+z6KBWV9fqO+ZQ62C02HmjQvKbd955BxcuXMD8+fNFhyKczuLaHMChaqWnqhGBDhaPpgDKjIwgWukBoDbC7rn6pMyAKYL29Hz//fdYtGgRpk2bhr59+4oORxiWudUv0svaHBSyLMuig/CXK1euYMaMGfj0008Dds7+/fvjs88+Q58+fQJ2znAzefJkfP/99/j6669Fh0IU8RQKBRYvXowFCxaIDsUnXnzxRSxfvhxff/01hgwZIjoc8gOztrrJijIDNo+LL+Hm0Ucfxe7du2G32xEdHS06HKH279+PBx98EDdv3hQdStAxmUwRv8oDhOlKj0Pr1q3xySef4OOPP0ZUVJTfz5eeno4DBw4w4SEiClILFy5Ep06dMG3aNFy9elV0ONQsEgwqjxuWOttxownd4kLL559/jh07duCVV16J+IQHqCpze+mll0SHEXRY1lYjrJMehylTpuDQoUMYOHCgX+aPjo7Gxo0bsXr16oAkV0RE1DTt27fHe++9h2+++Yb7AEKcWRuHnDKPzpDOjEcDUxiXyJ44cQLTpk1Dnz59+EHfxRtvvMEyNxddu3ZlWZuLiEh6ACAuLg6HDh3CunXrkJCQ4JM5VSoVFi1ahNLSUjz++OM+mZOIiPxLr9cjLS0N69atw5///GfR4VCTSIg3etuXhOqboYb3fb7Gjx+PGzduYPPmzWyY5KJVq1bs5uYi0ru1eYq4n4rp06fjq6++wrfffouXXnoJ/fr1u6Xjo6OjMXXqVPztb3/Dd999h1dffRWdO3f2U7REROQP7733HgYMGIBZs2ahtLRUdDh0y9RQq6saochem66Er6effho2mw0bNmxAXFyc6HCCDsvcqqSkpCA5OVl0GEElrBsZNFZlZSX27t2L/fv348iRI7h+/brb67GxsRg+fDiGDx/u7DhF/sNGBkTBI9waGbiy2+3o378//uM//gNHjhzBnXfeKTokonqtX78e06dPR3p6Ou85VY9r166hb9++OHnypOhQhOjatSuOHj3KVR4Pt4sOIBhER0dj0qRJmDRpkuhQiIgoQFQqFT7++GMkJyfjmWeeQV5enuiQiOpUXFyM6dOno3///kx4GuAoc4vUbm4sa/Mu4srbiIiIHCZMmACDwYDPPvsM8+bNEx0OkVd2ux0ajQYdOnTA1q1bRYcTEiK1zI1lbXVj0kNERBEtOzsbycnJMBqNvHEpBR273Y7ExERcvHgRFosFSmXk3Hy1uSKtmxu7tdWPSQ8REUW8zZs349FHH0VWVhZef/110eEQAQB++OEHJCYm4syZM7BarfjlL38pOqSQEmnd3FjWVj/u6aGgI8syfvzxR37wIKKAKigoQFJSEhYtWoSoqChkZmaKDsm3JANUcTkoAwCNCXKg72Pjcn5lhg12Y92NgSSDCnE5ZQCUyLDZUc/QsOWa8BQUFGDkyJGiQwpJjjK3t99+W3QofsWytoYx6aGgo1Ao8NNPP2HRokWiQyGiCFNQUIBf/epXmD9/PiorK7F8+XLRITWaWauA496cGpOMoLs3Z5FUlXABKJOKgLBuLN08paWleOSRR/Djjz/iv/7rv/DQQw+JDimkvfHGG7BYLDhy5IjoUPyCZW2Nw6SHgs6mTZtEh0BEEWzbtm3QaDRYsWIFjh07hry8vOBvZy0ZkGmt+as10wBJF2T3q9FZIHsmYi6rP0GZqAlgtVrx+OOP4+eff8aOHTuY8PiAo8xt0KBBYdnNbd26dSxra4TIKHIkIiJqpKioKFitVjzxxBPYvn07hg0bhv/7v/8THVa9pDX5zlUUAEBZDgxmUdFQU3344YfQarVo2bIldu3aBa1WKzqksDFgwICw7OY2depUjBs3TnQYIYFJDxERkYeoqCh89tlnWLx4MYqLizF48GAUFxeLDqsOZhhyqlMejQaa6metuY3NeszQKhRQOB4qA8wGVfXftXCfRYJB5TJWoYBC6zHC9Viz1jmnJBmgqj5GZZCqxjn2GAGw6qte03qGXVRznEKhgkHydi4VDGYv4xzn93JssJk3bx5mzpyJ2NhYHDp0CKNGjRIdUth54403MGDAANFh+EzXrl2xYsUK0WGEDJa3ERER1WHBggW4//77odPpMGzYMHzxxRfQaDQNHxhI5lw4Kts0qRakQgGrFYA1EwZJV38TANfmBg5lOdDnNHIsAFj1UChyYZItcK9Os0Kvr/5SnQA1Chv/PdUEgxy3YMqQE6dFQq1zeRunQI7nGK/HinX58mWkpKRg+/btGDVqFLZu3Yp27dqJDisstWrVCtu3b8eJEydEh+ITPXr0YFnbrZCJiIioXocOHZK7du0qA5Dnz58vOhwXNjlDCRmADGhkkyzLsklT/XfIygyby9AMWVn9PDQmuWoonGOrn3If55jT7TxK2Tmtl3PZMpTO5+Cc1H1eZ1wuz7kPVdY7r2NsQ+PqOzYYFBcXy71795YByHPmzBEdDlFYY3kbERFRAwYOHIji4mL8+te/xtKlSzFo0CAcP35cdFiA2QBHZZsyw1i1gqFLdZa4leUYUHeRm4RCR7mXxlTTREBthCXD8waYRZCc57HUrB7pjHAMLctfA/fqMSUyjM1dU1EiOb3qZOqE+pasvI9zfF3/sWK888476N+/PyorK7Fp0yasXLlSdEhEYY1JDxERUSN06tQJW7duxYYNG3Dy5EnEx8fjgw8+EBqTObemZVtZTlz13hU9ap61otFbeyggKioqMGrUKLzyyit4+OGHYbPZMGnSJNFhEYU9Jj1ERES34Le//S1KS0vxwAMPYNasWRg3bhzOnj0b+EA82lTXxZppgPf9+2o4F0Cs+poGApIB2hzPnTvxUDtWdHK0NQ0BXFeaktOb1SJbKgziLgM+sm3bNsTFxeEf//gHVq1ahZ07dyImJkZ0WEQRgUkPERHRLerWrRt2796NZcuWwWKxIC4uDmZzYJdUXNtUa0wyZNn1YXOWnaEsH2vqyCd0xgw4hjm6pym8NSuAGkaLY2xVkwCFQgGF3tlCAVn1dkyogzrBmShVrVQFd4e1pjpz5gymTZuG8ePHQ61Wo7i4GLNnzxYdFlFEYdJDRETURC+88AJsNht69OgBvV6PMWPG4OjRo/4/sdtqjAaptbbOqGHMcu7sQY62jtUetRF22QS3fnTKDJhq7elxjHVJphw0JshN7oimg8UUZN3wfOzdd99FbGwsPvroI7z11lv46quvcO+994oOiyjiKGRZlkUHQUREFOpyc3Mxf/58VFRUYNasWXjzzTfRuXNn0WE1iVmrgN4KQJkBm93YrLK1SLVt2za8+OKLOHbsGCZNmoQVK1ZAqfSSTBJRQHClh4iIyAdSU1Nx4sQJzJ8/H2vXrkXv3r2RnZ0tOqwGSDCoPErKzFo4q9Zcys+ocSRJwtixYzF+/Hi0bNkS+/btw6ZNm5jwEAnGlR4iIiIfKysrw/PPP48vvvgCffr0wYoVK/Doo4+KDqsW54qOVxovNxylupw7dw6vvfYaVq5cibvvvhtvvvkmZsyYITosIqrGlR4iIiIfUyqV2LRpE3bt2oXbb78dSUlJGDFiBLZt2yY6NBcS4o0ybN727ygzYGPC0yiVlZV45ZVX0LNnT6xcuRIvvvgiTpw4wYSHKMhwpYeIiMjPNm3ahLfeeguHDh1C37598fLLL2Pq1Kmiw6Jm+N///V8sXboU69atQ+vWrZGWloaXX34Z99xzj+jQiMgLrvQQERH52eTJk/GPf/wDVqsV0dHRSE1NRffu3bFixQpcvnxZdHh0Cw4fPozJkyejV69e2LhxI+bPn4+ysjK8++67THiIghhXeoiIiAKssLAQS5Yswfbt29GuXTvo9XpMnz4dQ4YMER0aefGvf/0Ln376KdavX4+DBw/i7rvvhsFgwNy5c9G2bVvR4RFRIzDpISIiEuTo0aNYunQpTCYTAKB///5IS0vD008/jQ4dOgiOjvbs2YM//elP+Pzzz3H58mX06NEDL730EtLS0hAVFSU6PCK6BUx6iIiIBKuoqEBubi42bNgASarqH63X65GWloaHHnpIcHSR5fTp0/joo4+wfv16HDt2DADwxBNPYOrUqUhKShIcHRE1FZMeIiKiIPL1118jNzcXZrMZ58+fR7du3TB+/HiMHz8eWq1WdHhhqaysDJs2bcKWLVuwZ88eAEBCQgKmTp0KvV6P9u3bC46QiJqLSQ8REVGQ+vzzz5Gbm4uCggIAQJs2baDVajFhwgQkJSXhrrvuEhxh6Dpw4AC2bNmCrVu3oqSkBADQvXt3TJkyBTNmzEDPnj0FR0hEvsSkh4iIKMidP38eO3bsQEFBAaxWK86ePQsAGDVqFCZMmIBJkyZBqfRyvx1yU1BQgC1btmD79u0oLy8HADzwwANISkpCUlISG0kQhTEmPURERCHmyy+/REFBAQoKCnDkyBEAQI8ePZCQkOB8DBs2THCUYp06dQqFhYU4cOAACgsLcejQIVy9ehXt2rXDr371KyQlJeGxxx5DdHS06FCJKACY9BAREYWws2fPYs+ePdizZw/279+PgwcPOl8bOnQohg4disTERPTr1w/9+vUTGKn/nDt3DsXFxThw4AAOHDiAvXv34syZMwCAjh07YvTo0RgxYgRGjhyJoUOHCo6WiERg0kNERBRGLl++jC+//BL79u3D3r17ceDAAVy6dMn5et++fdGvXz/nn46vQ8Hp06dRWlqK0tJSlJSUOP+srKx0jomNjcXIkSMxcuRIJCYm4r777hMYMREFCyY9REREYe7gwYOw2Wz47rvvcOLECZw8eRInT57E6dOnnWPUajVUKhU6d+6M6Ohotz89v/a1U6dO4cyZM6isrHT+ee7cOZw+fRqVlZU4ffo0SkpKcP78eecxffr0Qa9evdCrVy/07NkTffr0wZAhQ1iuRkReMekhIiKKUJcvX8bx48dht9vx7bff4ocffsCPP/7ofPzwww91HtumTRu0atUKd9xxh/NP169btmyJK1eu4Nq1a/j3v//t9c8rV654nbtdu3bo1q2b83HPPfdApVIhNjYW9957L3r06OGvfxIiClNMeoiIiKhO5eXlbolQZWVlg8nMv//9b9y4ccOZBHkmR65/eiY43bt3R+vWrUV/20QUZpj0EBERERFRWGshOgAiIiIiIiJ/YtJDRERERERhjUkPERERERGFNSY9REREREQU1pj0EBERERFRWGPSQ0REREREYY1JDxERERERhTUmPUREREREFNaY9BARERERUVhj0kNERERERGGNSQ8REREREYW1/wf1iWFT/o0xCgAAAABJRU5ErkJggg==)"
      ]
    },
    {
      "cell_type": "code",
      "execution_count": null,
      "id": "qKuxv-gKPzyD",
      "metadata": {
        "colab": {
          "base_uri": "https://localhost:8080/"
        },
        "id": "qKuxv-gKPzyD",
        "outputId": "ab56ec80-c629-4cd8-8b75-065d0c7b5ca6"
      },
      "outputs": [],
      "source": [
        "# keep the molecular structures with experimental data for TA 100 S9+\n",
        "msk = gentox_data['endpoint'] == 'Salmonella typhimurium (TA 100), yes'\n",
        "tmp = gentox_data.loc[msk]\n",
        "X = structures.loc[tmp['molecule ID'].tolist(), 'fingerprint']\n",
        "y = tmp['genotoxicity']\n",
        "\n",
        "# split the dataset set into training and evaluation using stratified sampling\n",
        "X_train, X_test, y_train, y_test = train_test_split(X, y, test_size=0.2, random_state=1, stratify=y)\n",
        "print(f\"Training will use {len(X_train)} structures out of {len(tmp)} structures with TA 100 S9+ genotoxicity data\")\n",
        "print(f\"{len(X_test)} structures will be used to compute the performance metrics and assess the model generalisation ability\")\n",
        "\n",
        "# create the dataset\n",
        "dset = TensorDataset(torch.tensor(np.stack(X_train, axis=0), dtype=torch.float32), torch.tensor(y_train.map({'positive': 1, 'negative': 0}).values, dtype=torch.long))"
      ]
    },
    {
      "cell_type": "code",
      "execution_count": null,
      "id": "xVf-C1kiPz1t",
      "metadata": {
        "colab": {
          "base_uri": "https://localhost:8080/",
          "height": 49,
          "referenced_widgets": [
            "8661f42eb3154f82b68c9fc789db6ee6",
            "91588602dd5b46ad934f0bff5f02b5aa",
            "4c0871ca0acf42118e2cdd35d69a400c",
            "c0f8c96cda3e47f5b2ed5e1e4b4a1365",
            "f2a6d0595c2a40d4855a86dcd550ca31",
            "cab8cad66d3941a28495cc55012d5f21",
            "74d3de55d53e415d857485d396c904ff",
            "c9ad40257c564ba5b5a2279721cbe041",
            "cf8c73cbf02a487cb79bcfa7b3a3d5a9",
            "569e5688dfe3420fa0386a34e7f389ed",
            "f97337d38c514abfbe78906b74d8d977"
          ]
        },
        "id": "xVf-C1kiPz1t",
        "outputId": "e469260f-5396-4463-ad1e-5232b632d715"
      },
      "outputs": [],
      "source": [
        "# train the model using the previously created function\n",
        "loss_history = train_model(dset, model_parameters)"
      ]
    },
    {
      "cell_type": "code",
      "execution_count": null,
      "id": "SOvWOjY2Pz5H",
      "metadata": {
        "colab": {
          "base_uri": "https://localhost:8080/"
        },
        "id": "SOvWOjY2Pz5H",
        "outputId": "2cf041a9-7f08-4fcc-86ea-fec157800713"
      },
      "outputs": [],
      "source": [
        "# generate predictions for the training and evaluation set\n",
        "net.eval()\n",
        "for typ, (X, y) in {'train': (X_train, y_train), 'evaluation': (X_test, y_test)}.items():\n",
        "  X_tensor = torch.tensor(np.array(X.to_list()), dtype=torch.float32)\n",
        "  y_pred_logits = net(X_tensor, task_id=0)\n",
        "  y_pred_prob = pd.DataFrame(F.softmax(y_pred_logits, dim=1).detach().cpu().numpy(),\n",
        "                            columns=['negative (probability)', 'positive (probability)'])\n",
        "  y_pred = np.where(y_pred_prob['positive (probability)'] > 0.5, 'positive', 'negative')\n",
        "  # predictive performance metrics\n",
        "  sensitivity  = recall_score(y, y_pred, pos_label='positive')\n",
        "  specificity  = recall_score(y, y_pred, pos_label='negative')\n",
        "  balanced_accuracy = balanced_accuracy_score(y, y_pred)\n",
        "  roc_auc = roc_auc_score(y.map({'positive': 1, 'negative': 0}), y_pred_prob['positive (probability)'].values)\n",
        "  print(f\"sensitivity ({typ}): {sensitivity:.3f}\")\n",
        "  print(f\"specificity ({typ}): {specificity:.3f}\")\n",
        "  print(f\"balanced accuracy ({typ}): {balanced_accuracy:.3f}\")\n",
        "  print(f\"AUC ({typ}): {roc_auc:.3f}\\n\")"
      ]
    },
    {
      "cell_type": "markdown",
      "id": "3vlEHAp2W0pD",
      "metadata": {
        "id": "3vlEHAp2W0pD"
      },
      "source": [
        "The true predictive power of the model is in reality much worse than what we originally thought. The difference between sensitivity and specificity is now even greater for the evaluation set.\n",
        "\n",
        "We have seen that using the same training set for fitting the model and for estimating the predictive performance is heavily optimistically biased. On the other hand, if we withhold a significant part of the data for evaluation of the predictive performance we may get a pessimistically biased estimate. This is because the model would have improved if trained with more data assuming that it has not reached its capacity. On the other hand, keeping too few datapoints for evaluating the predictive performance could increase its variance. This interplay between variance and bias is a common theme in this area of work. You may hear the expressions \"there is no free lunch\" and \"find the sweet spot\" quite often. In practice, there are also better ways to split the available data, .e.g. based on k-fold cross validation, as discussed in the lecture."
      ]
    },
    {
      "cell_type": "markdown",
      "id": "GSr-s-qFXruG",
      "metadata": {
        "id": "GSr-s-qFXruG"
      },
      "source": [
        "#### Handle imbalance\n",
        "\n",
        "Before we conclude this lab session we will sligthly modify the loss function by giving more weight to the positives and repeat the training and evaluation as before."
      ]
    },
    {
      "cell_type": "code",
      "execution_count": null,
      "id": "KQQxbNYqPz84",
      "metadata": {
        "id": "KQQxbNYqPz84"
      },
      "outputs": [],
      "source": [
        "# set up the loss function, this time giving more weight to the positives\n",
        "weights = torch.tensor([1., 4.])\n",
        "weights = weights/weights.norm()\n",
        "loss_fn = torch.nn.CrossEntropyLoss(weight=weights)"
      ]
    },
    {
      "cell_type": "code",
      "execution_count": null,
      "id": "fFyha0k1P0AX",
      "metadata": {
        "colab": {
          "base_uri": "https://localhost:8080/",
          "height": 49,
          "referenced_widgets": [
            "564838fa290d4c1ca6851120cd937e4b",
            "7154a39fe2ff4c6d84a3cf6c58ead80e",
            "5e904bc7a9e747aa947f3a13c4360cf9",
            "3ce11ff67e0b4f97beec5930ee8325a7",
            "52cdd3020508423fabcd28977627ce47",
            "8acb7734d1534af69024bc137b6d41e1",
            "f14b9234a5ca45b884b3dbadca05bfb6",
            "cd8d5ff63038446baeb245bc8cb167d7",
            "013e2d874c3e4b34b83c01e03a402a99",
            "fbda3daf08df411bb0763ca14f77ad17",
            "9ee41f5dbe9a40ac861426f50a6b3176"
          ]
        },
        "id": "fFyha0k1P0AX",
        "outputId": "87ce59f1-2c04-46da-d65a-9a7e86597aa1"
      },
      "outputs": [],
      "source": [
        "# train the model using the previously created function\n",
        "loss_history = train_model(dset, model_parameters)"
      ]
    },
    {
      "cell_type": "code",
      "execution_count": null,
      "id": "ZZmLPmS5P0EJ",
      "metadata": {
        "colab": {
          "base_uri": "https://localhost:8080/"
        },
        "id": "ZZmLPmS5P0EJ",
        "outputId": "fd35b8bb-3520-4035-9b35-cc74835f86f0"
      },
      "outputs": [],
      "source": [
        "# generate predictions for the training and evaluation set\n",
        "net.eval()\n",
        "for typ, (X, y) in {'train': (X_train, y_train), 'evaluation': (X_test, y_test)}.items():\n",
        "  X_tensor = torch.tensor(np.array(X.to_list()), dtype=torch.float32)\n",
        "  y_pred_logits = net(X_tensor, task_id=0)\n",
        "  y_pred_prob = pd.DataFrame(F.softmax(y_pred_logits, dim=1).detach().cpu().numpy(),\n",
        "                            columns=['negative (probability)', 'positive (probability)'])\n",
        "  y_pred = np.where(y_pred_prob['positive (probability)'] > 0.5, 'positive', 'negative')\n",
        "  # predictive performance metrics\n",
        "  sensitivity  = recall_score(y, y_pred, pos_label='positive')\n",
        "  specificity  = recall_score(y, y_pred, pos_label='negative')\n",
        "  balanced_accuracy = balanced_accuracy_score(y, y_pred)\n",
        "  roc_auc = roc_auc_score(y.map({'positive': 1, 'negative': 0}), y_pred_prob['positive (probability)'].values)\n",
        "  print(f\"sensitivity ({typ}): {sensitivity:.3f}\")\n",
        "  print(f\"specificity ({typ}): {specificity:.3f}\")\n",
        "  print(f\"balanced accuracy ({typ}): {balanced_accuracy:.3f}\")\n",
        "  print(f\"AUC ({typ}): {roc_auc:.3f}\\n\")"
      ]
    },
    {
      "cell_type": "markdown",
      "id": "PZAAZVy3bUoT",
      "metadata": {
        "id": "PZAAZVy3bUoT"
      },
      "source": [
        "The difference between sensitivity and specificity has been reduced. Overall, it seems that with a relatively simple model we managed to achieve balanced accuracy of around 80% that is not bad. Altough we have put-in quite some effort to setup this NN and polished the data, we have to adress that most of that 80% accuracy comes from our high quality dataset. Please remember the effort that went into generating a dataset that is this clean, which for us was just the starting point. The quality of the data is almost always what matters most."
      ]
    }
  ],
  "metadata": {
    "colab": {
      "provenance": [],
      "toc_visible": true
    },
    "kernelspec": {
      "display_name": ".venv",
      "language": "python",
      "name": "python3"
    },
    "language_info": {
      "codemirror_mode": {
        "name": "ipython",
        "version": 3
      },
      "file_extension": ".py",
      "mimetype": "text/x-python",
      "name": "python",
      "nbconvert_exporter": "python",
      "pygments_lexer": "ipython3",
      "version": "3.12.10"
    },
    "widgets": {
      "application/vnd.jupyter.widget-state+json": {
        "0012b09fd9b2452280b3465dfed891ef": {
          "model_module": "@jupyter-widgets/base",
          "model_module_version": "1.2.0",
          "model_name": "LayoutModel",
          "state": {
            "_model_module": "@jupyter-widgets/base",
            "_model_module_version": "1.2.0",
            "_model_name": "LayoutModel",
            "_view_count": null,
            "_view_module": "@jupyter-widgets/base",
            "_view_module_version": "1.2.0",
            "_view_name": "LayoutView",
            "align_content": null,
            "align_items": null,
            "align_self": null,
            "border": null,
            "bottom": null,
            "display": null,
            "flex": null,
            "flex_flow": null,
            "grid_area": null,
            "grid_auto_columns": null,
            "grid_auto_flow": null,
            "grid_auto_rows": null,
            "grid_column": null,
            "grid_gap": null,
            "grid_row": null,
            "grid_template_areas": null,
            "grid_template_columns": null,
            "grid_template_rows": null,
            "height": null,
            "justify_content": null,
            "justify_items": null,
            "left": null,
            "margin": null,
            "max_height": null,
            "max_width": null,
            "min_height": null,
            "min_width": null,
            "object_fit": null,
            "object_position": null,
            "order": null,
            "overflow": null,
            "overflow_x": null,
            "overflow_y": null,
            "padding": null,
            "right": null,
            "top": null,
            "visibility": null,
            "width": null
          }
        },
        "013e2d874c3e4b34b83c01e03a402a99": {
          "model_module": "@jupyter-widgets/controls",
          "model_module_version": "1.5.0",
          "model_name": "ProgressStyleModel",
          "state": {
            "_model_module": "@jupyter-widgets/controls",
            "_model_module_version": "1.5.0",
            "_model_name": "ProgressStyleModel",
            "_view_count": null,
            "_view_module": "@jupyter-widgets/base",
            "_view_module_version": "1.2.0",
            "_view_name": "StyleView",
            "bar_color": null,
            "description_width": ""
          }
        },
        "017cd10ce855433c85188054fb445020": {
          "model_module": "@jupyter-widgets/controls",
          "model_module_version": "1.5.0",
          "model_name": "HTMLModel",
          "state": {
            "_dom_classes": [],
            "_model_module": "@jupyter-widgets/controls",
            "_model_module_version": "1.5.0",
            "_model_name": "HTMLModel",
            "_view_count": null,
            "_view_module": "@jupyter-widgets/controls",
            "_view_module_version": "1.5.0",
            "_view_name": "HTMLView",
            "description": "",
            "description_tooltip": null,
            "layout": "IPY_MODEL_f643c97f20a9427eb32b6d13e462ddae",
            "placeholder": "​",
            "style": "IPY_MODEL_f8e9a45960bc43bba839cfa815f5de0e",
            "value": "100%"
          }
        },
        "06e5a66adfd34a978107c5a67599be58": {
          "model_module": "@jupyter-widgets/controls",
          "model_module_version": "1.5.0",
          "model_name": "IntSliderModel",
          "state": {
            "_dom_classes": [],
            "_model_module": "@jupyter-widgets/controls",
            "_model_module_version": "1.5.0",
            "_model_name": "IntSliderModel",
            "_view_count": null,
            "_view_module": "@jupyter-widgets/controls",
            "_view_module_version": "1.5.0",
            "_view_name": "IntSliderView",
            "continuous_update": false,
            "description": "Page:",
            "description_tooltip": null,
            "disabled": false,
            "layout": "IPY_MODEL_119c96d525374ccda3e2eb2b8a038254",
            "max": 9,
            "min": 0,
            "orientation": "horizontal",
            "readout": true,
            "readout_format": "d",
            "step": 1,
            "style": "IPY_MODEL_6c493215b44d49a3967ebaa48cdc99cf",
            "value": 0
          }
        },
        "087026307ae849db98b49ee41811a2c9": {
          "model_module": "@jupyter-widgets/base",
          "model_module_version": "1.2.0",
          "model_name": "LayoutModel",
          "state": {
            "_model_module": "@jupyter-widgets/base",
            "_model_module_version": "1.2.0",
            "_model_name": "LayoutModel",
            "_view_count": null,
            "_view_module": "@jupyter-widgets/base",
            "_view_module_version": "1.2.0",
            "_view_name": "LayoutView",
            "align_content": null,
            "align_items": null,
            "align_self": null,
            "border": null,
            "bottom": null,
            "display": null,
            "flex": null,
            "flex_flow": null,
            "grid_area": null,
            "grid_auto_columns": null,
            "grid_auto_flow": null,
            "grid_auto_rows": null,
            "grid_column": null,
            "grid_gap": null,
            "grid_row": null,
            "grid_template_areas": null,
            "grid_template_columns": null,
            "grid_template_rows": null,
            "height": null,
            "justify_content": null,
            "justify_items": null,
            "left": null,
            "margin": null,
            "max_height": null,
            "max_width": null,
            "min_height": null,
            "min_width": null,
            "object_fit": null,
            "object_position": null,
            "order": null,
            "overflow": null,
            "overflow_x": null,
            "overflow_y": null,
            "padding": null,
            "right": null,
            "top": null,
            "visibility": null,
            "width": null
          }
        },
        "0c5d040aea284d899f6f7f7e73dd398a": {
          "model_module": "@jupyter-widgets/base",
          "model_module_version": "1.2.0",
          "model_name": "LayoutModel",
          "state": {
            "_model_module": "@jupyter-widgets/base",
            "_model_module_version": "1.2.0",
            "_model_name": "LayoutModel",
            "_view_count": null,
            "_view_module": "@jupyter-widgets/base",
            "_view_module_version": "1.2.0",
            "_view_name": "LayoutView",
            "align_content": null,
            "align_items": null,
            "align_self": null,
            "border": null,
            "bottom": null,
            "display": null,
            "flex": null,
            "flex_flow": null,
            "grid_area": null,
            "grid_auto_columns": null,
            "grid_auto_flow": null,
            "grid_auto_rows": null,
            "grid_column": null,
            "grid_gap": null,
            "grid_row": null,
            "grid_template_areas": null,
            "grid_template_columns": null,
            "grid_template_rows": null,
            "height": null,
            "justify_content": null,
            "justify_items": null,
            "left": null,
            "margin": null,
            "max_height": null,
            "max_width": null,
            "min_height": null,
            "min_width": null,
            "object_fit": null,
            "object_position": null,
            "order": null,
            "overflow": null,
            "overflow_x": null,
            "overflow_y": null,
            "padding": null,
            "right": null,
            "top": null,
            "visibility": null,
            "width": null
          }
        },
        "0f9e3a9d553d4a05aaf1d4a785d4a52b": {
          "model_module": "@jupyter-widgets/controls",
          "model_module_version": "1.5.0",
          "model_name": "ProgressStyleModel",
          "state": {
            "_model_module": "@jupyter-widgets/controls",
            "_model_module_version": "1.5.0",
            "_model_name": "ProgressStyleModel",
            "_view_count": null,
            "_view_module": "@jupyter-widgets/base",
            "_view_module_version": "1.2.0",
            "_view_name": "StyleView",
            "bar_color": null,
            "description_width": ""
          }
        },
        "119c96d525374ccda3e2eb2b8a038254": {
          "model_module": "@jupyter-widgets/base",
          "model_module_version": "1.2.0",
          "model_name": "LayoutModel",
          "state": {
            "_model_module": "@jupyter-widgets/base",
            "_model_module_version": "1.2.0",
            "_model_name": "LayoutModel",
            "_view_count": null,
            "_view_module": "@jupyter-widgets/base",
            "_view_module_version": "1.2.0",
            "_view_name": "LayoutView",
            "align_content": null,
            "align_items": null,
            "align_self": null,
            "border": null,
            "bottom": null,
            "display": null,
            "flex": null,
            "flex_flow": null,
            "grid_area": null,
            "grid_auto_columns": null,
            "grid_auto_flow": null,
            "grid_auto_rows": null,
            "grid_column": null,
            "grid_gap": null,
            "grid_row": null,
            "grid_template_areas": null,
            "grid_template_columns": null,
            "grid_template_rows": null,
            "height": null,
            "justify_content": null,
            "justify_items": null,
            "left": null,
            "margin": null,
            "max_height": null,
            "max_width": null,
            "min_height": null,
            "min_width": null,
            "object_fit": null,
            "object_position": null,
            "order": null,
            "overflow": null,
            "overflow_x": null,
            "overflow_y": null,
            "padding": null,
            "right": null,
            "top": null,
            "visibility": null,
            "width": null
          }
        },
        "12a5f13fdbf7459f902f7d3b6c4db2f9": {
          "model_module": "@jupyter-widgets/controls",
          "model_module_version": "1.5.0",
          "model_name": "DescriptionStyleModel",
          "state": {
            "_model_module": "@jupyter-widgets/controls",
            "_model_module_version": "1.5.0",
            "_model_name": "DescriptionStyleModel",
            "_view_count": null,
            "_view_module": "@jupyter-widgets/base",
            "_view_module_version": "1.2.0",
            "_view_name": "StyleView",
            "description_width": ""
          }
        },
        "1cf43729833a4c6f8d5779d4a7316840": {
          "model_module": "@jupyter-widgets/controls",
          "model_module_version": "1.5.0",
          "model_name": "FloatProgressModel",
          "state": {
            "_dom_classes": [],
            "_model_module": "@jupyter-widgets/controls",
            "_model_module_version": "1.5.0",
            "_model_name": "FloatProgressModel",
            "_view_count": null,
            "_view_module": "@jupyter-widgets/controls",
            "_view_module_version": "1.5.0",
            "_view_name": "ProgressView",
            "bar_style": "success",
            "description": "",
            "description_tooltip": null,
            "layout": "IPY_MODEL_434626a069804cffa1a97f68943750c9",
            "max": 4236,
            "min": 0,
            "orientation": "horizontal",
            "style": "IPY_MODEL_0f9e3a9d553d4a05aaf1d4a785d4a52b",
            "value": 4236
          }
        },
        "1e8a1b5e2c2c45c99afa9e501b1b9739": {
          "model_module": "@jupyter-widgets/base",
          "model_module_version": "1.2.0",
          "model_name": "LayoutModel",
          "state": {
            "_model_module": "@jupyter-widgets/base",
            "_model_module_version": "1.2.0",
            "_model_name": "LayoutModel",
            "_view_count": null,
            "_view_module": "@jupyter-widgets/base",
            "_view_module_version": "1.2.0",
            "_view_name": "LayoutView",
            "align_content": null,
            "align_items": null,
            "align_self": null,
            "border": null,
            "bottom": null,
            "display": null,
            "flex": null,
            "flex_flow": null,
            "grid_area": null,
            "grid_auto_columns": null,
            "grid_auto_flow": null,
            "grid_auto_rows": null,
            "grid_column": null,
            "grid_gap": null,
            "grid_row": null,
            "grid_template_areas": null,
            "grid_template_columns": null,
            "grid_template_rows": null,
            "height": null,
            "justify_content": null,
            "justify_items": null,
            "left": null,
            "margin": null,
            "max_height": null,
            "max_width": null,
            "min_height": null,
            "min_width": null,
            "object_fit": null,
            "object_position": null,
            "order": null,
            "overflow": null,
            "overflow_x": null,
            "overflow_y": null,
            "padding": null,
            "right": null,
            "top": null,
            "visibility": null,
            "width": null
          }
        },
        "1f89232b0b5f48e4902f04ce81815c1e": {
          "model_module": "@jupyter-widgets/controls",
          "model_module_version": "1.5.0",
          "model_name": "ProgressStyleModel",
          "state": {
            "_model_module": "@jupyter-widgets/controls",
            "_model_module_version": "1.5.0",
            "_model_name": "ProgressStyleModel",
            "_view_count": null,
            "_view_module": "@jupyter-widgets/base",
            "_view_module_version": "1.2.0",
            "_view_name": "StyleView",
            "bar_color": null,
            "description_width": ""
          }
        },
        "1fb84e99008c4f2b80d4c7d485e7aa74": {
          "model_module": "@jupyter-widgets/controls",
          "model_module_version": "1.5.0",
          "model_name": "FloatProgressModel",
          "state": {
            "_dom_classes": [],
            "_model_module": "@jupyter-widgets/controls",
            "_model_module_version": "1.5.0",
            "_model_name": "FloatProgressModel",
            "_view_count": null,
            "_view_module": "@jupyter-widgets/controls",
            "_view_module_version": "1.5.0",
            "_view_name": "ProgressView",
            "bar_style": "success",
            "description": "",
            "description_tooltip": null,
            "layout": "IPY_MODEL_0012b09fd9b2452280b3465dfed891ef",
            "max": 4236,
            "min": 0,
            "orientation": "horizontal",
            "style": "IPY_MODEL_551667db4c3c40d3957148bf0ce00450",
            "value": 4236
          }
        },
        "2015615be4cd4f3da932c00c6a7fe7ca": {
          "model_module": "@jupyter-widgets/base",
          "model_module_version": "1.2.0",
          "model_name": "LayoutModel",
          "state": {
            "_model_module": "@jupyter-widgets/base",
            "_model_module_version": "1.2.0",
            "_model_name": "LayoutModel",
            "_view_count": null,
            "_view_module": "@jupyter-widgets/base",
            "_view_module_version": "1.2.0",
            "_view_name": "LayoutView",
            "align_content": null,
            "align_items": null,
            "align_self": null,
            "border": null,
            "bottom": null,
            "display": null,
            "flex": null,
            "flex_flow": null,
            "grid_area": null,
            "grid_auto_columns": null,
            "grid_auto_flow": null,
            "grid_auto_rows": null,
            "grid_column": null,
            "grid_gap": null,
            "grid_row": null,
            "grid_template_areas": null,
            "grid_template_columns": null,
            "grid_template_rows": null,
            "height": null,
            "justify_content": null,
            "justify_items": null,
            "left": null,
            "margin": null,
            "max_height": null,
            "max_width": null,
            "min_height": null,
            "min_width": null,
            "object_fit": null,
            "object_position": null,
            "order": null,
            "overflow": null,
            "overflow_x": null,
            "overflow_y": null,
            "padding": null,
            "right": null,
            "top": null,
            "visibility": null,
            "width": null
          }
        },
        "2bfdadcdb2914fc18874d0279dbf4669": {
          "model_module": "@jupyter-widgets/controls",
          "model_module_version": "1.5.0",
          "model_name": "HBoxModel",
          "state": {
            "_dom_classes": [],
            "_model_module": "@jupyter-widgets/controls",
            "_model_module_version": "1.5.0",
            "_model_name": "HBoxModel",
            "_view_count": null,
            "_view_module": "@jupyter-widgets/controls",
            "_view_module_version": "1.5.0",
            "_view_name": "HBoxView",
            "box_style": "",
            "children": [
              "IPY_MODEL_a391aa5464dd4944839acb1a874f3a02",
              "IPY_MODEL_1cf43729833a4c6f8d5779d4a7316840",
              "IPY_MODEL_3fdb38e00dd24800ade20f9ac3f17c63"
            ],
            "layout": "IPY_MODEL_087026307ae849db98b49ee41811a2c9"
          }
        },
        "2dd51d6a2deb475bbcbd3116b957e473": {
          "model_module": "@jupyter-widgets/controls",
          "model_module_version": "1.5.0",
          "model_name": "FloatProgressModel",
          "state": {
            "_dom_classes": [],
            "_model_module": "@jupyter-widgets/controls",
            "_model_module_version": "1.5.0",
            "_model_name": "FloatProgressModel",
            "_view_count": null,
            "_view_module": "@jupyter-widgets/controls",
            "_view_module_version": "1.5.0",
            "_view_name": "ProgressView",
            "bar_style": "success",
            "description": "",
            "description_tooltip": null,
            "layout": "IPY_MODEL_a4bf4fb520214dd98f20c0243d7530ae",
            "max": 4236,
            "min": 0,
            "orientation": "horizontal",
            "style": "IPY_MODEL_e18c179c74f643bea2a835fe656186e1",
            "value": 4236
          }
        },
        "2e826cbeed66405fb83d67f6694295e4": {
          "model_module": "@jupyter-widgets/controls",
          "model_module_version": "1.5.0",
          "model_name": "FloatProgressModel",
          "state": {
            "_dom_classes": [],
            "_model_module": "@jupyter-widgets/controls",
            "_model_module_version": "1.5.0",
            "_model_name": "FloatProgressModel",
            "_view_count": null,
            "_view_module": "@jupyter-widgets/controls",
            "_view_module_version": "1.5.0",
            "_view_name": "ProgressView",
            "bar_style": "success",
            "description": "",
            "description_tooltip": null,
            "layout": "IPY_MODEL_eb510e324c8f47138bbe41f8fe87aba9",
            "max": 4236,
            "min": 0,
            "orientation": "horizontal",
            "style": "IPY_MODEL_1f89232b0b5f48e4902f04ce81815c1e",
            "value": 4236
          }
        },
        "37494ed2036b4c5bbce08198395037f4": {
          "model_module": "@jupyter-widgets/base",
          "model_module_version": "1.2.0",
          "model_name": "LayoutModel",
          "state": {
            "_model_module": "@jupyter-widgets/base",
            "_model_module_version": "1.2.0",
            "_model_name": "LayoutModel",
            "_view_count": null,
            "_view_module": "@jupyter-widgets/base",
            "_view_module_version": "1.2.0",
            "_view_name": "LayoutView",
            "align_content": null,
            "align_items": null,
            "align_self": null,
            "border": null,
            "bottom": null,
            "display": null,
            "flex": null,
            "flex_flow": null,
            "grid_area": null,
            "grid_auto_columns": null,
            "grid_auto_flow": null,
            "grid_auto_rows": null,
            "grid_column": null,
            "grid_gap": null,
            "grid_row": null,
            "grid_template_areas": null,
            "grid_template_columns": null,
            "grid_template_rows": null,
            "height": null,
            "justify_content": null,
            "justify_items": null,
            "left": null,
            "margin": null,
            "max_height": null,
            "max_width": null,
            "min_height": null,
            "min_width": null,
            "object_fit": null,
            "object_position": null,
            "order": null,
            "overflow": null,
            "overflow_x": null,
            "overflow_y": null,
            "padding": null,
            "right": null,
            "top": null,
            "visibility": null,
            "width": null
          }
        },
        "3ce11ff67e0b4f97beec5930ee8325a7": {
          "model_module": "@jupyter-widgets/controls",
          "model_module_version": "1.5.0",
          "model_name": "HTMLModel",
          "state": {
            "_dom_classes": [],
            "_model_module": "@jupyter-widgets/controls",
            "_model_module_version": "1.5.0",
            "_model_name": "HTMLModel",
            "_view_count": null,
            "_view_module": "@jupyter-widgets/controls",
            "_view_module_version": "1.5.0",
            "_view_name": "HTMLView",
            "description": "",
            "description_tooltip": null,
            "layout": "IPY_MODEL_fbda3daf08df411bb0763ca14f77ad17",
            "placeholder": "​",
            "style": "IPY_MODEL_9ee41f5dbe9a40ac861426f50a6b3176",
            "value": " 10/10 [00:00&lt;00:00, 14.50it/s]"
          }
        },
        "3fdb38e00dd24800ade20f9ac3f17c63": {
          "model_module": "@jupyter-widgets/controls",
          "model_module_version": "1.5.0",
          "model_name": "HTMLModel",
          "state": {
            "_dom_classes": [],
            "_model_module": "@jupyter-widgets/controls",
            "_model_module_version": "1.5.0",
            "_model_name": "HTMLModel",
            "_view_count": null,
            "_view_module": "@jupyter-widgets/controls",
            "_view_module_version": "1.5.0",
            "_view_name": "HTMLView",
            "description": "",
            "description_tooltip": null,
            "layout": "IPY_MODEL_9d8586b037a04ebf8a4391c9376ce856",
            "placeholder": "​",
            "style": "IPY_MODEL_b6e2b5daa8bb4b1bb70b14a99bbed739",
            "value": " 4236/4236 [00:00&lt;00:00, 44445.35it/s]"
          }
        },
        "434626a069804cffa1a97f68943750c9": {
          "model_module": "@jupyter-widgets/base",
          "model_module_version": "1.2.0",
          "model_name": "LayoutModel",
          "state": {
            "_model_module": "@jupyter-widgets/base",
            "_model_module_version": "1.2.0",
            "_model_name": "LayoutModel",
            "_view_count": null,
            "_view_module": "@jupyter-widgets/base",
            "_view_module_version": "1.2.0",
            "_view_name": "LayoutView",
            "align_content": null,
            "align_items": null,
            "align_self": null,
            "border": null,
            "bottom": null,
            "display": null,
            "flex": null,
            "flex_flow": null,
            "grid_area": null,
            "grid_auto_columns": null,
            "grid_auto_flow": null,
            "grid_auto_rows": null,
            "grid_column": null,
            "grid_gap": null,
            "grid_row": null,
            "grid_template_areas": null,
            "grid_template_columns": null,
            "grid_template_rows": null,
            "height": null,
            "justify_content": null,
            "justify_items": null,
            "left": null,
            "margin": null,
            "max_height": null,
            "max_width": null,
            "min_height": null,
            "min_width": null,
            "object_fit": null,
            "object_position": null,
            "order": null,
            "overflow": null,
            "overflow_x": null,
            "overflow_y": null,
            "padding": null,
            "right": null,
            "top": null,
            "visibility": null,
            "width": null
          }
        },
        "447bd098e917458f9df21424e35cfb9e": {
          "model_module": "@jupyter-widgets/base",
          "model_module_version": "1.2.0",
          "model_name": "LayoutModel",
          "state": {
            "_model_module": "@jupyter-widgets/base",
            "_model_module_version": "1.2.0",
            "_model_name": "LayoutModel",
            "_view_count": null,
            "_view_module": "@jupyter-widgets/base",
            "_view_module_version": "1.2.0",
            "_view_name": "LayoutView",
            "align_content": null,
            "align_items": null,
            "align_self": null,
            "border": null,
            "bottom": null,
            "display": null,
            "flex": null,
            "flex_flow": null,
            "grid_area": null,
            "grid_auto_columns": null,
            "grid_auto_flow": null,
            "grid_auto_rows": null,
            "grid_column": null,
            "grid_gap": null,
            "grid_row": null,
            "grid_template_areas": null,
            "grid_template_columns": null,
            "grid_template_rows": null,
            "height": null,
            "justify_content": null,
            "justify_items": null,
            "left": null,
            "margin": null,
            "max_height": null,
            "max_width": null,
            "min_height": null,
            "min_width": null,
            "object_fit": null,
            "object_position": null,
            "order": null,
            "overflow": null,
            "overflow_x": null,
            "overflow_y": null,
            "padding": null,
            "right": null,
            "top": null,
            "visibility": null,
            "width": null
          }
        },
        "49b1f25b35e544b087fb05a6e6764d2a": {
          "model_module": "@jupyter-widgets/base",
          "model_module_version": "1.2.0",
          "model_name": "LayoutModel",
          "state": {
            "_model_module": "@jupyter-widgets/base",
            "_model_module_version": "1.2.0",
            "_model_name": "LayoutModel",
            "_view_count": null,
            "_view_module": "@jupyter-widgets/base",
            "_view_module_version": "1.2.0",
            "_view_name": "LayoutView",
            "align_content": null,
            "align_items": null,
            "align_self": null,
            "border": null,
            "bottom": null,
            "display": null,
            "flex": null,
            "flex_flow": null,
            "grid_area": null,
            "grid_auto_columns": null,
            "grid_auto_flow": null,
            "grid_auto_rows": null,
            "grid_column": null,
            "grid_gap": null,
            "grid_row": null,
            "grid_template_areas": null,
            "grid_template_columns": null,
            "grid_template_rows": null,
            "height": null,
            "justify_content": null,
            "justify_items": null,
            "left": null,
            "margin": null,
            "max_height": null,
            "max_width": null,
            "min_height": null,
            "min_width": null,
            "object_fit": null,
            "object_position": null,
            "order": null,
            "overflow": null,
            "overflow_x": null,
            "overflow_y": null,
            "padding": null,
            "right": null,
            "top": null,
            "visibility": null,
            "width": null
          }
        },
        "4befd8dde537466b8b7afbbdd252b224": {
          "model_module": "@jupyter-widgets/controls",
          "model_module_version": "1.5.0",
          "model_name": "DescriptionStyleModel",
          "state": {
            "_model_module": "@jupyter-widgets/controls",
            "_model_module_version": "1.5.0",
            "_model_name": "DescriptionStyleModel",
            "_view_count": null,
            "_view_module": "@jupyter-widgets/base",
            "_view_module_version": "1.2.0",
            "_view_name": "StyleView",
            "description_width": ""
          }
        },
        "4c0871ca0acf42118e2cdd35d69a400c": {
          "model_module": "@jupyter-widgets/controls",
          "model_module_version": "1.5.0",
          "model_name": "FloatProgressModel",
          "state": {
            "_dom_classes": [],
            "_model_module": "@jupyter-widgets/controls",
            "_model_module_version": "1.5.0",
            "_model_name": "FloatProgressModel",
            "_view_count": null,
            "_view_module": "@jupyter-widgets/controls",
            "_view_module_version": "1.5.0",
            "_view_name": "ProgressView",
            "bar_style": "success",
            "description": "",
            "description_tooltip": null,
            "layout": "IPY_MODEL_c9ad40257c564ba5b5a2279721cbe041",
            "max": 10,
            "min": 0,
            "orientation": "horizontal",
            "style": "IPY_MODEL_cf8c73cbf02a487cb79bcfa7b3a3d5a9",
            "value": 10
          }
        },
        "4c5805b5cc8e4f4bbcfe07734118003a": {
          "model_module": "@jupyter-widgets/controls",
          "model_module_version": "1.5.0",
          "model_name": "HBoxModel",
          "state": {
            "_dom_classes": [],
            "_model_module": "@jupyter-widgets/controls",
            "_model_module_version": "1.5.0",
            "_model_name": "HBoxModel",
            "_view_count": null,
            "_view_module": "@jupyter-widgets/controls",
            "_view_module_version": "1.5.0",
            "_view_name": "HBoxView",
            "box_style": "",
            "children": [
              "IPY_MODEL_7bee441b2f58452da47c2a3a40588184",
              "IPY_MODEL_7a81c0e250b5491a8947c2e8004597a0",
              "IPY_MODEL_ee84d1474db54a07ab656b7cb8c43977"
            ],
            "layout": "IPY_MODEL_70919858da014af386d6e3121f5cd45d"
          }
        },
        "52cdd3020508423fabcd28977627ce47": {
          "model_module": "@jupyter-widgets/base",
          "model_module_version": "1.2.0",
          "model_name": "LayoutModel",
          "state": {
            "_model_module": "@jupyter-widgets/base",
            "_model_module_version": "1.2.0",
            "_model_name": "LayoutModel",
            "_view_count": null,
            "_view_module": "@jupyter-widgets/base",
            "_view_module_version": "1.2.0",
            "_view_name": "LayoutView",
            "align_content": null,
            "align_items": null,
            "align_self": null,
            "border": null,
            "bottom": null,
            "display": null,
            "flex": null,
            "flex_flow": null,
            "grid_area": null,
            "grid_auto_columns": null,
            "grid_auto_flow": null,
            "grid_auto_rows": null,
            "grid_column": null,
            "grid_gap": null,
            "grid_row": null,
            "grid_template_areas": null,
            "grid_template_columns": null,
            "grid_template_rows": null,
            "height": null,
            "justify_content": null,
            "justify_items": null,
            "left": null,
            "margin": null,
            "max_height": null,
            "max_width": null,
            "min_height": null,
            "min_width": null,
            "object_fit": null,
            "object_position": null,
            "order": null,
            "overflow": null,
            "overflow_x": null,
            "overflow_y": null,
            "padding": null,
            "right": null,
            "top": null,
            "visibility": null,
            "width": null
          }
        },
        "534691a40bee4ddb8d0e4a1cf3c1a9c8": {
          "model_module": "@jupyter-widgets/base",
          "model_module_version": "1.2.0",
          "model_name": "LayoutModel",
          "state": {
            "_model_module": "@jupyter-widgets/base",
            "_model_module_version": "1.2.0",
            "_model_name": "LayoutModel",
            "_view_count": null,
            "_view_module": "@jupyter-widgets/base",
            "_view_module_version": "1.2.0",
            "_view_name": "LayoutView",
            "align_content": null,
            "align_items": null,
            "align_self": null,
            "border": null,
            "bottom": null,
            "display": null,
            "flex": null,
            "flex_flow": null,
            "grid_area": null,
            "grid_auto_columns": null,
            "grid_auto_flow": null,
            "grid_auto_rows": null,
            "grid_column": null,
            "grid_gap": null,
            "grid_row": null,
            "grid_template_areas": null,
            "grid_template_columns": null,
            "grid_template_rows": null,
            "height": null,
            "justify_content": null,
            "justify_items": null,
            "left": null,
            "margin": null,
            "max_height": null,
            "max_width": null,
            "min_height": null,
            "min_width": null,
            "object_fit": null,
            "object_position": null,
            "order": null,
            "overflow": null,
            "overflow_x": null,
            "overflow_y": null,
            "padding": null,
            "right": null,
            "top": null,
            "visibility": null,
            "width": null
          }
        },
        "551667db4c3c40d3957148bf0ce00450": {
          "model_module": "@jupyter-widgets/controls",
          "model_module_version": "1.5.0",
          "model_name": "ProgressStyleModel",
          "state": {
            "_model_module": "@jupyter-widgets/controls",
            "_model_module_version": "1.5.0",
            "_model_name": "ProgressStyleModel",
            "_view_count": null,
            "_view_module": "@jupyter-widgets/base",
            "_view_module_version": "1.2.0",
            "_view_name": "StyleView",
            "bar_color": null,
            "description_width": ""
          }
        },
        "564838fa290d4c1ca6851120cd937e4b": {
          "model_module": "@jupyter-widgets/controls",
          "model_module_version": "1.5.0",
          "model_name": "HBoxModel",
          "state": {
            "_dom_classes": [],
            "_model_module": "@jupyter-widgets/controls",
            "_model_module_version": "1.5.0",
            "_model_name": "HBoxModel",
            "_view_count": null,
            "_view_module": "@jupyter-widgets/controls",
            "_view_module_version": "1.5.0",
            "_view_name": "HBoxView",
            "box_style": "",
            "children": [
              "IPY_MODEL_7154a39fe2ff4c6d84a3cf6c58ead80e",
              "IPY_MODEL_5e904bc7a9e747aa947f3a13c4360cf9",
              "IPY_MODEL_3ce11ff67e0b4f97beec5930ee8325a7"
            ],
            "layout": "IPY_MODEL_52cdd3020508423fabcd28977627ce47"
          }
        },
        "569e5688dfe3420fa0386a34e7f389ed": {
          "model_module": "@jupyter-widgets/base",
          "model_module_version": "1.2.0",
          "model_name": "LayoutModel",
          "state": {
            "_model_module": "@jupyter-widgets/base",
            "_model_module_version": "1.2.0",
            "_model_name": "LayoutModel",
            "_view_count": null,
            "_view_module": "@jupyter-widgets/base",
            "_view_module_version": "1.2.0",
            "_view_name": "LayoutView",
            "align_content": null,
            "align_items": null,
            "align_self": null,
            "border": null,
            "bottom": null,
            "display": null,
            "flex": null,
            "flex_flow": null,
            "grid_area": null,
            "grid_auto_columns": null,
            "grid_auto_flow": null,
            "grid_auto_rows": null,
            "grid_column": null,
            "grid_gap": null,
            "grid_row": null,
            "grid_template_areas": null,
            "grid_template_columns": null,
            "grid_template_rows": null,
            "height": null,
            "justify_content": null,
            "justify_items": null,
            "left": null,
            "margin": null,
            "max_height": null,
            "max_width": null,
            "min_height": null,
            "min_width": null,
            "object_fit": null,
            "object_position": null,
            "order": null,
            "overflow": null,
            "overflow_x": null,
            "overflow_y": null,
            "padding": null,
            "right": null,
            "top": null,
            "visibility": null,
            "width": null
          }
        },
        "5e904bc7a9e747aa947f3a13c4360cf9": {
          "model_module": "@jupyter-widgets/controls",
          "model_module_version": "1.5.0",
          "model_name": "FloatProgressModel",
          "state": {
            "_dom_classes": [],
            "_model_module": "@jupyter-widgets/controls",
            "_model_module_version": "1.5.0",
            "_model_name": "FloatProgressModel",
            "_view_count": null,
            "_view_module": "@jupyter-widgets/controls",
            "_view_module_version": "1.5.0",
            "_view_name": "ProgressView",
            "bar_style": "success",
            "description": "",
            "description_tooltip": null,
            "layout": "IPY_MODEL_cd8d5ff63038446baeb245bc8cb167d7",
            "max": 10,
            "min": 0,
            "orientation": "horizontal",
            "style": "IPY_MODEL_013e2d874c3e4b34b83c01e03a402a99",
            "value": 10
          }
        },
        "610814b975bb4317addd3608d43a85df": {
          "model_module": "@jupyter-widgets/controls",
          "model_module_version": "1.5.0",
          "model_name": "ProgressStyleModel",
          "state": {
            "_model_module": "@jupyter-widgets/controls",
            "_model_module_version": "1.5.0",
            "_model_name": "ProgressStyleModel",
            "_view_count": null,
            "_view_module": "@jupyter-widgets/base",
            "_view_module_version": "1.2.0",
            "_view_name": "StyleView",
            "bar_color": null,
            "description_width": ""
          }
        },
        "6483c1aa2c7040f1a4c6c8893dc7298c": {
          "model_module": "@jupyter-widgets/controls",
          "model_module_version": "1.5.0",
          "model_name": "ButtonModel",
          "state": {
            "_dom_classes": [],
            "_model_module": "@jupyter-widgets/controls",
            "_model_module_version": "1.5.0",
            "_model_name": "ButtonModel",
            "_view_count": null,
            "_view_module": "@jupyter-widgets/controls",
            "_view_module_version": "1.5.0",
            "_view_name": "ButtonView",
            "button_style": "",
            "description": "previous",
            "disabled": false,
            "icon": "",
            "layout": "IPY_MODEL_534691a40bee4ddb8d0e4a1cf3c1a9c8",
            "style": "IPY_MODEL_eff2d3f00792457e913f4530dd4e3a8a",
            "tooltip": ""
          }
        },
        "68c4bf5a64034daaa2ff12d49cff2f4a": {
          "model_module": "@jupyter-widgets/controls",
          "model_module_version": "1.5.0",
          "model_name": "DescriptionStyleModel",
          "state": {
            "_model_module": "@jupyter-widgets/controls",
            "_model_module_version": "1.5.0",
            "_model_name": "DescriptionStyleModel",
            "_view_count": null,
            "_view_module": "@jupyter-widgets/base",
            "_view_module_version": "1.2.0",
            "_view_name": "StyleView",
            "description_width": ""
          }
        },
        "6b8797be14c246f190bb781389ef5df0": {
          "model_module": "@jupyter-widgets/controls",
          "model_module_version": "1.5.0",
          "model_name": "DescriptionStyleModel",
          "state": {
            "_model_module": "@jupyter-widgets/controls",
            "_model_module_version": "1.5.0",
            "_model_name": "DescriptionStyleModel",
            "_view_count": null,
            "_view_module": "@jupyter-widgets/base",
            "_view_module_version": "1.2.0",
            "_view_name": "StyleView",
            "description_width": ""
          }
        },
        "6c493215b44d49a3967ebaa48cdc99cf": {
          "model_module": "@jupyter-widgets/controls",
          "model_module_version": "1.5.0",
          "model_name": "SliderStyleModel",
          "state": {
            "_model_module": "@jupyter-widgets/controls",
            "_model_module_version": "1.5.0",
            "_model_name": "SliderStyleModel",
            "_view_count": null,
            "_view_module": "@jupyter-widgets/base",
            "_view_module_version": "1.2.0",
            "_view_name": "StyleView",
            "description_width": "",
            "handle_color": null
          }
        },
        "70919858da014af386d6e3121f5cd45d": {
          "model_module": "@jupyter-widgets/base",
          "model_module_version": "1.2.0",
          "model_name": "LayoutModel",
          "state": {
            "_model_module": "@jupyter-widgets/base",
            "_model_module_version": "1.2.0",
            "_model_name": "LayoutModel",
            "_view_count": null,
            "_view_module": "@jupyter-widgets/base",
            "_view_module_version": "1.2.0",
            "_view_name": "LayoutView",
            "align_content": null,
            "align_items": null,
            "align_self": null,
            "border": null,
            "bottom": null,
            "display": null,
            "flex": null,
            "flex_flow": null,
            "grid_area": null,
            "grid_auto_columns": null,
            "grid_auto_flow": null,
            "grid_auto_rows": null,
            "grid_column": null,
            "grid_gap": null,
            "grid_row": null,
            "grid_template_areas": null,
            "grid_template_columns": null,
            "grid_template_rows": null,
            "height": null,
            "justify_content": null,
            "justify_items": null,
            "left": null,
            "margin": null,
            "max_height": null,
            "max_width": null,
            "min_height": null,
            "min_width": null,
            "object_fit": null,
            "object_position": null,
            "order": null,
            "overflow": null,
            "overflow_x": null,
            "overflow_y": null,
            "padding": null,
            "right": null,
            "top": null,
            "visibility": null,
            "width": null
          }
        },
        "7154a39fe2ff4c6d84a3cf6c58ead80e": {
          "model_module": "@jupyter-widgets/controls",
          "model_module_version": "1.5.0",
          "model_name": "HTMLModel",
          "state": {
            "_dom_classes": [],
            "_model_module": "@jupyter-widgets/controls",
            "_model_module_version": "1.5.0",
            "_model_name": "HTMLModel",
            "_view_count": null,
            "_view_module": "@jupyter-widgets/controls",
            "_view_module_version": "1.5.0",
            "_view_name": "HTMLView",
            "description": "",
            "description_tooltip": null,
            "layout": "IPY_MODEL_8acb7734d1534af69024bc137b6d41e1",
            "placeholder": "​",
            "style": "IPY_MODEL_f14b9234a5ca45b884b3dbadca05bfb6",
            "value": "100%"
          }
        },
        "74d3de55d53e415d857485d396c904ff": {
          "model_module": "@jupyter-widgets/controls",
          "model_module_version": "1.5.0",
          "model_name": "DescriptionStyleModel",
          "state": {
            "_model_module": "@jupyter-widgets/controls",
            "_model_module_version": "1.5.0",
            "_model_name": "DescriptionStyleModel",
            "_view_count": null,
            "_view_module": "@jupyter-widgets/base",
            "_view_module_version": "1.2.0",
            "_view_name": "StyleView",
            "description_width": ""
          }
        },
        "7a81c0e250b5491a8947c2e8004597a0": {
          "model_module": "@jupyter-widgets/controls",
          "model_module_version": "1.5.0",
          "model_name": "FloatProgressModel",
          "state": {
            "_dom_classes": [],
            "_model_module": "@jupyter-widgets/controls",
            "_model_module_version": "1.5.0",
            "_model_name": "FloatProgressModel",
            "_view_count": null,
            "_view_module": "@jupyter-widgets/controls",
            "_view_module_version": "1.5.0",
            "_view_name": "ProgressView",
            "bar_style": "success",
            "description": "",
            "description_tooltip": null,
            "layout": "IPY_MODEL_e7f8ef06a53f48358329158661be035d",
            "max": 10,
            "min": 0,
            "orientation": "horizontal",
            "style": "IPY_MODEL_610814b975bb4317addd3608d43a85df",
            "value": 10
          }
        },
        "7bee441b2f58452da47c2a3a40588184": {
          "model_module": "@jupyter-widgets/controls",
          "model_module_version": "1.5.0",
          "model_name": "HTMLModel",
          "state": {
            "_dom_classes": [],
            "_model_module": "@jupyter-widgets/controls",
            "_model_module_version": "1.5.0",
            "_model_name": "HTMLModel",
            "_view_count": null,
            "_view_module": "@jupyter-widgets/controls",
            "_view_module_version": "1.5.0",
            "_view_name": "HTMLView",
            "description": "",
            "description_tooltip": null,
            "layout": "IPY_MODEL_f4b6d88001584562aada4403ed21ac4b",
            "placeholder": "​",
            "style": "IPY_MODEL_68c4bf5a64034daaa2ff12d49cff2f4a",
            "value": "100%"
          }
        },
        "8661f42eb3154f82b68c9fc789db6ee6": {
          "model_module": "@jupyter-widgets/controls",
          "model_module_version": "1.5.0",
          "model_name": "HBoxModel",
          "state": {
            "_dom_classes": [],
            "_model_module": "@jupyter-widgets/controls",
            "_model_module_version": "1.5.0",
            "_model_name": "HBoxModel",
            "_view_count": null,
            "_view_module": "@jupyter-widgets/controls",
            "_view_module_version": "1.5.0",
            "_view_name": "HBoxView",
            "box_style": "",
            "children": [
              "IPY_MODEL_91588602dd5b46ad934f0bff5f02b5aa",
              "IPY_MODEL_4c0871ca0acf42118e2cdd35d69a400c",
              "IPY_MODEL_c0f8c96cda3e47f5b2ed5e1e4b4a1365"
            ],
            "layout": "IPY_MODEL_f2a6d0595c2a40d4855a86dcd550ca31"
          }
        },
        "88df26626b8c47d09f4a343d7428c5f1": {
          "model_module": "@jupyter-widgets/controls",
          "model_module_version": "1.5.0",
          "model_name": "ButtonStyleModel",
          "state": {
            "_model_module": "@jupyter-widgets/controls",
            "_model_module_version": "1.5.0",
            "_model_name": "ButtonStyleModel",
            "_view_count": null,
            "_view_module": "@jupyter-widgets/base",
            "_view_module_version": "1.2.0",
            "_view_name": "StyleView",
            "button_color": null,
            "font_weight": ""
          }
        },
        "8aa3b6a6b9fe495bb20491563b432842": {
          "model_module": "@jupyter-widgets/controls",
          "model_module_version": "1.5.0",
          "model_name": "HTMLModel",
          "state": {
            "_dom_classes": [],
            "_model_module": "@jupyter-widgets/controls",
            "_model_module_version": "1.5.0",
            "_model_name": "HTMLModel",
            "_view_count": null,
            "_view_module": "@jupyter-widgets/controls",
            "_view_module_version": "1.5.0",
            "_view_name": "HTMLView",
            "description": "",
            "description_tooltip": null,
            "layout": "IPY_MODEL_1e8a1b5e2c2c45c99afa9e501b1b9739",
            "placeholder": "​",
            "style": "IPY_MODEL_f82d3d533b134d5796d040ee9533c901",
            "value": " 4236/4236 [00:00&lt;00:00, 6090.37it/s]"
          }
        },
        "8acb7734d1534af69024bc137b6d41e1": {
          "model_module": "@jupyter-widgets/base",
          "model_module_version": "1.2.0",
          "model_name": "LayoutModel",
          "state": {
            "_model_module": "@jupyter-widgets/base",
            "_model_module_version": "1.2.0",
            "_model_name": "LayoutModel",
            "_view_count": null,
            "_view_module": "@jupyter-widgets/base",
            "_view_module_version": "1.2.0",
            "_view_name": "LayoutView",
            "align_content": null,
            "align_items": null,
            "align_self": null,
            "border": null,
            "bottom": null,
            "display": null,
            "flex": null,
            "flex_flow": null,
            "grid_area": null,
            "grid_auto_columns": null,
            "grid_auto_flow": null,
            "grid_auto_rows": null,
            "grid_column": null,
            "grid_gap": null,
            "grid_row": null,
            "grid_template_areas": null,
            "grid_template_columns": null,
            "grid_template_rows": null,
            "height": null,
            "justify_content": null,
            "justify_items": null,
            "left": null,
            "margin": null,
            "max_height": null,
            "max_width": null,
            "min_height": null,
            "min_width": null,
            "object_fit": null,
            "object_position": null,
            "order": null,
            "overflow": null,
            "overflow_x": null,
            "overflow_y": null,
            "padding": null,
            "right": null,
            "top": null,
            "visibility": null,
            "width": null
          }
        },
        "8d23f69cc2ac4b7fb9b1681c6f44a5a7": {
          "model_module": "@jupyter-widgets/base",
          "model_module_version": "1.2.0",
          "model_name": "LayoutModel",
          "state": {
            "_model_module": "@jupyter-widgets/base",
            "_model_module_version": "1.2.0",
            "_model_name": "LayoutModel",
            "_view_count": null,
            "_view_module": "@jupyter-widgets/base",
            "_view_module_version": "1.2.0",
            "_view_name": "LayoutView",
            "align_content": null,
            "align_items": null,
            "align_self": null,
            "border": null,
            "bottom": null,
            "display": null,
            "flex": null,
            "flex_flow": null,
            "grid_area": null,
            "grid_auto_columns": null,
            "grid_auto_flow": null,
            "grid_auto_rows": null,
            "grid_column": null,
            "grid_gap": null,
            "grid_row": null,
            "grid_template_areas": null,
            "grid_template_columns": null,
            "grid_template_rows": null,
            "height": null,
            "justify_content": null,
            "justify_items": null,
            "left": null,
            "margin": null,
            "max_height": null,
            "max_width": null,
            "min_height": null,
            "min_width": null,
            "object_fit": null,
            "object_position": null,
            "order": null,
            "overflow": null,
            "overflow_x": null,
            "overflow_y": null,
            "padding": null,
            "right": null,
            "top": null,
            "visibility": null,
            "width": null
          }
        },
        "910f38892e7f427fad61f1d529ccfd47": {
          "model_module": "@jupyter-widgets/controls",
          "model_module_version": "1.5.0",
          "model_name": "DescriptionStyleModel",
          "state": {
            "_model_module": "@jupyter-widgets/controls",
            "_model_module_version": "1.5.0",
            "_model_name": "DescriptionStyleModel",
            "_view_count": null,
            "_view_module": "@jupyter-widgets/base",
            "_view_module_version": "1.2.0",
            "_view_name": "StyleView",
            "description_width": ""
          }
        },
        "91588602dd5b46ad934f0bff5f02b5aa": {
          "model_module": "@jupyter-widgets/controls",
          "model_module_version": "1.5.0",
          "model_name": "HTMLModel",
          "state": {
            "_dom_classes": [],
            "_model_module": "@jupyter-widgets/controls",
            "_model_module_version": "1.5.0",
            "_model_name": "HTMLModel",
            "_view_count": null,
            "_view_module": "@jupyter-widgets/controls",
            "_view_module_version": "1.5.0",
            "_view_name": "HTMLView",
            "description": "",
            "description_tooltip": null,
            "layout": "IPY_MODEL_cab8cad66d3941a28495cc55012d5f21",
            "placeholder": "​",
            "style": "IPY_MODEL_74d3de55d53e415d857485d396c904ff",
            "value": "100%"
          }
        },
        "9227dd76e4f54ff289ef9571077d5911": {
          "model_module": "@jupyter-widgets/base",
          "model_module_version": "1.2.0",
          "model_name": "LayoutModel",
          "state": {
            "_model_module": "@jupyter-widgets/base",
            "_model_module_version": "1.2.0",
            "_model_name": "LayoutModel",
            "_view_count": null,
            "_view_module": "@jupyter-widgets/base",
            "_view_module_version": "1.2.0",
            "_view_name": "LayoutView",
            "align_content": null,
            "align_items": null,
            "align_self": null,
            "border": null,
            "bottom": null,
            "display": null,
            "flex": null,
            "flex_flow": null,
            "grid_area": null,
            "grid_auto_columns": null,
            "grid_auto_flow": null,
            "grid_auto_rows": null,
            "grid_column": null,
            "grid_gap": null,
            "grid_row": null,
            "grid_template_areas": null,
            "grid_template_columns": null,
            "grid_template_rows": null,
            "height": null,
            "justify_content": null,
            "justify_items": null,
            "left": null,
            "margin": null,
            "max_height": null,
            "max_width": null,
            "min_height": null,
            "min_width": null,
            "object_fit": null,
            "object_position": null,
            "order": null,
            "overflow": null,
            "overflow_x": null,
            "overflow_y": null,
            "padding": null,
            "right": null,
            "top": null,
            "visibility": null,
            "width": null
          }
        },
        "9c5224c0cca3413e98aa05fb4f87b6f8": {
          "model_module": "@jupyter-widgets/controls",
          "model_module_version": "1.5.0",
          "model_name": "HBoxModel",
          "state": {
            "_dom_classes": [],
            "_model_module": "@jupyter-widgets/controls",
            "_model_module_version": "1.5.0",
            "_model_name": "HBoxModel",
            "_view_count": null,
            "_view_module": "@jupyter-widgets/controls",
            "_view_module_version": "1.5.0",
            "_view_name": "HBoxView",
            "box_style": "",
            "children": [
              "IPY_MODEL_ea4637deefe94450a61e6adcc1b93c3d",
              "IPY_MODEL_2dd51d6a2deb475bbcbd3116b957e473",
              "IPY_MODEL_ddbed687cdd24352986f48af4eba3f44"
            ],
            "layout": "IPY_MODEL_37494ed2036b4c5bbce08198395037f4"
          }
        },
        "9d8586b037a04ebf8a4391c9376ce856": {
          "model_module": "@jupyter-widgets/base",
          "model_module_version": "1.2.0",
          "model_name": "LayoutModel",
          "state": {
            "_model_module": "@jupyter-widgets/base",
            "_model_module_version": "1.2.0",
            "_model_name": "LayoutModel",
            "_view_count": null,
            "_view_module": "@jupyter-widgets/base",
            "_view_module_version": "1.2.0",
            "_view_name": "LayoutView",
            "align_content": null,
            "align_items": null,
            "align_self": null,
            "border": null,
            "bottom": null,
            "display": null,
            "flex": null,
            "flex_flow": null,
            "grid_area": null,
            "grid_auto_columns": null,
            "grid_auto_flow": null,
            "grid_auto_rows": null,
            "grid_column": null,
            "grid_gap": null,
            "grid_row": null,
            "grid_template_areas": null,
            "grid_template_columns": null,
            "grid_template_rows": null,
            "height": null,
            "justify_content": null,
            "justify_items": null,
            "left": null,
            "margin": null,
            "max_height": null,
            "max_width": null,
            "min_height": null,
            "min_width": null,
            "object_fit": null,
            "object_position": null,
            "order": null,
            "overflow": null,
            "overflow_x": null,
            "overflow_y": null,
            "padding": null,
            "right": null,
            "top": null,
            "visibility": null,
            "width": null
          }
        },
        "9ee41f5dbe9a40ac861426f50a6b3176": {
          "model_module": "@jupyter-widgets/controls",
          "model_module_version": "1.5.0",
          "model_name": "DescriptionStyleModel",
          "state": {
            "_model_module": "@jupyter-widgets/controls",
            "_model_module_version": "1.5.0",
            "_model_name": "DescriptionStyleModel",
            "_view_count": null,
            "_view_module": "@jupyter-widgets/base",
            "_view_module_version": "1.2.0",
            "_view_name": "StyleView",
            "description_width": ""
          }
        },
        "a391aa5464dd4944839acb1a874f3a02": {
          "model_module": "@jupyter-widgets/controls",
          "model_module_version": "1.5.0",
          "model_name": "HTMLModel",
          "state": {
            "_dom_classes": [],
            "_model_module": "@jupyter-widgets/controls",
            "_model_module_version": "1.5.0",
            "_model_name": "HTMLModel",
            "_view_count": null,
            "_view_module": "@jupyter-widgets/controls",
            "_view_module_version": "1.5.0",
            "_view_name": "HTMLView",
            "description": "",
            "description_tooltip": null,
            "layout": "IPY_MODEL_d87ebca7a3d0452a8f73c8cb53a08e30",
            "placeholder": "​",
            "style": "IPY_MODEL_12a5f13fdbf7459f902f7d3b6c4db2f9",
            "value": "100%"
          }
        },
        "a4bf4fb520214dd98f20c0243d7530ae": {
          "model_module": "@jupyter-widgets/base",
          "model_module_version": "1.2.0",
          "model_name": "LayoutModel",
          "state": {
            "_model_module": "@jupyter-widgets/base",
            "_model_module_version": "1.2.0",
            "_model_name": "LayoutModel",
            "_view_count": null,
            "_view_module": "@jupyter-widgets/base",
            "_view_module_version": "1.2.0",
            "_view_name": "LayoutView",
            "align_content": null,
            "align_items": null,
            "align_self": null,
            "border": null,
            "bottom": null,
            "display": null,
            "flex": null,
            "flex_flow": null,
            "grid_area": null,
            "grid_auto_columns": null,
            "grid_auto_flow": null,
            "grid_auto_rows": null,
            "grid_column": null,
            "grid_gap": null,
            "grid_row": null,
            "grid_template_areas": null,
            "grid_template_columns": null,
            "grid_template_rows": null,
            "height": null,
            "justify_content": null,
            "justify_items": null,
            "left": null,
            "margin": null,
            "max_height": null,
            "max_width": null,
            "min_height": null,
            "min_width": null,
            "object_fit": null,
            "object_position": null,
            "order": null,
            "overflow": null,
            "overflow_x": null,
            "overflow_y": null,
            "padding": null,
            "right": null,
            "top": null,
            "visibility": null,
            "width": null
          }
        },
        "ab5a8e626a4548b3ad8ad430209afd7f": {
          "model_module": "@jupyter-widgets/controls",
          "model_module_version": "1.5.0",
          "model_name": "HTMLModel",
          "state": {
            "_dom_classes": [],
            "_model_module": "@jupyter-widgets/controls",
            "_model_module_version": "1.5.0",
            "_model_name": "HTMLModel",
            "_view_count": null,
            "_view_module": "@jupyter-widgets/controls",
            "_view_module_version": "1.5.0",
            "_view_name": "HTMLView",
            "description": "",
            "description_tooltip": null,
            "layout": "IPY_MODEL_c49d903667fb46f9b174f0856791008a",
            "placeholder": "​",
            "style": "IPY_MODEL_910f38892e7f427fad61f1d529ccfd47",
            "value": "100%"
          }
        },
        "b5b2a63a378a4ea6af9c1a97fb9eed31": {
          "model_module": "@jupyter-widgets/controls",
          "model_module_version": "1.5.0",
          "model_name": "HBoxModel",
          "state": {
            "_dom_classes": [],
            "_model_module": "@jupyter-widgets/controls",
            "_model_module_version": "1.5.0",
            "_model_name": "HBoxModel",
            "_view_count": null,
            "_view_module": "@jupyter-widgets/controls",
            "_view_module_version": "1.5.0",
            "_view_name": "HBoxView",
            "box_style": "",
            "children": [
              "IPY_MODEL_ab5a8e626a4548b3ad8ad430209afd7f",
              "IPY_MODEL_2e826cbeed66405fb83d67f6694295e4",
              "IPY_MODEL_e23f3cc0ba6a4870bb5174ac0801ba0f"
            ],
            "layout": "IPY_MODEL_0c5d040aea284d899f6f7f7e73dd398a"
          }
        },
        "b6e2b5daa8bb4b1bb70b14a99bbed739": {
          "model_module": "@jupyter-widgets/controls",
          "model_module_version": "1.5.0",
          "model_name": "DescriptionStyleModel",
          "state": {
            "_model_module": "@jupyter-widgets/controls",
            "_model_module_version": "1.5.0",
            "_model_name": "DescriptionStyleModel",
            "_view_count": null,
            "_view_module": "@jupyter-widgets/base",
            "_view_module_version": "1.2.0",
            "_view_name": "StyleView",
            "description_width": ""
          }
        },
        "be39789b420d41a29c65927def75c83b": {
          "model_module": "@jupyter-widgets/controls",
          "model_module_version": "1.5.0",
          "model_name": "HBoxModel",
          "state": {
            "_dom_classes": [],
            "_model_module": "@jupyter-widgets/controls",
            "_model_module_version": "1.5.0",
            "_model_name": "HBoxModel",
            "_view_count": null,
            "_view_module": "@jupyter-widgets/controls",
            "_view_module_version": "1.5.0",
            "_view_name": "HBoxView",
            "box_style": "",
            "children": [
              "IPY_MODEL_017cd10ce855433c85188054fb445020",
              "IPY_MODEL_1fb84e99008c4f2b80d4c7d485e7aa74",
              "IPY_MODEL_8aa3b6a6b9fe495bb20491563b432842"
            ],
            "layout": "IPY_MODEL_2015615be4cd4f3da932c00c6a7fe7ca"
          }
        },
        "c0f8c96cda3e47f5b2ed5e1e4b4a1365": {
          "model_module": "@jupyter-widgets/controls",
          "model_module_version": "1.5.0",
          "model_name": "HTMLModel",
          "state": {
            "_dom_classes": [],
            "_model_module": "@jupyter-widgets/controls",
            "_model_module_version": "1.5.0",
            "_model_name": "HTMLModel",
            "_view_count": null,
            "_view_module": "@jupyter-widgets/controls",
            "_view_module_version": "1.5.0",
            "_view_name": "HTMLView",
            "description": "",
            "description_tooltip": null,
            "layout": "IPY_MODEL_569e5688dfe3420fa0386a34e7f389ed",
            "placeholder": "​",
            "style": "IPY_MODEL_f97337d38c514abfbe78906b74d8d977",
            "value": " 10/10 [00:00&lt;00:00, 14.37it/s]"
          }
        },
        "c1440af958b04d5e9a7b3c7929c7da19": {
          "model_module": "@jupyter-widgets/base",
          "model_module_version": "1.2.0",
          "model_name": "LayoutModel",
          "state": {
            "_model_module": "@jupyter-widgets/base",
            "_model_module_version": "1.2.0",
            "_model_name": "LayoutModel",
            "_view_count": null,
            "_view_module": "@jupyter-widgets/base",
            "_view_module_version": "1.2.0",
            "_view_name": "LayoutView",
            "align_content": null,
            "align_items": null,
            "align_self": null,
            "border": null,
            "bottom": null,
            "display": null,
            "flex": null,
            "flex_flow": null,
            "grid_area": null,
            "grid_auto_columns": null,
            "grid_auto_flow": null,
            "grid_auto_rows": null,
            "grid_column": null,
            "grid_gap": null,
            "grid_row": null,
            "grid_template_areas": null,
            "grid_template_columns": null,
            "grid_template_rows": null,
            "height": null,
            "justify_content": null,
            "justify_items": null,
            "left": null,
            "margin": null,
            "max_height": null,
            "max_width": null,
            "min_height": null,
            "min_width": null,
            "object_fit": null,
            "object_position": null,
            "order": null,
            "overflow": null,
            "overflow_x": null,
            "overflow_y": null,
            "padding": null,
            "right": null,
            "top": null,
            "visibility": null,
            "width": null
          }
        },
        "c49d903667fb46f9b174f0856791008a": {
          "model_module": "@jupyter-widgets/base",
          "model_module_version": "1.2.0",
          "model_name": "LayoutModel",
          "state": {
            "_model_module": "@jupyter-widgets/base",
            "_model_module_version": "1.2.0",
            "_model_name": "LayoutModel",
            "_view_count": null,
            "_view_module": "@jupyter-widgets/base",
            "_view_module_version": "1.2.0",
            "_view_name": "LayoutView",
            "align_content": null,
            "align_items": null,
            "align_self": null,
            "border": null,
            "bottom": null,
            "display": null,
            "flex": null,
            "flex_flow": null,
            "grid_area": null,
            "grid_auto_columns": null,
            "grid_auto_flow": null,
            "grid_auto_rows": null,
            "grid_column": null,
            "grid_gap": null,
            "grid_row": null,
            "grid_template_areas": null,
            "grid_template_columns": null,
            "grid_template_rows": null,
            "height": null,
            "justify_content": null,
            "justify_items": null,
            "left": null,
            "margin": null,
            "max_height": null,
            "max_width": null,
            "min_height": null,
            "min_width": null,
            "object_fit": null,
            "object_position": null,
            "order": null,
            "overflow": null,
            "overflow_x": null,
            "overflow_y": null,
            "padding": null,
            "right": null,
            "top": null,
            "visibility": null,
            "width": null
          }
        },
        "c9ad40257c564ba5b5a2279721cbe041": {
          "model_module": "@jupyter-widgets/base",
          "model_module_version": "1.2.0",
          "model_name": "LayoutModel",
          "state": {
            "_model_module": "@jupyter-widgets/base",
            "_model_module_version": "1.2.0",
            "_model_name": "LayoutModel",
            "_view_count": null,
            "_view_module": "@jupyter-widgets/base",
            "_view_module_version": "1.2.0",
            "_view_name": "LayoutView",
            "align_content": null,
            "align_items": null,
            "align_self": null,
            "border": null,
            "bottom": null,
            "display": null,
            "flex": null,
            "flex_flow": null,
            "grid_area": null,
            "grid_auto_columns": null,
            "grid_auto_flow": null,
            "grid_auto_rows": null,
            "grid_column": null,
            "grid_gap": null,
            "grid_row": null,
            "grid_template_areas": null,
            "grid_template_columns": null,
            "grid_template_rows": null,
            "height": null,
            "justify_content": null,
            "justify_items": null,
            "left": null,
            "margin": null,
            "max_height": null,
            "max_width": null,
            "min_height": null,
            "min_width": null,
            "object_fit": null,
            "object_position": null,
            "order": null,
            "overflow": null,
            "overflow_x": null,
            "overflow_y": null,
            "padding": null,
            "right": null,
            "top": null,
            "visibility": null,
            "width": null
          }
        },
        "cab8cad66d3941a28495cc55012d5f21": {
          "model_module": "@jupyter-widgets/base",
          "model_module_version": "1.2.0",
          "model_name": "LayoutModel",
          "state": {
            "_model_module": "@jupyter-widgets/base",
            "_model_module_version": "1.2.0",
            "_model_name": "LayoutModel",
            "_view_count": null,
            "_view_module": "@jupyter-widgets/base",
            "_view_module_version": "1.2.0",
            "_view_name": "LayoutView",
            "align_content": null,
            "align_items": null,
            "align_self": null,
            "border": null,
            "bottom": null,
            "display": null,
            "flex": null,
            "flex_flow": null,
            "grid_area": null,
            "grid_auto_columns": null,
            "grid_auto_flow": null,
            "grid_auto_rows": null,
            "grid_column": null,
            "grid_gap": null,
            "grid_row": null,
            "grid_template_areas": null,
            "grid_template_columns": null,
            "grid_template_rows": null,
            "height": null,
            "justify_content": null,
            "justify_items": null,
            "left": null,
            "margin": null,
            "max_height": null,
            "max_width": null,
            "min_height": null,
            "min_width": null,
            "object_fit": null,
            "object_position": null,
            "order": null,
            "overflow": null,
            "overflow_x": null,
            "overflow_y": null,
            "padding": null,
            "right": null,
            "top": null,
            "visibility": null,
            "width": null
          }
        },
        "cd8d5ff63038446baeb245bc8cb167d7": {
          "model_module": "@jupyter-widgets/base",
          "model_module_version": "1.2.0",
          "model_name": "LayoutModel",
          "state": {
            "_model_module": "@jupyter-widgets/base",
            "_model_module_version": "1.2.0",
            "_model_name": "LayoutModel",
            "_view_count": null,
            "_view_module": "@jupyter-widgets/base",
            "_view_module_version": "1.2.0",
            "_view_name": "LayoutView",
            "align_content": null,
            "align_items": null,
            "align_self": null,
            "border": null,
            "bottom": null,
            "display": null,
            "flex": null,
            "flex_flow": null,
            "grid_area": null,
            "grid_auto_columns": null,
            "grid_auto_flow": null,
            "grid_auto_rows": null,
            "grid_column": null,
            "grid_gap": null,
            "grid_row": null,
            "grid_template_areas": null,
            "grid_template_columns": null,
            "grid_template_rows": null,
            "height": null,
            "justify_content": null,
            "justify_items": null,
            "left": null,
            "margin": null,
            "max_height": null,
            "max_width": null,
            "min_height": null,
            "min_width": null,
            "object_fit": null,
            "object_position": null,
            "order": null,
            "overflow": null,
            "overflow_x": null,
            "overflow_y": null,
            "padding": null,
            "right": null,
            "top": null,
            "visibility": null,
            "width": null
          }
        },
        "cf177339046244cfaf0683a7e8cf9810": {
          "model_module": "@jupyter-widgets/controls",
          "model_module_version": "1.5.0",
          "model_name": "ButtonModel",
          "state": {
            "_dom_classes": [],
            "_model_module": "@jupyter-widgets/controls",
            "_model_module_version": "1.5.0",
            "_model_name": "ButtonModel",
            "_view_count": null,
            "_view_module": "@jupyter-widgets/controls",
            "_view_module_version": "1.5.0",
            "_view_name": "ButtonView",
            "button_style": "",
            "description": "next page",
            "disabled": false,
            "icon": "",
            "layout": "IPY_MODEL_8d23f69cc2ac4b7fb9b1681c6f44a5a7",
            "style": "IPY_MODEL_88df26626b8c47d09f4a343d7428c5f1",
            "tooltip": ""
          }
        },
        "cf8c73cbf02a487cb79bcfa7b3a3d5a9": {
          "model_module": "@jupyter-widgets/controls",
          "model_module_version": "1.5.0",
          "model_name": "ProgressStyleModel",
          "state": {
            "_model_module": "@jupyter-widgets/controls",
            "_model_module_version": "1.5.0",
            "_model_name": "ProgressStyleModel",
            "_view_count": null,
            "_view_module": "@jupyter-widgets/base",
            "_view_module_version": "1.2.0",
            "_view_name": "StyleView",
            "bar_color": null,
            "description_width": ""
          }
        },
        "d84d790f970440a58f304175680f1685": {
          "model_module": "@jupyter-widgets/controls",
          "model_module_version": "1.5.0",
          "model_name": "DescriptionStyleModel",
          "state": {
            "_model_module": "@jupyter-widgets/controls",
            "_model_module_version": "1.5.0",
            "_model_name": "DescriptionStyleModel",
            "_view_count": null,
            "_view_module": "@jupyter-widgets/base",
            "_view_module_version": "1.2.0",
            "_view_name": "StyleView",
            "description_width": ""
          }
        },
        "d87ebca7a3d0452a8f73c8cb53a08e30": {
          "model_module": "@jupyter-widgets/base",
          "model_module_version": "1.2.0",
          "model_name": "LayoutModel",
          "state": {
            "_model_module": "@jupyter-widgets/base",
            "_model_module_version": "1.2.0",
            "_model_name": "LayoutModel",
            "_view_count": null,
            "_view_module": "@jupyter-widgets/base",
            "_view_module_version": "1.2.0",
            "_view_name": "LayoutView",
            "align_content": null,
            "align_items": null,
            "align_self": null,
            "border": null,
            "bottom": null,
            "display": null,
            "flex": null,
            "flex_flow": null,
            "grid_area": null,
            "grid_auto_columns": null,
            "grid_auto_flow": null,
            "grid_auto_rows": null,
            "grid_column": null,
            "grid_gap": null,
            "grid_row": null,
            "grid_template_areas": null,
            "grid_template_columns": null,
            "grid_template_rows": null,
            "height": null,
            "justify_content": null,
            "justify_items": null,
            "left": null,
            "margin": null,
            "max_height": null,
            "max_width": null,
            "min_height": null,
            "min_width": null,
            "object_fit": null,
            "object_position": null,
            "order": null,
            "overflow": null,
            "overflow_x": null,
            "overflow_y": null,
            "padding": null,
            "right": null,
            "top": null,
            "visibility": null,
            "width": null
          }
        },
        "ddbed687cdd24352986f48af4eba3f44": {
          "model_module": "@jupyter-widgets/controls",
          "model_module_version": "1.5.0",
          "model_name": "HTMLModel",
          "state": {
            "_dom_classes": [],
            "_model_module": "@jupyter-widgets/controls",
            "_model_module_version": "1.5.0",
            "_model_name": "HTMLModel",
            "_view_count": null,
            "_view_module": "@jupyter-widgets/controls",
            "_view_module_version": "1.5.0",
            "_view_name": "HTMLView",
            "description": "",
            "description_tooltip": null,
            "layout": "IPY_MODEL_447bd098e917458f9df21424e35cfb9e",
            "placeholder": "​",
            "style": "IPY_MODEL_6b8797be14c246f190bb781389ef5df0",
            "value": " 4236/4236 [00:02&lt;00:00, 1645.95it/s]"
          }
        },
        "e18c179c74f643bea2a835fe656186e1": {
          "model_module": "@jupyter-widgets/controls",
          "model_module_version": "1.5.0",
          "model_name": "ProgressStyleModel",
          "state": {
            "_model_module": "@jupyter-widgets/controls",
            "_model_module_version": "1.5.0",
            "_model_name": "ProgressStyleModel",
            "_view_count": null,
            "_view_module": "@jupyter-widgets/base",
            "_view_module_version": "1.2.0",
            "_view_name": "StyleView",
            "bar_color": null,
            "description_width": ""
          }
        },
        "e23f3cc0ba6a4870bb5174ac0801ba0f": {
          "model_module": "@jupyter-widgets/controls",
          "model_module_version": "1.5.0",
          "model_name": "HTMLModel",
          "state": {
            "_dom_classes": [],
            "_model_module": "@jupyter-widgets/controls",
            "_model_module_version": "1.5.0",
            "_model_name": "HTMLModel",
            "_view_count": null,
            "_view_module": "@jupyter-widgets/controls",
            "_view_module_version": "1.5.0",
            "_view_name": "HTMLView",
            "description": "",
            "description_tooltip": null,
            "layout": "IPY_MODEL_edb9074d4e71455dad80820e490f5a67",
            "placeholder": "​",
            "style": "IPY_MODEL_4befd8dde537466b8b7afbbdd252b224",
            "value": " 4236/4236 [00:04&lt;00:00, 1087.68it/s]"
          }
        },
        "e48c00fa97d640cbb7536262104eb9be": {
          "model_module": "@jupyter-widgets/controls",
          "model_module_version": "1.5.0",
          "model_name": "HBoxModel",
          "state": {
            "_dom_classes": [],
            "_model_module": "@jupyter-widgets/controls",
            "_model_module_version": "1.5.0",
            "_model_name": "HBoxModel",
            "_view_count": null,
            "_view_module": "@jupyter-widgets/controls",
            "_view_module_version": "1.5.0",
            "_view_name": "HBoxView",
            "box_style": "",
            "children": [
              "IPY_MODEL_6483c1aa2c7040f1a4c6c8893dc7298c",
              "IPY_MODEL_06e5a66adfd34a978107c5a67599be58",
              "IPY_MODEL_cf177339046244cfaf0683a7e8cf9810"
            ],
            "layout": "IPY_MODEL_a0e942ffbedd46ddbaf34caadbac656a"
          }
        },
        "e7f8ef06a53f48358329158661be035d": {
          "model_module": "@jupyter-widgets/base",
          "model_module_version": "1.2.0",
          "model_name": "LayoutModel",
          "state": {
            "_model_module": "@jupyter-widgets/base",
            "_model_module_version": "1.2.0",
            "_model_name": "LayoutModel",
            "_view_count": null,
            "_view_module": "@jupyter-widgets/base",
            "_view_module_version": "1.2.0",
            "_view_name": "LayoutView",
            "align_content": null,
            "align_items": null,
            "align_self": null,
            "border": null,
            "bottom": null,
            "display": null,
            "flex": null,
            "flex_flow": null,
            "grid_area": null,
            "grid_auto_columns": null,
            "grid_auto_flow": null,
            "grid_auto_rows": null,
            "grid_column": null,
            "grid_gap": null,
            "grid_row": null,
            "grid_template_areas": null,
            "grid_template_columns": null,
            "grid_template_rows": null,
            "height": null,
            "justify_content": null,
            "justify_items": null,
            "left": null,
            "margin": null,
            "max_height": null,
            "max_width": null,
            "min_height": null,
            "min_width": null,
            "object_fit": null,
            "object_position": null,
            "order": null,
            "overflow": null,
            "overflow_x": null,
            "overflow_y": null,
            "padding": null,
            "right": null,
            "top": null,
            "visibility": null,
            "width": null
          }
        },
        "ea4637deefe94450a61e6adcc1b93c3d": {
          "model_module": "@jupyter-widgets/controls",
          "model_module_version": "1.5.0",
          "model_name": "HTMLModel",
          "state": {
            "_dom_classes": [],
            "_model_module": "@jupyter-widgets/controls",
            "_model_module_version": "1.5.0",
            "_model_name": "HTMLModel",
            "_view_count": null,
            "_view_module": "@jupyter-widgets/controls",
            "_view_module_version": "1.5.0",
            "_view_name": "HTMLView",
            "description": "",
            "description_tooltip": null,
            "layout": "IPY_MODEL_c1440af958b04d5e9a7b3c7929c7da19",
            "placeholder": "​",
            "style": "IPY_MODEL_d84d790f970440a58f304175680f1685",
            "value": "100%"
          }
        },
        "eb510e324c8f47138bbe41f8fe87aba9": {
          "model_module": "@jupyter-widgets/base",
          "model_module_version": "1.2.0",
          "model_name": "LayoutModel",
          "state": {
            "_model_module": "@jupyter-widgets/base",
            "_model_module_version": "1.2.0",
            "_model_name": "LayoutModel",
            "_view_count": null,
            "_view_module": "@jupyter-widgets/base",
            "_view_module_version": "1.2.0",
            "_view_name": "LayoutView",
            "align_content": null,
            "align_items": null,
            "align_self": null,
            "border": null,
            "bottom": null,
            "display": null,
            "flex": null,
            "flex_flow": null,
            "grid_area": null,
            "grid_auto_columns": null,
            "grid_auto_flow": null,
            "grid_auto_rows": null,
            "grid_column": null,
            "grid_gap": null,
            "grid_row": null,
            "grid_template_areas": null,
            "grid_template_columns": null,
            "grid_template_rows": null,
            "height": null,
            "justify_content": null,
            "justify_items": null,
            "left": null,
            "margin": null,
            "max_height": null,
            "max_width": null,
            "min_height": null,
            "min_width": null,
            "object_fit": null,
            "object_position": null,
            "order": null,
            "overflow": null,
            "overflow_x": null,
            "overflow_y": null,
            "padding": null,
            "right": null,
            "top": null,
            "visibility": null,
            "width": null
          }
        },
        "edb9074d4e71455dad80820e490f5a67": {
          "model_module": "@jupyter-widgets/base",
          "model_module_version": "1.2.0",
          "model_name": "LayoutModel",
          "state": {
            "_model_module": "@jupyter-widgets/base",
            "_model_module_version": "1.2.0",
            "_model_name": "LayoutModel",
            "_view_count": null,
            "_view_module": "@jupyter-widgets/base",
            "_view_module_version": "1.2.0",
            "_view_name": "LayoutView",
            "align_content": null,
            "align_items": null,
            "align_self": null,
            "border": null,
            "bottom": null,
            "display": null,
            "flex": null,
            "flex_flow": null,
            "grid_area": null,
            "grid_auto_columns": null,
            "grid_auto_flow": null,
            "grid_auto_rows": null,
            "grid_column": null,
            "grid_gap": null,
            "grid_row": null,
            "grid_template_areas": null,
            "grid_template_columns": null,
            "grid_template_rows": null,
            "height": null,
            "justify_content": null,
            "justify_items": null,
            "left": null,
            "margin": null,
            "max_height": null,
            "max_width": null,
            "min_height": null,
            "min_width": null,
            "object_fit": null,
            "object_position": null,
            "order": null,
            "overflow": null,
            "overflow_x": null,
            "overflow_y": null,
            "padding": null,
            "right": null,
            "top": null,
            "visibility": null,
            "width": null
          }
        },
        "ee84d1474db54a07ab656b7cb8c43977": {
          "model_module": "@jupyter-widgets/controls",
          "model_module_version": "1.5.0",
          "model_name": "HTMLModel",
          "state": {
            "_dom_classes": [],
            "_model_module": "@jupyter-widgets/controls",
            "_model_module_version": "1.5.0",
            "_model_name": "HTMLModel",
            "_view_count": null,
            "_view_module": "@jupyter-widgets/controls",
            "_view_module_version": "1.5.0",
            "_view_name": "HTMLView",
            "description": "",
            "description_tooltip": null,
            "layout": "IPY_MODEL_9227dd76e4f54ff289ef9571077d5911",
            "placeholder": "​",
            "style": "IPY_MODEL_f3899d228bd7425294e765f88a49419e",
            "value": " 10/10 [00:01&lt;00:00,  9.20it/s]"
          }
        },
        "eff2d3f00792457e913f4530dd4e3a8a": {
          "model_module": "@jupyter-widgets/controls",
          "model_module_version": "1.5.0",
          "model_name": "ButtonStyleModel",
          "state": {
            "_model_module": "@jupyter-widgets/controls",
            "_model_module_version": "1.5.0",
            "_model_name": "ButtonStyleModel",
            "_view_count": null,
            "_view_module": "@jupyter-widgets/base",
            "_view_module_version": "1.2.0",
            "_view_name": "StyleView",
            "button_color": null,
            "font_weight": ""
          }
        },
        "f14b9234a5ca45b884b3dbadca05bfb6": {
          "model_module": "@jupyter-widgets/controls",
          "model_module_version": "1.5.0",
          "model_name": "DescriptionStyleModel",
          "state": {
            "_model_module": "@jupyter-widgets/controls",
            "_model_module_version": "1.5.0",
            "_model_name": "DescriptionStyleModel",
            "_view_count": null,
            "_view_module": "@jupyter-widgets/base",
            "_view_module_version": "1.2.0",
            "_view_name": "StyleView",
            "description_width": ""
          }
        },
        "f2a6d0595c2a40d4855a86dcd550ca31": {
          "model_module": "@jupyter-widgets/base",
          "model_module_version": "1.2.0",
          "model_name": "LayoutModel",
          "state": {
            "_model_module": "@jupyter-widgets/base",
            "_model_module_version": "1.2.0",
            "_model_name": "LayoutModel",
            "_view_count": null,
            "_view_module": "@jupyter-widgets/base",
            "_view_module_version": "1.2.0",
            "_view_name": "LayoutView",
            "align_content": null,
            "align_items": null,
            "align_self": null,
            "border": null,
            "bottom": null,
            "display": null,
            "flex": null,
            "flex_flow": null,
            "grid_area": null,
            "grid_auto_columns": null,
            "grid_auto_flow": null,
            "grid_auto_rows": null,
            "grid_column": null,
            "grid_gap": null,
            "grid_row": null,
            "grid_template_areas": null,
            "grid_template_columns": null,
            "grid_template_rows": null,
            "height": null,
            "justify_content": null,
            "justify_items": null,
            "left": null,
            "margin": null,
            "max_height": null,
            "max_width": null,
            "min_height": null,
            "min_width": null,
            "object_fit": null,
            "object_position": null,
            "order": null,
            "overflow": null,
            "overflow_x": null,
            "overflow_y": null,
            "padding": null,
            "right": null,
            "top": null,
            "visibility": null,
            "width": null
          }
        },
        "f3899d228bd7425294e765f88a49419e": {
          "model_module": "@jupyter-widgets/controls",
          "model_module_version": "1.5.0",
          "model_name": "DescriptionStyleModel",
          "state": {
            "_model_module": "@jupyter-widgets/controls",
            "_model_module_version": "1.5.0",
            "_model_name": "DescriptionStyleModel",
            "_view_count": null,
            "_view_module": "@jupyter-widgets/base",
            "_view_module_version": "1.2.0",
            "_view_name": "StyleView",
            "description_width": ""
          }
        },
        "f4b6d88001584562aada4403ed21ac4b": {
          "model_module": "@jupyter-widgets/base",
          "model_module_version": "1.2.0",
          "model_name": "LayoutModel",
          "state": {
            "_model_module": "@jupyter-widgets/base",
            "_model_module_version": "1.2.0",
            "_model_name": "LayoutModel",
            "_view_count": null,
            "_view_module": "@jupyter-widgets/base",
            "_view_module_version": "1.2.0",
            "_view_name": "LayoutView",
            "align_content": null,
            "align_items": null,
            "align_self": null,
            "border": null,
            "bottom": null,
            "display": null,
            "flex": null,
            "flex_flow": null,
            "grid_area": null,
            "grid_auto_columns": null,
            "grid_auto_flow": null,
            "grid_auto_rows": null,
            "grid_column": null,
            "grid_gap": null,
            "grid_row": null,
            "grid_template_areas": null,
            "grid_template_columns": null,
            "grid_template_rows": null,
            "height": null,
            "justify_content": null,
            "justify_items": null,
            "left": null,
            "margin": null,
            "max_height": null,
            "max_width": null,
            "min_height": null,
            "min_width": null,
            "object_fit": null,
            "object_position": null,
            "order": null,
            "overflow": null,
            "overflow_x": null,
            "overflow_y": null,
            "padding": null,
            "right": null,
            "top": null,
            "visibility": null,
            "width": null
          }
        },
        "f643c97f20a9427eb32b6d13e462ddae": {
          "model_module": "@jupyter-widgets/base",
          "model_module_version": "1.2.0",
          "model_name": "LayoutModel",
          "state": {
            "_model_module": "@jupyter-widgets/base",
            "_model_module_version": "1.2.0",
            "_model_name": "LayoutModel",
            "_view_count": null,
            "_view_module": "@jupyter-widgets/base",
            "_view_module_version": "1.2.0",
            "_view_name": "LayoutView",
            "align_content": null,
            "align_items": null,
            "align_self": null,
            "border": null,
            "bottom": null,
            "display": null,
            "flex": null,
            "flex_flow": null,
            "grid_area": null,
            "grid_auto_columns": null,
            "grid_auto_flow": null,
            "grid_auto_rows": null,
            "grid_column": null,
            "grid_gap": null,
            "grid_row": null,
            "grid_template_areas": null,
            "grid_template_columns": null,
            "grid_template_rows": null,
            "height": null,
            "justify_content": null,
            "justify_items": null,
            "left": null,
            "margin": null,
            "max_height": null,
            "max_width": null,
            "min_height": null,
            "min_width": null,
            "object_fit": null,
            "object_position": null,
            "order": null,
            "overflow": null,
            "overflow_x": null,
            "overflow_y": null,
            "padding": null,
            "right": null,
            "top": null,
            "visibility": null,
            "width": null
          }
        },
        "f7f1e4eca91049cdbb1ab0b92e524567": {
          "model_module": "@jupyter-widgets/controls",
          "model_module_version": "1.5.0",
          "model_name": "HBoxModel",
          "state": {
            "_dom_classes": [],
            "_model_module": "@jupyter-widgets/controls",
            "_model_module_version": "1.5.0",
            "_model_name": "HBoxModel",
            "_view_count": null,
            "_view_module": "@jupyter-widgets/controls",
            "_view_module_version": "1.5.0",
            "_view_name": "HBoxView",
            "box_style": "",
            "children": [
              "IPY_MODEL_6483c1aa2c7040f1a4c6c8893dc7298c",
              "IPY_MODEL_06e5a66adfd34a978107c5a67599be58",
              "IPY_MODEL_cf177339046244cfaf0683a7e8cf9810"
            ],
            "layout": "IPY_MODEL_49b1f25b35e544b087fb05a6e6764d2a"
          }
        },
        "f82d3d533b134d5796d040ee9533c901": {
          "model_module": "@jupyter-widgets/controls",
          "model_module_version": "1.5.0",
          "model_name": "DescriptionStyleModel",
          "state": {
            "_model_module": "@jupyter-widgets/controls",
            "_model_module_version": "1.5.0",
            "_model_name": "DescriptionStyleModel",
            "_view_count": null,
            "_view_module": "@jupyter-widgets/base",
            "_view_module_version": "1.2.0",
            "_view_name": "StyleView",
            "description_width": ""
          }
        },
        "f8e9a45960bc43bba839cfa815f5de0e": {
          "model_module": "@jupyter-widgets/controls",
          "model_module_version": "1.5.0",
          "model_name": "DescriptionStyleModel",
          "state": {
            "_model_module": "@jupyter-widgets/controls",
            "_model_module_version": "1.5.0",
            "_model_name": "DescriptionStyleModel",
            "_view_count": null,
            "_view_module": "@jupyter-widgets/base",
            "_view_module_version": "1.2.0",
            "_view_name": "StyleView",
            "description_width": ""
          }
        },
        "f97337d38c514abfbe78906b74d8d977": {
          "model_module": "@jupyter-widgets/controls",
          "model_module_version": "1.5.0",
          "model_name": "DescriptionStyleModel",
          "state": {
            "_model_module": "@jupyter-widgets/controls",
            "_model_module_version": "1.5.0",
            "_model_name": "DescriptionStyleModel",
            "_view_count": null,
            "_view_module": "@jupyter-widgets/base",
            "_view_module_version": "1.2.0",
            "_view_name": "StyleView",
            "description_width": ""
          }
        },
        "fbda3daf08df411bb0763ca14f77ad17": {
          "model_module": "@jupyter-widgets/base",
          "model_module_version": "1.2.0",
          "model_name": "LayoutModel",
          "state": {
            "_model_module": "@jupyter-widgets/base",
            "_model_module_version": "1.2.0",
            "_model_name": "LayoutModel",
            "_view_count": null,
            "_view_module": "@jupyter-widgets/base",
            "_view_module_version": "1.2.0",
            "_view_name": "LayoutView",
            "align_content": null,
            "align_items": null,
            "align_self": null,
            "border": null,
            "bottom": null,
            "display": null,
            "flex": null,
            "flex_flow": null,
            "grid_area": null,
            "grid_auto_columns": null,
            "grid_auto_flow": null,
            "grid_auto_rows": null,
            "grid_column": null,
            "grid_gap": null,
            "grid_row": null,
            "grid_template_areas": null,
            "grid_template_columns": null,
            "grid_template_rows": null,
            "height": null,
            "justify_content": null,
            "justify_items": null,
            "left": null,
            "margin": null,
            "max_height": null,
            "max_width": null,
            "min_height": null,
            "min_width": null,
            "object_fit": null,
            "object_position": null,
            "order": null,
            "overflow": null,
            "overflow_x": null,
            "overflow_y": null,
            "padding": null,
            "right": null,
            "top": null,
            "visibility": null,
            "width": null
          }
        }
      }
    }
  },
  "nbformat": 4,
  "nbformat_minor": 5
}
