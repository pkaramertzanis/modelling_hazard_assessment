{
  "cells": [
    {
      "cell_type": "markdown",
      "source": [
        "Lab1: modelling introduction"
      ],
      "metadata": {
        "id": "KXq20w4JDgnE"
      },
      "id": "KXq20w4JDgnE"
    },
    {
      "cell_type": "code",
      "execution_count": 1,
      "id": "initial_id",
      "metadata": {
        "collapsed": true,
        "ExecuteTime": {
          "end_time": "2024-10-28T08:54:10.807752900Z",
          "start_time": "2024-10-28T08:54:10.705819Z"
        },
        "id": "initial_id"
      },
      "outputs": [],
      "source": [
        "# import libraries\n",
        "import numpy as np\n",
        "import pandas as pd"
      ]
    },
    {
      "cell_type": "code",
      "execution_count": 2,
      "outputs": [
        {
          "output_type": "stream",
          "name": "stdout",
          "text": [
            "hello world\n"
          ]
        }
      ],
      "source": [
        "print('hello world')"
      ],
      "metadata": {
        "ExecuteTime": {
          "end_time": "2024-10-28T08:53:31.410881800Z",
          "start_time": "2024-10-28T08:53:31.199110200Z"
        },
        "id": "37ff23cf0326397",
        "outputId": "16dab8cf-f2a0-4a72-cbe3-a23702d3e34b",
        "colab": {
          "base_uri": "https://localhost:8080/"
        }
      },
      "id": "37ff23cf0326397"
    },
    {
      "cell_type": "code",
      "execution_count": null,
      "outputs": [],
      "source": [],
      "metadata": {
        "id": "9b93849fd942748e"
      },
      "id": "9b93849fd942748e"
    }
  ],
  "metadata": {
    "kernelspec": {
      "display_name": "Python 3",
      "language": "python",
      "name": "python3"
    },
    "language_info": {
      "codemirror_mode": {
        "name": "ipython",
        "version": 2
      },
      "file_extension": ".py",
      "mimetype": "text/x-python",
      "name": "python",
      "nbconvert_exporter": "python",
      "pygments_lexer": "ipython2",
      "version": "2.7.6"
    },
    "colab": {
      "provenance": []
    }
  },
  "nbformat": 4,
  "nbformat_minor": 5
}