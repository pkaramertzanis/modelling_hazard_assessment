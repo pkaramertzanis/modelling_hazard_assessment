{
  "cells": [
    {
      "cell_type": "markdown",
      "source": [
        "# **Lab 1**\n",
        "### Modelling and computation in hazard assessment\n",
        "### 26-27 Februrary 2024\n",
        "\n",
        "\n",
        "In Lab 1, we introduce fundamental data analysis and modelling concepts that will be demostrated in the lectures of the Computation and Modelling in Hazard Assessment training.\n",
        "\n",
        "*   In the first section, we will set the environment and show basic operations\n",
        "\n",
        "*   Then we'll load a dataset with in vitro genotoxocity data and explore it by creating some illustrative visualisations\n",
        "\n",
        "*   Finally, we'll develop our first neural network model to model genotoxicity using a classification model"
      ],
      "metadata": {
        "id": "ED7Wsva1E2Cu"
      },
      "id": "ED7Wsva1E2Cu"
    },
    {
      "cell_type": "markdown",
      "source": [
        "Setup (run this block using the play button or Shift+Enter to install packages and download required data)"
      ],
      "metadata": {
        "id": "KXq20w4JDgnE"
      },
      "id": "KXq20w4JDgnE"
    },
    {
      "cell_type": "markdown",
      "source": [
        "## Setup the environment"
      ],
      "metadata": {
        "id": "jHCdF_x9Emh9"
      },
      "id": "jHCdF_x9Emh9"
    },
    {
      "cell_type": "code",
      "execution_count": 23,
      "id": "initial_id",
      "metadata": {
        "collapsed": true,
        "ExecuteTime": {
          "end_time": "2024-10-28T08:54:10.807752900Z",
          "start_time": "2024-10-28T08:54:10.705819Z"
        },
        "id": "initial_id"
      },
      "outputs": [],
      "source": [
        "# import libraries\n",
        "import numpy as np\n",
        "import pandas as pd\n",
        "import requests\n",
        "from pathlib import Path"
      ]
    },
    {
      "cell_type": "code",
      "source": [
        "# mount the google drive in case we wish to persist results\n",
        "from google.colab import drive\n",
        "drive.mount('/content/drive')"
      ],
      "metadata": {
        "colab": {
          "base_uri": "https://localhost:8080/"
        },
        "id": "ktgXmFrsIbHl",
        "outputId": "9759deac-9837-49d6-fb5d-79f38939ee88"
      },
      "id": "ktgXmFrsIbHl",
      "execution_count": 5,
      "outputs": [
        {
          "output_type": "stream",
          "name": "stdout",
          "text": [
            "Mounted at /content/drive\n"
          ]
        }
      ]
    },
    {
      "cell_type": "markdown",
      "source": [
        "## Basic operations"
      ],
      "metadata": {
        "id": "kGO-43ojHkeW"
      },
      "id": "kGO-43ojHkeW"
    },
    {
      "cell_type": "markdown",
      "source": [
        "## Load and explore the genotoxicity data"
      ],
      "metadata": {
        "id": "6J3Ohm5VHxtb"
      },
      "id": "6J3Ohm5VHxtb"
    },
    {
      "cell_type": "code",
      "source": [
        "# fetch the dataset from the github repository\n",
        "import requests\n",
        "from getpass import getpass\n",
        "\n",
        "# Provide your GitHub credentials\n",
        "token = getpass(\"Enter your GitHub token: \")\n",
        "\n",
        "# Set up the file URL\n",
        "file_url = \"https://raw.githubusercontent.com/pkaramertzanis/modelling_hazard_assessment/master/datasets/genotoxicity_dataset.xlsx\"  # Updated URL\n",
        "\n",
        "# Use the token for authentication\n",
        "headers = {'Authorization': f'token {token}'}\n",
        "response = requests.get(file_url, headers=headers)\n",
        "\n",
        "# Save the file locally\n",
        "if response.status_code == 200:\n",
        "    with open(Path(file_url).name, \"wb\") as file:\n",
        "        file.write(response.content)\n",
        "    print(\"File downloaded successfully!\")\n",
        "else:\n",
        "    print(f\"Failed to download file: {response.status_code}\")"
      ],
      "metadata": {
        "colab": {
          "base_uri": "https://localhost:8080/"
        },
        "id": "CmqDuNzaKY0n",
        "outputId": "8440865c-757f-495d-9ff6-a698002e47b8"
      },
      "id": "CmqDuNzaKY0n",
      "execution_count": 25,
      "outputs": [
        {
          "output_type": "stream",
          "name": "stdout",
          "text": [
            "Enter your GitHub token: ··········\n",
            "File downloaded successfully!\n"
          ]
        }
      ]
    },
    {
      "cell_type": "code",
      "execution_count": 26,
      "outputs": [
        {
          "output_type": "execute_result",
          "data": {
            "text/plain": [
              "   datapoint ID     smiles_std genotoxicity  \\\n",
              "0             0  B12B3B4B1C234     negative   \n",
              "1             1  B12B3B4B1C234     negative   \n",
              "2             2  B12B3B4B1C234     negative   \n",
              "3             3  B12B3B4B1C234     negative   \n",
              "4             4  B12B3B4B1C234     negative   \n",
              "\n",
              "                                endpoint  \n",
              "0    Salmonella typhimurium (TA 100), no  \n",
              "1   Salmonella typhimurium (TA 100), yes  \n",
              "2   Salmonella typhimurium (TA 1535), no  \n",
              "3  Salmonella typhimurium (TA 1535), yes  \n",
              "4   Salmonella typhimurium (TA 1537), no  "
            ],
            "text/html": [
              "\n",
              "  <div id=\"df-387cf3d8-5fb8-4014-99d8-65f439471558\" class=\"colab-df-container\">\n",
              "    <div>\n",
              "<style scoped>\n",
              "    .dataframe tbody tr th:only-of-type {\n",
              "        vertical-align: middle;\n",
              "    }\n",
              "\n",
              "    .dataframe tbody tr th {\n",
              "        vertical-align: top;\n",
              "    }\n",
              "\n",
              "    .dataframe thead th {\n",
              "        text-align: right;\n",
              "    }\n",
              "</style>\n",
              "<table border=\"1\" class=\"dataframe\">\n",
              "  <thead>\n",
              "    <tr style=\"text-align: right;\">\n",
              "      <th></th>\n",
              "      <th>datapoint ID</th>\n",
              "      <th>smiles_std</th>\n",
              "      <th>genotoxicity</th>\n",
              "      <th>endpoint</th>\n",
              "    </tr>\n",
              "  </thead>\n",
              "  <tbody>\n",
              "    <tr>\n",
              "      <th>0</th>\n",
              "      <td>0</td>\n",
              "      <td>B12B3B4B1C234</td>\n",
              "      <td>negative</td>\n",
              "      <td>Salmonella typhimurium (TA 100), no</td>\n",
              "    </tr>\n",
              "    <tr>\n",
              "      <th>1</th>\n",
              "      <td>1</td>\n",
              "      <td>B12B3B4B1C234</td>\n",
              "      <td>negative</td>\n",
              "      <td>Salmonella typhimurium (TA 100), yes</td>\n",
              "    </tr>\n",
              "    <tr>\n",
              "      <th>2</th>\n",
              "      <td>2</td>\n",
              "      <td>B12B3B4B1C234</td>\n",
              "      <td>negative</td>\n",
              "      <td>Salmonella typhimurium (TA 1535), no</td>\n",
              "    </tr>\n",
              "    <tr>\n",
              "      <th>3</th>\n",
              "      <td>3</td>\n",
              "      <td>B12B3B4B1C234</td>\n",
              "      <td>negative</td>\n",
              "      <td>Salmonella typhimurium (TA 1535), yes</td>\n",
              "    </tr>\n",
              "    <tr>\n",
              "      <th>4</th>\n",
              "      <td>4</td>\n",
              "      <td>B12B3B4B1C234</td>\n",
              "      <td>negative</td>\n",
              "      <td>Salmonella typhimurium (TA 1537), no</td>\n",
              "    </tr>\n",
              "  </tbody>\n",
              "</table>\n",
              "</div>\n",
              "    <div class=\"colab-df-buttons\">\n",
              "\n",
              "  <div class=\"colab-df-container\">\n",
              "    <button class=\"colab-df-convert\" onclick=\"convertToInteractive('df-387cf3d8-5fb8-4014-99d8-65f439471558')\"\n",
              "            title=\"Convert this dataframe to an interactive table.\"\n",
              "            style=\"display:none;\">\n",
              "\n",
              "  <svg xmlns=\"http://www.w3.org/2000/svg\" height=\"24px\" viewBox=\"0 -960 960 960\">\n",
              "    <path d=\"M120-120v-720h720v720H120Zm60-500h600v-160H180v160Zm220 220h160v-160H400v160Zm0 220h160v-160H400v160ZM180-400h160v-160H180v160Zm440 0h160v-160H620v160ZM180-180h160v-160H180v160Zm440 0h160v-160H620v160Z\"/>\n",
              "  </svg>\n",
              "    </button>\n",
              "\n",
              "  <style>\n",
              "    .colab-df-container {\n",
              "      display:flex;\n",
              "      gap: 12px;\n",
              "    }\n",
              "\n",
              "    .colab-df-convert {\n",
              "      background-color: #E8F0FE;\n",
              "      border: none;\n",
              "      border-radius: 50%;\n",
              "      cursor: pointer;\n",
              "      display: none;\n",
              "      fill: #1967D2;\n",
              "      height: 32px;\n",
              "      padding: 0 0 0 0;\n",
              "      width: 32px;\n",
              "    }\n",
              "\n",
              "    .colab-df-convert:hover {\n",
              "      background-color: #E2EBFA;\n",
              "      box-shadow: 0px 1px 2px rgba(60, 64, 67, 0.3), 0px 1px 3px 1px rgba(60, 64, 67, 0.15);\n",
              "      fill: #174EA6;\n",
              "    }\n",
              "\n",
              "    .colab-df-buttons div {\n",
              "      margin-bottom: 4px;\n",
              "    }\n",
              "\n",
              "    [theme=dark] .colab-df-convert {\n",
              "      background-color: #3B4455;\n",
              "      fill: #D2E3FC;\n",
              "    }\n",
              "\n",
              "    [theme=dark] .colab-df-convert:hover {\n",
              "      background-color: #434B5C;\n",
              "      box-shadow: 0px 1px 3px 1px rgba(0, 0, 0, 0.15);\n",
              "      filter: drop-shadow(0px 1px 2px rgba(0, 0, 0, 0.3));\n",
              "      fill: #FFFFFF;\n",
              "    }\n",
              "  </style>\n",
              "\n",
              "    <script>\n",
              "      const buttonEl =\n",
              "        document.querySelector('#df-387cf3d8-5fb8-4014-99d8-65f439471558 button.colab-df-convert');\n",
              "      buttonEl.style.display =\n",
              "        google.colab.kernel.accessAllowed ? 'block' : 'none';\n",
              "\n",
              "      async function convertToInteractive(key) {\n",
              "        const element = document.querySelector('#df-387cf3d8-5fb8-4014-99d8-65f439471558');\n",
              "        const dataTable =\n",
              "          await google.colab.kernel.invokeFunction('convertToInteractive',\n",
              "                                                    [key], {});\n",
              "        if (!dataTable) return;\n",
              "\n",
              "        const docLinkHtml = 'Like what you see? Visit the ' +\n",
              "          '<a target=\"_blank\" href=https://colab.research.google.com/notebooks/data_table.ipynb>data table notebook</a>'\n",
              "          + ' to learn more about interactive tables.';\n",
              "        element.innerHTML = '';\n",
              "        dataTable['output_type'] = 'display_data';\n",
              "        await google.colab.output.renderOutput(dataTable, element);\n",
              "        const docLink = document.createElement('div');\n",
              "        docLink.innerHTML = docLinkHtml;\n",
              "        element.appendChild(docLink);\n",
              "      }\n",
              "    </script>\n",
              "  </div>\n",
              "\n",
              "\n",
              "<div id=\"df-55c1f4ee-2e14-42ce-84e0-aafcfefaf2bb\">\n",
              "  <button class=\"colab-df-quickchart\" onclick=\"quickchart('df-55c1f4ee-2e14-42ce-84e0-aafcfefaf2bb')\"\n",
              "            title=\"Suggest charts\"\n",
              "            style=\"display:none;\">\n",
              "\n",
              "<svg xmlns=\"http://www.w3.org/2000/svg\" height=\"24px\"viewBox=\"0 0 24 24\"\n",
              "     width=\"24px\">\n",
              "    <g>\n",
              "        <path d=\"M19 3H5c-1.1 0-2 .9-2 2v14c0 1.1.9 2 2 2h14c1.1 0 2-.9 2-2V5c0-1.1-.9-2-2-2zM9 17H7v-7h2v7zm4 0h-2V7h2v10zm4 0h-2v-4h2v4z\"/>\n",
              "    </g>\n",
              "</svg>\n",
              "  </button>\n",
              "\n",
              "<style>\n",
              "  .colab-df-quickchart {\n",
              "      --bg-color: #E8F0FE;\n",
              "      --fill-color: #1967D2;\n",
              "      --hover-bg-color: #E2EBFA;\n",
              "      --hover-fill-color: #174EA6;\n",
              "      --disabled-fill-color: #AAA;\n",
              "      --disabled-bg-color: #DDD;\n",
              "  }\n",
              "\n",
              "  [theme=dark] .colab-df-quickchart {\n",
              "      --bg-color: #3B4455;\n",
              "      --fill-color: #D2E3FC;\n",
              "      --hover-bg-color: #434B5C;\n",
              "      --hover-fill-color: #FFFFFF;\n",
              "      --disabled-bg-color: #3B4455;\n",
              "      --disabled-fill-color: #666;\n",
              "  }\n",
              "\n",
              "  .colab-df-quickchart {\n",
              "    background-color: var(--bg-color);\n",
              "    border: none;\n",
              "    border-radius: 50%;\n",
              "    cursor: pointer;\n",
              "    display: none;\n",
              "    fill: var(--fill-color);\n",
              "    height: 32px;\n",
              "    padding: 0;\n",
              "    width: 32px;\n",
              "  }\n",
              "\n",
              "  .colab-df-quickchart:hover {\n",
              "    background-color: var(--hover-bg-color);\n",
              "    box-shadow: 0 1px 2px rgba(60, 64, 67, 0.3), 0 1px 3px 1px rgba(60, 64, 67, 0.15);\n",
              "    fill: var(--button-hover-fill-color);\n",
              "  }\n",
              "\n",
              "  .colab-df-quickchart-complete:disabled,\n",
              "  .colab-df-quickchart-complete:disabled:hover {\n",
              "    background-color: var(--disabled-bg-color);\n",
              "    fill: var(--disabled-fill-color);\n",
              "    box-shadow: none;\n",
              "  }\n",
              "\n",
              "  .colab-df-spinner {\n",
              "    border: 2px solid var(--fill-color);\n",
              "    border-color: transparent;\n",
              "    border-bottom-color: var(--fill-color);\n",
              "    animation:\n",
              "      spin 1s steps(1) infinite;\n",
              "  }\n",
              "\n",
              "  @keyframes spin {\n",
              "    0% {\n",
              "      border-color: transparent;\n",
              "      border-bottom-color: var(--fill-color);\n",
              "      border-left-color: var(--fill-color);\n",
              "    }\n",
              "    20% {\n",
              "      border-color: transparent;\n",
              "      border-left-color: var(--fill-color);\n",
              "      border-top-color: var(--fill-color);\n",
              "    }\n",
              "    30% {\n",
              "      border-color: transparent;\n",
              "      border-left-color: var(--fill-color);\n",
              "      border-top-color: var(--fill-color);\n",
              "      border-right-color: var(--fill-color);\n",
              "    }\n",
              "    40% {\n",
              "      border-color: transparent;\n",
              "      border-right-color: var(--fill-color);\n",
              "      border-top-color: var(--fill-color);\n",
              "    }\n",
              "    60% {\n",
              "      border-color: transparent;\n",
              "      border-right-color: var(--fill-color);\n",
              "    }\n",
              "    80% {\n",
              "      border-color: transparent;\n",
              "      border-right-color: var(--fill-color);\n",
              "      border-bottom-color: var(--fill-color);\n",
              "    }\n",
              "    90% {\n",
              "      border-color: transparent;\n",
              "      border-bottom-color: var(--fill-color);\n",
              "    }\n",
              "  }\n",
              "</style>\n",
              "\n",
              "  <script>\n",
              "    async function quickchart(key) {\n",
              "      const quickchartButtonEl =\n",
              "        document.querySelector('#' + key + ' button');\n",
              "      quickchartButtonEl.disabled = true;  // To prevent multiple clicks.\n",
              "      quickchartButtonEl.classList.add('colab-df-spinner');\n",
              "      try {\n",
              "        const charts = await google.colab.kernel.invokeFunction(\n",
              "            'suggestCharts', [key], {});\n",
              "      } catch (error) {\n",
              "        console.error('Error during call to suggestCharts:', error);\n",
              "      }\n",
              "      quickchartButtonEl.classList.remove('colab-df-spinner');\n",
              "      quickchartButtonEl.classList.add('colab-df-quickchart-complete');\n",
              "    }\n",
              "    (() => {\n",
              "      let quickchartButtonEl =\n",
              "        document.querySelector('#df-55c1f4ee-2e14-42ce-84e0-aafcfefaf2bb button');\n",
              "      quickchartButtonEl.style.display =\n",
              "        google.colab.kernel.accessAllowed ? 'block' : 'none';\n",
              "    })();\n",
              "  </script>\n",
              "</div>\n",
              "\n",
              "    </div>\n",
              "  </div>\n"
            ],
            "application/vnd.google.colaboratory.intrinsic+json": {
              "type": "dataframe",
              "variable_name": "gentox_data",
              "summary": "{\n  \"name\": \"gentox_data\",\n  \"rows\": 53881,\n  \"fields\": [\n    {\n      \"column\": \"datapoint ID\",\n      \"properties\": {\n        \"dtype\": \"number\",\n        \"std\": 15554,\n        \"min\": 0,\n        \"max\": 53880,\n        \"num_unique_values\": 53881,\n        \"samples\": [\n          1812,\n          28700,\n          21611\n        ],\n        \"semantic_type\": \"\",\n        \"description\": \"\"\n      }\n    },\n    {\n      \"column\": \"smiles_std\",\n      \"properties\": {\n        \"dtype\": \"category\",\n        \"num_unique_values\": 7329,\n        \"samples\": [\n          \"CCCCCCCCSC(=O)Oc1cc(Cl)nnc1-c1ccccc1\",\n          \"CC1(C)C(C=C(Cl)C(F)(F)F)C1C(=O)OC(C(N)=O)c1cccc(Oc2ccccc2)c1\",\n          \"CC(=O)OCc1cc(C(C)=O)ccc1OC(C)=O\"\n        ],\n        \"semantic_type\": \"\",\n        \"description\": \"\"\n      }\n    },\n    {\n      \"column\": \"genotoxicity\",\n      \"properties\": {\n        \"dtype\": \"category\",\n        \"num_unique_values\": 3,\n        \"samples\": [\n          \"negative\",\n          \"positive\",\n          \"ambiguous\"\n        ],\n        \"semantic_type\": \"\",\n        \"description\": \"\"\n      }\n    },\n    {\n      \"column\": \"endpoint\",\n      \"properties\": {\n        \"dtype\": \"category\",\n        \"num_unique_values\": 10,\n        \"samples\": [\n          \"Escherichia coli (WP2 Uvr A), no\",\n          \"Salmonella typhimurium (TA 100), yes\",\n          \"Salmonella typhimurium (TA 1537), yes\"\n        ],\n        \"semantic_type\": \"\",\n        \"description\": \"\"\n      }\n    }\n  ]\n}"
            }
          },
          "metadata": {},
          "execution_count": 26
        }
      ],
      "source": [
        "# load the dataset into a Pandas dataframe\n",
        "gentox_data = pd.read_excel('genotoxicity_dataset.xlsx')\n",
        "gentox_data.head()\n"
      ],
      "metadata": {
        "colab": {
          "base_uri": "https://localhost:8080/",
          "height": 206
        },
        "id": "9b93849fd942748e",
        "outputId": "177ec82f-68a7-4db8-a756-b8d8e76d837c"
      },
      "id": "9b93849fd942748e"
    }
  ],
  "metadata": {
    "kernelspec": {
      "display_name": "Python 3",
      "language": "python",
      "name": "python3"
    },
    "language_info": {
      "codemirror_mode": {
        "name": "ipython",
        "version": 2
      },
      "file_extension": ".py",
      "mimetype": "text/x-python",
      "name": "python",
      "nbconvert_exporter": "python",
      "pygments_lexer": "ipython2",
      "version": "2.7.6"
    },
    "colab": {
      "provenance": [],
      "toc_visible": true
    }
  },
  "nbformat": 4,
  "nbformat_minor": 5
}