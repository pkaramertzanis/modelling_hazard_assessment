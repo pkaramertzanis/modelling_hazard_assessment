{
  "cells": [
    {
      "cell_type": "markdown",
      "source": [
        "# **Lab 1**\n",
        "### 26-27 Februrary 2024\n",
        "\n",
        "\n",
        "In Lab1, we will introduce fundamental data analysis and modelling concepts that will demostrate the lectures of the Computation and Modelling in Hazard Assessment.\n",
        "\n",
        "*   In the first section, we will set the environment and show basic operations\n",
        "\n",
        "*   Then we'll load a dataset with in vitro genotoxocity data and explore it by creating some illustrative visualisations\n",
        "\n",
        "*   Finally, we'll develop our first neural network model to model genotoxicity using a classification model"
      ],
      "metadata": {
        "id": "ED7Wsva1E2Cu"
      },
      "id": "ED7Wsva1E2Cu"
    },
    {
      "cell_type": "markdown",
      "source": [
        "Setup (run this block using the play button or Shift+Enter to install packages and download required data)"
      ],
      "metadata": {
        "id": "KXq20w4JDgnE"
      },
      "id": "KXq20w4JDgnE"
    },
    {
      "cell_type": "markdown",
      "source": [
        "\n",
        "\n",
        "```\n",
        "# This is formatted as code\n",
        "```\n",
        "\n",
        "# New section"
      ],
      "metadata": {
        "id": "jHCdF_x9Emh9"
      },
      "id": "jHCdF_x9Emh9"
    },
    {
      "cell_type": "code",
      "execution_count": 1,
      "id": "initial_id",
      "metadata": {
        "collapsed": true,
        "ExecuteTime": {
          "end_time": "2024-10-28T08:54:10.807752900Z",
          "start_time": "2024-10-28T08:54:10.705819Z"
        },
        "id": "initial_id"
      },
      "outputs": [],
      "source": [
        "# import libraries\n",
        "import numpy as np\n",
        "import pandas as pd"
      ]
    },
    {
      "cell_type": "code",
      "execution_count": 2,
      "outputs": [
        {
          "output_type": "stream",
          "name": "stdout",
          "text": [
            "hello world\n"
          ]
        }
      ],
      "source": [
        "print('hello world')"
      ],
      "metadata": {
        "ExecuteTime": {
          "end_time": "2024-10-28T08:53:31.410881800Z",
          "start_time": "2024-10-28T08:53:31.199110200Z"
        },
        "colab": {
          "base_uri": "https://localhost:8080/"
        },
        "id": "37ff23cf0326397",
        "outputId": "16dab8cf-f2a0-4a72-cbe3-a23702d3e34b"
      },
      "id": "37ff23cf0326397"
    },
    {
      "cell_type": "code",
      "execution_count": null,
      "outputs": [],
      "source": [],
      "metadata": {
        "id": "9b93849fd942748e"
      },
      "id": "9b93849fd942748e"
    }
  ],
  "metadata": {
    "kernelspec": {
      "display_name": "Python 3",
      "language": "python",
      "name": "python3"
    },
    "language_info": {
      "codemirror_mode": {
        "name": "ipython",
        "version": 2
      },
      "file_extension": ".py",
      "mimetype": "text/x-python",
      "name": "python",
      "nbconvert_exporter": "python",
      "pygments_lexer": "ipython2",
      "version": "2.7.6"
    },
    "colab": {
      "provenance": [],
      "toc_visible": true
    }
  },
  "nbformat": 4,
  "nbformat_minor": 5
}